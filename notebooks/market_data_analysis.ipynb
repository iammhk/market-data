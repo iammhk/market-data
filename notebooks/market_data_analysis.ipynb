{
 "cells": [
  {
   "cell_type": "markdown",
   "id": "bdaca3bd",
   "metadata": {},
   "source": [
    "# Market Data Analysis - Getting Started\n",
    "\n",
    "This notebook demonstrates how to use the Market Data Fetcher to download and analyze stock market data."
   ]
  },
  {
   "cell_type": "markdown",
   "id": "c5b327ca",
   "metadata": {},
   "source": [
    "## Setup and Imports"
   ]
  },
  {
   "cell_type": "code",
   "execution_count": null,
   "id": "ac05d171",
   "metadata": {},
   "outputs": [],
   "source": [
    "import sys\n",
    "import os\n",
    "from pathlib import Path\n",
    "\n",
    "# Add project root to path\n",
    "project_root = Path().absolute().parent\n",
    "sys.path.append(str(project_root))\n",
    "\n",
    "# Import our modules\n",
    "from src.data_sources.nse_fetcher import NSEFetcher\n",
    "from src.data_sources.web_scraper import WebScraper\n",
    "from src.utils.data_manager import DataManager\n",
    "from src.utils.config_manager import ConfigManager\n",
    "\n",
    "# Standard libraries\n",
    "import pandas as pd\n",
    "import numpy as np\n",
    "import matplotlib.pyplot as plt\n",
    "import seaborn as sns\n",
    "from datetime import datetime, timedelta\n",
    "\n",
    "# Configure plotting\n",
    "plt.style.use('seaborn-v0_8')\n",
    "plt.rcParams['figure.figsize'] = (12, 8)\n",
    "\n",
    "print(\"Setup complete!\")"
   ]
  },
  {
   "cell_type": "markdown",
   "id": "bb9517f2",
   "metadata": {},
   "source": [
    "## Initialize Data Sources"
   ]
  },
  {
   "cell_type": "code",
   "execution_count": null,
   "id": "cf26dc9f",
   "metadata": {},
   "outputs": [],
   "source": [
    "# Initialize data sources\n",
    "nse_fetcher = NSEFetcher()\n",
    "web_scraper = WebScraper()\n",
    "data_manager = DataManager()\n",
    "config = ConfigManager()\n",
    "\n",
    "print(\"Data sources initialized!\")"
   ]
  },
  {
   "cell_type": "markdown",
   "id": "9cb9c190",
   "metadata": {},
   "source": [
    "## Fetch NSE Index Data"
   ]
  },
  {
   "cell_type": "code",
   "execution_count": null,
   "id": "fe62b92f",
   "metadata": {},
   "outputs": [],
   "source": [
    "# Get NIFTY index data\n",
    "nifty_data = nse_fetcher.get_index_data('NIFTY')\n",
    "\n",
    "if nifty_data:\n",
    "    print(f\"NIFTY 50 Current Value: {nifty_data.get('lastPrice', 'N/A')}\")\n",
    "    print(f\"Change: {nifty_data.get('change', 'N/A')} ({nifty_data.get('pChange', 'N/A')}%)\")\n",
    "    print(f\"High: {nifty_data.get('dayHigh', 'N/A')}\")\n",
    "    print(f\"Low: {nifty_data.get('dayLow', 'N/A')}\")\n",
    "else:\n",
    "    print(\"Failed to fetch NIFTY data\")"
   ]
  },
  {
   "cell_type": "markdown",
   "id": "afc187fb",
   "metadata": {},
   "source": [
    "## Get Top Gainers and Losers"
   ]
  },
  {
   "cell_type": "code",
   "execution_count": null,
   "id": "804831a1",
   "metadata": {},
   "outputs": [],
   "source": [
    "# Get top gainers\n",
    "top_gainers = nse_fetcher.get_top_gainers(5)\n",
    "\n",
    "if top_gainers:\n",
    "    print(\"Top 5 Gainers:\")\n",
    "    gainers_df = pd.DataFrame(top_gainers)\n",
    "    display(gainers_df[['symbol', 'lastPrice', 'change', 'pChange']].head())\n",
    "else:\n",
    "    print(\"Failed to fetch top gainers\")\n",
    "\n",
    "# Get top losers\n",
    "top_losers = nse_fetcher.get_top_losers(5)\n",
    "\n",
    "if top_losers:\n",
    "    print(\"\\nTop 5 Losers:\")\n",
    "    losers_df = pd.DataFrame(top_losers)\n",
    "    display(losers_df[['symbol', 'lastPrice', 'change', 'pChange']].head())\n",
    "else:\n",
    "    print(\"Failed to fetch top losers\")"
   ]
  },
  {
   "cell_type": "markdown",
   "id": "8350c77a",
   "metadata": {},
   "source": [
    "## Fetch Historical Data using Yahoo Finance"
   ]
  },
  {
   "cell_type": "code",
   "execution_count": null,
   "id": "3f90ea64",
   "metadata": {},
   "outputs": [],
   "source": [
    "# Get historical data for RELIANCE\n",
    "symbol = 'RELIANCE.NS'\n",
    "historical_data = web_scraper.get_yahoo_finance_data(symbol, period='3mo')\n",
    "\n",
    "if historical_data is not None and not historical_data.empty:\n",
    "    print(f\"Downloaded {len(historical_data)} days of data for {symbol}\")\n",
    "    print(\"\\nFirst 5 rows:\")\n",
    "    display(historical_data.head())\n",
    "    \n",
    "    print(\"\\nLast 5 rows:\")\n",
    "    display(historical_data.tail())\n",
    "else:\n",
    "    print(f\"Failed to fetch data for {symbol}\")"
   ]
  },
  {
   "cell_type": "markdown",
   "id": "f68b7457",
   "metadata": {},
   "source": [
    "## Visualize Stock Price Data"
   ]
  },
  {
   "cell_type": "code",
   "execution_count": null,
   "id": "cf537ce0",
   "metadata": {},
   "outputs": [],
   "source": [
    "if historical_data is not None and not historical_data.empty:\n",
    "    # Create subplots\n",
    "    fig, (ax1, ax2) = plt.subplots(2, 1, figsize=(12, 10))\n",
    "    \n",
    "    # Plot closing price\n",
    "    ax1.plot(historical_data.index, historical_data['Close'], linewidth=2, label='Close Price')\n",
    "    ax1.set_title(f'{symbol} - Stock Price (Last 3 Months)')\n",
    "    ax1.set_ylabel('Price (INR)')\n",
    "    ax1.legend()\n",
    "    ax1.grid(True, alpha=0.3)\n",
    "    \n",
    "    # Plot volume\n",
    "    ax2.bar(historical_data.index, historical_data['Volume'], alpha=0.6, color='orange')\n",
    "    ax2.set_title(f'{symbol} - Trading Volume')\n",
    "    ax2.set_ylabel('Volume')\n",
    "    ax2.set_xlabel('Date')\n",
    "    ax2.grid(True, alpha=0.3)\n",
    "    \n",
    "    plt.tight_layout()\n",
    "    plt.show()\n",
    "    \n",
    "    # Calculate basic statistics\n",
    "    print(f\"\\nBasic Statistics for {symbol}:\")\n",
    "    print(f\"Current Price: ₹{historical_data['Close'].iloc[-1]:.2f}\")\n",
    "    print(f\"3-Month High: ₹{historical_data['High'].max():.2f}\")\n",
    "    print(f\"3-Month Low: ₹{historical_data['Low'].min():.2f}\")\n",
    "    print(f\"Average Volume: {historical_data['Volume'].mean():,.0f}\")\n",
    "    \n",
    "    # Calculate returns\n",
    "    returns = historical_data['Close'].pct_change().dropna()\n",
    "    print(f\"\\nReturn Statistics:\")\n",
    "    print(f\"Average Daily Return: {returns.mean()*100:.2f}%\")\n",
    "    print(f\"Volatility (Std Dev): {returns.std()*100:.2f}%\")\n",
    "    print(f\"3-Month Return: {((historical_data['Close'].iloc[-1] / historical_data['Close'].iloc[0]) - 1)*100:.2f}%\")"
   ]
  },
  {
   "cell_type": "markdown",
   "id": "4452621d",
   "metadata": {},
   "source": [
    "## Compare Multiple Stocks"
   ]
  },
  {
   "cell_type": "code",
   "execution_count": null,
   "id": "cccc6cb0",
   "metadata": {},
   "outputs": [],
   "source": [
    "# Compare multiple stocks\n",
    "symbols = ['RELIANCE.NS', 'TCS.NS', 'INFY.NS', 'HDFC.NS']\n",
    "comparison_data = web_scraper.get_multiple_stocks_data(symbols, period='1mo')\n",
    "\n",
    "if comparison_data:\n",
    "    # Create comparison chart\n",
    "    plt.figure(figsize=(12, 8))\n",
    "    \n",
    "    for symbol, data in comparison_data.items():\n",
    "        if not data.empty:\n",
    "            # Normalize to percentage change\n",
    "            normalized = (data['Close'] / data['Close'].iloc[0] - 1) * 100\n",
    "            plt.plot(normalized.index, normalized, linewidth=2, label=symbol.replace('.NS', ''))\n",
    "    \n",
    "    plt.title('Stock Performance Comparison (1 Month) - Normalized')\n",
    "    plt.xlabel('Date')\n",
    "    plt.ylabel('Percentage Change (%)')\n",
    "    plt.legend()\n",
    "    plt.grid(True, alpha=0.3)\n",
    "    plt.axhline(y=0, color='black', linestyle='-', alpha=0.5)\n",
    "    plt.tight_layout()\n",
    "    plt.show()\n",
    "    \n",
    "    # Performance summary\n",
    "    print(\"\\n1-Month Performance Summary:\")\n",
    "    for symbol, data in comparison_data.items():\n",
    "        if not data.empty:\n",
    "            performance = ((data['Close'].iloc[-1] / data['Close'].iloc[0]) - 1) * 100\n",
    "            print(f\"{symbol.replace('.NS', '')}: {performance:.2f}%\")"
   ]
  },
  {
   "cell_type": "markdown",
   "id": "eee4b3d9",
   "metadata": {},
   "source": [
    "## Get Market News"
   ]
  },
  {
   "cell_type": "code",
   "execution_count": null,
   "id": "7c501d96",
   "metadata": {},
   "outputs": [],
   "source": [
    "# Get latest market news\n",
    "news = web_scraper.get_market_news()\n",
    "\n",
    "if news:\n",
    "    print(f\"Found {len(news)} news articles:\")\n",
    "    print(\"\\nLatest Market News:\")\n",
    "    \n",
    "    for i, article in enumerate(news[:5]):\n",
    "        print(f\"\\n{i+1}. {article.get('title', 'No title')}\")\n",
    "        print(f\"   Source: {article.get('source', 'Unknown')}\")\n",
    "        if article.get('summary'):\n",
    "            print(f\"   Summary: {article['summary'][:100]}...\")\n",
    "else:\n",
    "    print(\"No news articles found\")"
   ]
  },
  {
   "cell_type": "markdown",
   "id": "d6f91e1d",
   "metadata": {},
   "source": [
    "## Currency Rates"
   ]
  },
  {
   "cell_type": "code",
   "execution_count": null,
   "id": "857d8160",
   "metadata": {},
   "outputs": [],
   "source": [
    "# Get currency rates\n",
    "rates = web_scraper.get_currency_rates()\n",
    "\n",
    "if rates:\n",
    "    print(\"Current Currency Rates:\")\n",
    "    for pair, rate in rates.items():\n",
    "        print(f\"{pair}: {rate}\")\n",
    "else:\n",
    "    print(\"Failed to fetch currency rates\")"
   ]
  },
  {
   "cell_type": "markdown",
   "id": "c6038bd5",
   "metadata": {},
   "source": [
    "## Store Data in Database"
   ]
  },
  {
   "cell_type": "code",
   "execution_count": null,
   "id": "54323a18",
   "metadata": {},
   "outputs": [],
   "source": [
    "# Store historical data in database\n",
    "if historical_data is not None and not historical_data.empty:\n",
    "    # Add symbol column\n",
    "    historical_data_copy = historical_data.copy()\n",
    "    historical_data_copy['symbol'] = symbol.replace('.NS', '')\n",
    "    historical_data_copy['date'] = historical_data_copy.index.date\n",
    "    \n",
    "    # Store in database\n",
    "    data_manager.store_stock_data(historical_data_copy, source='yahoo_finance')\n",
    "    print(f\"Stored {len(historical_data_copy)} records for {symbol} in database\")\n",
    "\n",
    "# Store index data\n",
    "if nifty_data:\n",
    "    data_manager.store_index_data(\n",
    "        index_name='NIFTY',\n",
    "        value=float(nifty_data.get('lastPrice', 0)),\n",
    "        change_points=float(nifty_data.get('change', 0)),\n",
    "        change_percent=float(nifty_data.get('pChange', 0)),\n",
    "        source='nse'\n",
    "    )\n",
    "    print(\"Stored NIFTY index data in database\")\n",
    "\n",
    "# Get data summary\n",
    "summary = data_manager.get_data_summary()\n",
    "print(\"\\nDatabase Summary:\")\n",
    "for key, value in summary.items():\n",
    "    print(f\"{key}: {value}\")"
   ]
  },
  {
   "cell_type": "markdown",
   "id": "2f117165",
   "metadata": {},
   "source": [
    "## Export Data"
   ]
  },
  {
   "cell_type": "code",
   "execution_count": null,
   "id": "cc7fe6fa",
   "metadata": {},
   "outputs": [],
   "source": [
    "# Add a stock to watchlist\n",
    "data_manager.add_to_watchlist('RELIANCE', name='Reliance Industries Limited', exchange='NSE', sector='Energy')\n",
    "data_manager.add_to_watchlist('TCS', name='Tata Consultancy Services', exchange='NSE', sector='IT')\n",
    "data_manager.add_to_watchlist('INFY', name='Infosys Limited', exchange='NSE', sector='IT')\n",
    "\n",
    "# Get watchlist\n",
    "watchlist = data_manager.get_watchlist()\n",
    "print(\"Current Watchlist:\")\n",
    "for item in watchlist:\n",
    "    print(f\"- {item['symbol']}: {item['name']}\")\n",
    "\n",
    "# Export data to CSV\n",
    "export_path = data_manager.export_to_csv('RELIANCE')\n",
    "if export_path:\n",
    "    print(f\"\\nData exported to: {export_path}\")\n",
    "else:\n",
    "    print(\"\\nNo data available for export\")"
   ]
  },
  {
   "cell_type": "markdown",
   "id": "b55ea1b5",
   "metadata": {},
   "source": [
    "## Summary\n",
    "\n",
    "This notebook demonstrated:\n",
    "1. Setting up and initializing the market data fetcher\n",
    "2. Fetching real-time data from NSE\n",
    "3. Getting historical data using Yahoo Finance\n",
    "4. Visualizing stock price movements and volume\n",
    "5. Comparing multiple stocks\n",
    "6. Retrieving market news\n",
    "7. Getting currency exchange rates\n",
    "8. Storing data in the database\n",
    "9. Managing watchlists and exporting data\n",
    "\n",
    "You can extend this notebook to:\n",
    "- Add technical indicators\n",
    "- Perform more advanced analysis\n",
    "- Create automated reporting\n",
    "- Integrate with Zerodha API for trading data\n",
    "- Build custom alerts and notifications"
   ]
  }
 ],
 "metadata": {
  "language_info": {
   "name": "python"
  }
 },
 "nbformat": 4,
 "nbformat_minor": 5
}
