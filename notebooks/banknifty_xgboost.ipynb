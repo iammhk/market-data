{
 "cells": [
  {
   "cell_type": "code",
   "execution_count": 1,
   "id": "622d17c2",
   "metadata": {},
   "outputs": [
    {
     "name": "stdout",
     "output_type": "stream",
     "text": [
      "🚀 LOADING BANK NIFTY OPTIONS DATA\n",
      "==================================================\n",
      "📂 Project root: c:\\Users\\91894\\Projects\\market-data\n",
      "🔧 Source path: c:\\Users\\91894\\Projects\\market-data\\src\n",
      "✅ Successfully imported options_data_loader\n",
      "📁 Data path: c:\\Users\\91894\\Projects\\market-data\\data\n",
      "\n",
      "🔄 Loading Bank Nifty options data...\n",
      "📂 LOADING BANK NIFTY OPTIONS DATA\n",
      "========================================\n",
      "📋 Found 12 Bank Nifty options files:\n",
      "  1. OPTIDX_BANKNIFTY_CE_01-Apr-2024_TO_30-Jun-2024.csv\n",
      "  2. OPTIDX_BANKNIFTY_CE_01-Apr-2025_TO_30-Jun-2025.csv\n",
      "  3. OPTIDX_BANKNIFTY_CE_01-Jan-2024_TO_31-Mar-2024.csv\n",
      "  4. OPTIDX_BANKNIFTY_CE_01-Jan-2025_TO_31-Mar-2025.csv\n",
      "  5. OPTIDX_BANKNIFTY_CE_01-Jul-2024_TO_30-Sep-2024.csv\n",
      "  6. OPTIDX_BANKNIFTY_CE_01-Oct-2024_TO_31-Dec-2024.csv\n",
      "  7. OPTIDX_BANKNIFTY_PE_01-Apr-2024_TO_30-Jun-2024.csv\n",
      "  8. OPTIDX_BANKNIFTY_PE_01-Apr-2025_TO_30-Jun-2025.csv\n",
      "  9. OPTIDX_BANKNIFTY_PE_01-Jan-2024_TO_31-Mar-2024.csv\n",
      "  10. OPTIDX_BANKNIFTY_PE_01-Jan-2025_TO_31-Mar-2025.csv\n",
      "  11. OPTIDX_BANKNIFTY_PE_01-Jul-2024_TO_30-Sep-2024.csv\n",
      "  12. OPTIDX_BANKNIFTY_PE_01-Oct-2024_TO_31-Dec-2024.csv\n",
      "✅ Loaded: OPTIDX_BANKNIFTY_CE_01-Apr-2024_TO_30-Jun-2024.csv - 47348 records\n",
      "✅ Loaded: OPTIDX_BANKNIFTY_CE_01-Apr-2025_TO_30-Jun-2025.csv - 30938 records\n",
      "✅ Successfully imported options_data_loader\n",
      "📁 Data path: c:\\Users\\91894\\Projects\\market-data\\data\n",
      "\n",
      "🔄 Loading Bank Nifty options data...\n",
      "📂 LOADING BANK NIFTY OPTIONS DATA\n",
      "========================================\n",
      "📋 Found 12 Bank Nifty options files:\n",
      "  1. OPTIDX_BANKNIFTY_CE_01-Apr-2024_TO_30-Jun-2024.csv\n",
      "  2. OPTIDX_BANKNIFTY_CE_01-Apr-2025_TO_30-Jun-2025.csv\n",
      "  3. OPTIDX_BANKNIFTY_CE_01-Jan-2024_TO_31-Mar-2024.csv\n",
      "  4. OPTIDX_BANKNIFTY_CE_01-Jan-2025_TO_31-Mar-2025.csv\n",
      "  5. OPTIDX_BANKNIFTY_CE_01-Jul-2024_TO_30-Sep-2024.csv\n",
      "  6. OPTIDX_BANKNIFTY_CE_01-Oct-2024_TO_31-Dec-2024.csv\n",
      "  7. OPTIDX_BANKNIFTY_PE_01-Apr-2024_TO_30-Jun-2024.csv\n",
      "  8. OPTIDX_BANKNIFTY_PE_01-Apr-2025_TO_30-Jun-2025.csv\n",
      "  9. OPTIDX_BANKNIFTY_PE_01-Jan-2024_TO_31-Mar-2024.csv\n",
      "  10. OPTIDX_BANKNIFTY_PE_01-Jan-2025_TO_31-Mar-2025.csv\n",
      "  11. OPTIDX_BANKNIFTY_PE_01-Jul-2024_TO_30-Sep-2024.csv\n",
      "  12. OPTIDX_BANKNIFTY_PE_01-Oct-2024_TO_31-Dec-2024.csv\n",
      "✅ Loaded: OPTIDX_BANKNIFTY_CE_01-Apr-2024_TO_30-Jun-2024.csv - 47348 records\n",
      "✅ Loaded: OPTIDX_BANKNIFTY_CE_01-Apr-2025_TO_30-Jun-2025.csv - 30938 records\n",
      "✅ Loaded: OPTIDX_BANKNIFTY_CE_01-Jan-2024_TO_31-Mar-2024.csv - 45794 records\n",
      "✅ Loaded: OPTIDX_BANKNIFTY_CE_01-Jan-2025_TO_31-Mar-2025.csv - 27102 records\n",
      "✅ Loaded: OPTIDX_BANKNIFTY_CE_01-Jul-2024_TO_30-Sep-2024.csv - 49793 records\n",
      "✅ Loaded: OPTIDX_BANKNIFTY_CE_01-Jan-2024_TO_31-Mar-2024.csv - 45794 records\n",
      "✅ Loaded: OPTIDX_BANKNIFTY_CE_01-Jan-2025_TO_31-Mar-2025.csv - 27102 records\n",
      "✅ Loaded: OPTIDX_BANKNIFTY_CE_01-Jul-2024_TO_30-Sep-2024.csv - 49793 records\n",
      "✅ Loaded: OPTIDX_BANKNIFTY_CE_01-Oct-2024_TO_31-Dec-2024.csv - 32568 records\n",
      "✅ Loaded: OPTIDX_BANKNIFTY_PE_01-Apr-2024_TO_30-Jun-2024.csv - 47352 records\n",
      "✅ Loaded: OPTIDX_BANKNIFTY_PE_01-Apr-2025_TO_30-Jun-2025.csv - 30940 records\n",
      "✅ Loaded: OPTIDX_BANKNIFTY_CE_01-Oct-2024_TO_31-Dec-2024.csv - 32568 records\n",
      "✅ Loaded: OPTIDX_BANKNIFTY_PE_01-Apr-2024_TO_30-Jun-2024.csv - 47352 records\n",
      "✅ Loaded: OPTIDX_BANKNIFTY_PE_01-Apr-2025_TO_30-Jun-2025.csv - 30940 records\n",
      "✅ Loaded: OPTIDX_BANKNIFTY_PE_01-Jan-2024_TO_31-Mar-2024.csv - 45808 records\n",
      "✅ Loaded: OPTIDX_BANKNIFTY_PE_01-Jan-2025_TO_31-Mar-2025.csv - 27102 records\n",
      "✅ Loaded: OPTIDX_BANKNIFTY_PE_01-Jul-2024_TO_30-Sep-2024.csv - 49835 records\n",
      "✅ Loaded: OPTIDX_BANKNIFTY_PE_01-Jan-2024_TO_31-Mar-2024.csv - 45808 records\n",
      "✅ Loaded: OPTIDX_BANKNIFTY_PE_01-Jan-2025_TO_31-Mar-2025.csv - 27102 records\n",
      "✅ Loaded: OPTIDX_BANKNIFTY_PE_01-Jul-2024_TO_30-Sep-2024.csv - 49835 records\n",
      "✅ Loaded: OPTIDX_BANKNIFTY_PE_01-Oct-2024_TO_31-Dec-2024.csv - 32568 records\n",
      "✅ Loaded: OPTIDX_BANKNIFTY_PE_01-Oct-2024_TO_31-Dec-2024.csv - 32568 records\n",
      "\n",
      "📊 MERGED DATASET SUMMARY:\n",
      "------------------------------\n",
      "📈 Total Options Records: 467,148\n",
      "📞 Call Options (CE): 233,543\n",
      "📉 Put Options (PE): 233,605\n",
      "📅 Date Range: 01-Jan-2024 to 30-Jun-2025\n",
      "🎯 Expiry Range: 03-Jan-2024 to 30-Jun-2026\n",
      "📋 Unique Expiries: 71\n",
      "📄 Source Files: 12\n",
      "\n",
      "📋 DATASET COLUMNS:\n",
      "--------------------\n",
      "   1. Symbol\n",
      "   2. Date\n",
      "   3. Expiry\n",
      "   4. Option type\n",
      "   5. Strike Price\n",
      "   6. Open\n",
      "   7. High\n",
      "   8. Low\n",
      "   9. Close\n",
      "  10. LTP\n",
      "  11. Settle Price\n",
      "  12. No. of contracts\n",
      "  13. Turnover * in  ₹ Lakhs\n",
      "  14. Premium Turnover ** in   ₹ Lakhs\n",
      "  15. Open Int\n",
      "  16. Change in OI\n",
      "  17. Underlying Value\n",
      "  18. Source_File\n",
      "\n",
      "🔍 DATA QUALITY CHECK:\n",
      "-------------------------\n",
      "✅ Missing Values Summary (after replacing '-' with NaN):\n",
      "   Open: 233,295 missing values (49.9%)\n",
      "   High: 233,295 missing values (49.9%)\n",
      "   Low: 233,295 missing values (49.9%)\n",
      "   LTP: 162,517 missing values (34.8%)\n",
      "   Settle Price: 1,018 missing values (0.2%)\n",
      "   No. of contracts: 233,295 missing values (49.9%)\n",
      "   Turnover * in  ₹ Lakhs: 233,295 missing values (49.9%)\n",
      "   Premium Turnover ** in   ₹ Lakhs: 234,022 missing values (50.1%)\n",
      "   Open Int: 165,729 missing values (35.5%)\n",
      "   Change in OI: 242,932 missing values (52.0%)\n",
      "   Underlying Value: 89,553 missing values (19.2%)\n",
      "⚠️ Found 464084 potential duplicate records\n",
      "\n",
      "📊 EXPIRY BREAKDOWN:\n",
      "--------------------\n",
      "  03-Jan-2024: 696 records\n",
      "  10-Jan-2024: 1350 records\n",
      "  17-Jan-2024: 2222 records\n",
      "  25-Jan-2024: 4938 records\n",
      "  31-Jan-2024: 4124 records\n",
      "  07-Feb-2024: 4754 records\n",
      "  14-Feb-2024: 5024 records\n",
      "  21-Feb-2024: 4358 records\n",
      "  29-Feb-2024: 9492 records\n",
      "  06-Mar-2024: 4922 records\n",
      "  13-Mar-2024: 4946 records\n",
      "  20-Mar-2024: 4678 records\n",
      "  27-Mar-2024: 4104 records\n",
      "  28-Mar-2024: 9030 records\n",
      "  03-Apr-2024: 5288 records\n",
      "  10-Apr-2024: 4124 records\n",
      "  16-Apr-2024: 3854 records\n",
      "  24-Apr-2024: 7838 records\n",
      "  25-Apr-2024: 4498 records\n",
      "  30-Apr-2024: 4928 records\n",
      "  08-May-2024: 4256 records\n",
      "  15-May-2024: 4370 records\n",
      "  22-May-2024: 4744 records\n",
      "  29-May-2024: 12496 records\n",
      "  05-Jun-2024: 4918 records\n",
      "  12-Jun-2024: 4924 records\n",
      "  19-Jun-2024: 4992 records\n",
      "  26-Jun-2024: 13626 records\n",
      "  27-Jun-2024: 1083 records\n",
      "  03-Jul-2024: 6814 records\n",
      "  10-Jul-2024: 5064 records\n",
      "  16-Jul-2024: 4800 records\n",
      "  24-Jul-2024: 4484 records\n",
      "  31-Jul-2024: 15902 records\n",
      "  07-Aug-2024: 4502 records\n",
      "  14-Aug-2024: 4550 records\n",
      "  21-Aug-2024: 4748 records\n",
      "  28-Aug-2024: 16550 records\n",
      "  04-Sep-2024: 5510 records\n",
      "  11-Sep-2024: 4470 records\n",
      "  18-Sep-2024: 4644 records\n",
      "  25-Sep-2024: 15858 records\n",
      "  26-Sep-2024: 1083 records\n",
      "  01-Oct-2024: 5604 records\n",
      "  09-Oct-2024: 5024 records\n",
      "  16-Oct-2024: 5180 records\n",
      "  23-Oct-2024: 5108 records\n",
      "  30-Oct-2024: 14004 records\n",
      "  06-Nov-2024: 5106 records\n",
      "  13-Nov-2024: 4562 records\n",
      "  27-Nov-2024: 13828 records\n",
      "  24-Dec-2024: 18344 records\n",
      "  26-Dec-2024: 1076 records\n",
      "  29-Jan-2025: 8816 records\n",
      "  30-Jan-2025: 5638 records\n",
      "  26-Feb-2025: 4644 records\n",
      "  27-Feb-2025: 11630 records\n",
      "  26-Mar-2025: 5686 records\n",
      "  27-Mar-2025: 15778 records\n",
      "  24-Apr-2025: 15282 records\n",
      "  29-May-2025: 18888 records\n",
      "  25-Jun-2025: 3370 records\n",
      "  26-Jun-2025: 21260 records\n",
      "  31-Jul-2025: 12340 records\n",
      "  28-Aug-2025: 5388 records\n",
      "  24-Sep-2025: 1732 records\n",
      "  25-Sep-2025: 3896 records\n",
      "  24-Dec-2025: 3464 records\n",
      "  31-Dec-2025: 110 records\n",
      "  26-Mar-2026: 1790 records\n",
      "  30-Jun-2026:  44 records\n",
      "\n",
      "✅ Successfully loaded and separated Bank Nifty options data!\n",
      "📊 Datasets available:\n",
      "   📞 Call Options (CE): 233,543 records\n",
      "   📉 Put Options (PE): 233,605 records\n",
      "   📋 Total Options: 467,148 records\n",
      "\n",
      "📊 MERGED DATASET SUMMARY:\n",
      "------------------------------\n",
      "📈 Total Options Records: 467,148\n",
      "📞 Call Options (CE): 233,543\n",
      "📉 Put Options (PE): 233,605\n",
      "📅 Date Range: 01-Jan-2024 to 30-Jun-2025\n",
      "🎯 Expiry Range: 03-Jan-2024 to 30-Jun-2026\n",
      "📋 Unique Expiries: 71\n",
      "📄 Source Files: 12\n",
      "\n",
      "📋 DATASET COLUMNS:\n",
      "--------------------\n",
      "   1. Symbol\n",
      "   2. Date\n",
      "   3. Expiry\n",
      "   4. Option type\n",
      "   5. Strike Price\n",
      "   6. Open\n",
      "   7. High\n",
      "   8. Low\n",
      "   9. Close\n",
      "  10. LTP\n",
      "  11. Settle Price\n",
      "  12. No. of contracts\n",
      "  13. Turnover * in  ₹ Lakhs\n",
      "  14. Premium Turnover ** in   ₹ Lakhs\n",
      "  15. Open Int\n",
      "  16. Change in OI\n",
      "  17. Underlying Value\n",
      "  18. Source_File\n",
      "\n",
      "🔍 DATA QUALITY CHECK:\n",
      "-------------------------\n",
      "✅ Missing Values Summary (after replacing '-' with NaN):\n",
      "   Open: 233,295 missing values (49.9%)\n",
      "   High: 233,295 missing values (49.9%)\n",
      "   Low: 233,295 missing values (49.9%)\n",
      "   LTP: 162,517 missing values (34.8%)\n",
      "   Settle Price: 1,018 missing values (0.2%)\n",
      "   No. of contracts: 233,295 missing values (49.9%)\n",
      "   Turnover * in  ₹ Lakhs: 233,295 missing values (49.9%)\n",
      "   Premium Turnover ** in   ₹ Lakhs: 234,022 missing values (50.1%)\n",
      "   Open Int: 165,729 missing values (35.5%)\n",
      "   Change in OI: 242,932 missing values (52.0%)\n",
      "   Underlying Value: 89,553 missing values (19.2%)\n",
      "⚠️ Found 464084 potential duplicate records\n",
      "\n",
      "📊 EXPIRY BREAKDOWN:\n",
      "--------------------\n",
      "  03-Jan-2024: 696 records\n",
      "  10-Jan-2024: 1350 records\n",
      "  17-Jan-2024: 2222 records\n",
      "  25-Jan-2024: 4938 records\n",
      "  31-Jan-2024: 4124 records\n",
      "  07-Feb-2024: 4754 records\n",
      "  14-Feb-2024: 5024 records\n",
      "  21-Feb-2024: 4358 records\n",
      "  29-Feb-2024: 9492 records\n",
      "  06-Mar-2024: 4922 records\n",
      "  13-Mar-2024: 4946 records\n",
      "  20-Mar-2024: 4678 records\n",
      "  27-Mar-2024: 4104 records\n",
      "  28-Mar-2024: 9030 records\n",
      "  03-Apr-2024: 5288 records\n",
      "  10-Apr-2024: 4124 records\n",
      "  16-Apr-2024: 3854 records\n",
      "  24-Apr-2024: 7838 records\n",
      "  25-Apr-2024: 4498 records\n",
      "  30-Apr-2024: 4928 records\n",
      "  08-May-2024: 4256 records\n",
      "  15-May-2024: 4370 records\n",
      "  22-May-2024: 4744 records\n",
      "  29-May-2024: 12496 records\n",
      "  05-Jun-2024: 4918 records\n",
      "  12-Jun-2024: 4924 records\n",
      "  19-Jun-2024: 4992 records\n",
      "  26-Jun-2024: 13626 records\n",
      "  27-Jun-2024: 1083 records\n",
      "  03-Jul-2024: 6814 records\n",
      "  10-Jul-2024: 5064 records\n",
      "  16-Jul-2024: 4800 records\n",
      "  24-Jul-2024: 4484 records\n",
      "  31-Jul-2024: 15902 records\n",
      "  07-Aug-2024: 4502 records\n",
      "  14-Aug-2024: 4550 records\n",
      "  21-Aug-2024: 4748 records\n",
      "  28-Aug-2024: 16550 records\n",
      "  04-Sep-2024: 5510 records\n",
      "  11-Sep-2024: 4470 records\n",
      "  18-Sep-2024: 4644 records\n",
      "  25-Sep-2024: 15858 records\n",
      "  26-Sep-2024: 1083 records\n",
      "  01-Oct-2024: 5604 records\n",
      "  09-Oct-2024: 5024 records\n",
      "  16-Oct-2024: 5180 records\n",
      "  23-Oct-2024: 5108 records\n",
      "  30-Oct-2024: 14004 records\n",
      "  06-Nov-2024: 5106 records\n",
      "  13-Nov-2024: 4562 records\n",
      "  27-Nov-2024: 13828 records\n",
      "  24-Dec-2024: 18344 records\n",
      "  26-Dec-2024: 1076 records\n",
      "  29-Jan-2025: 8816 records\n",
      "  30-Jan-2025: 5638 records\n",
      "  26-Feb-2025: 4644 records\n",
      "  27-Feb-2025: 11630 records\n",
      "  26-Mar-2025: 5686 records\n",
      "  27-Mar-2025: 15778 records\n",
      "  24-Apr-2025: 15282 records\n",
      "  29-May-2025: 18888 records\n",
      "  25-Jun-2025: 3370 records\n",
      "  26-Jun-2025: 21260 records\n",
      "  31-Jul-2025: 12340 records\n",
      "  28-Aug-2025: 5388 records\n",
      "  24-Sep-2025: 1732 records\n",
      "  25-Sep-2025: 3896 records\n",
      "  24-Dec-2025: 3464 records\n",
      "  31-Dec-2025: 110 records\n",
      "  26-Mar-2026: 1790 records\n",
      "  30-Jun-2026:  44 records\n",
      "\n",
      "✅ Successfully loaded and separated Bank Nifty options data!\n",
      "📊 Datasets available:\n",
      "   📞 Call Options (CE): 233,543 records\n",
      "   📉 Put Options (PE): 233,605 records\n",
      "   📋 Total Options: 467,148 records\n",
      "\n",
      "📊 DATA LOADING RESULTS:\n",
      "------------------------------\n",
      "✅ CALL OPTIONS:\n",
      "   📈 Records: 233,543\n",
      "   📅 Date range: 2024-01-01 00:00:00 to 2025-06-30 00:00:00\n",
      "   💰 Strike range: ₹34,500 - ₹65,000\n",
      "   📋 Columns: ['Symbol', 'Date', 'Expiry', 'Option type', 'Strike Price', 'Open', 'High', 'Low', 'Close', 'LTP', 'Settle Price', 'No. of contracts', 'Turnover * in  ₹ Lakhs', 'Premium Turnover ** in   ₹ Lakhs', 'Open Int', 'Change in OI', 'Underlying Value', 'Source_File']\n",
      "\n",
      "🔍 CALL OPTIONS SAMPLE DATA (First 3 records):\n",
      "---------------------------------------------\n",
      "\n",
      "📊 DATA LOADING RESULTS:\n",
      "------------------------------\n",
      "✅ CALL OPTIONS:\n",
      "   📈 Records: 233,543\n",
      "   📅 Date range: 2024-01-01 00:00:00 to 2025-06-30 00:00:00\n",
      "   💰 Strike range: ₹34,500 - ₹65,000\n",
      "   📋 Columns: ['Symbol', 'Date', 'Expiry', 'Option type', 'Strike Price', 'Open', 'High', 'Low', 'Close', 'LTP', 'Settle Price', 'No. of contracts', 'Turnover * in  ₹ Lakhs', 'Premium Turnover ** in   ₹ Lakhs', 'Open Int', 'Change in OI', 'Underlying Value', 'Source_File']\n",
      "\n",
      "🔍 CALL OPTIONS SAMPLE DATA (First 3 records):\n",
      "---------------------------------------------\n"
     ]
    },
    {
     "data": {
      "text/html": [
       "<div>\n",
       "<style scoped>\n",
       "    .dataframe tbody tr th:only-of-type {\n",
       "        vertical-align: middle;\n",
       "    }\n",
       "\n",
       "    .dataframe tbody tr th {\n",
       "        vertical-align: top;\n",
       "    }\n",
       "\n",
       "    .dataframe thead th {\n",
       "        text-align: right;\n",
       "    }\n",
       "</style>\n",
       "<table border=\"1\" class=\"dataframe\">\n",
       "  <thead>\n",
       "    <tr style=\"text-align: right;\">\n",
       "      <th></th>\n",
       "      <th>Symbol</th>\n",
       "      <th>Date</th>\n",
       "      <th>Expiry</th>\n",
       "      <th>Option type</th>\n",
       "      <th>Strike Price</th>\n",
       "      <th>Open</th>\n",
       "      <th>High</th>\n",
       "      <th>Low</th>\n",
       "      <th>Close</th>\n",
       "      <th>LTP</th>\n",
       "      <th>Settle Price</th>\n",
       "      <th>No. of contracts</th>\n",
       "      <th>Turnover * in  ₹ Lakhs</th>\n",
       "      <th>Premium Turnover ** in   ₹ Lakhs</th>\n",
       "      <th>Open Int</th>\n",
       "      <th>Change in OI</th>\n",
       "      <th>Underlying Value</th>\n",
       "      <th>Source_File</th>\n",
       "    </tr>\n",
       "  </thead>\n",
       "  <tbody>\n",
       "    <tr>\n",
       "      <th>0</th>\n",
       "      <td>BANKNIFTY</td>\n",
       "      <td>2024-01-01</td>\n",
       "      <td>2024-01-03</td>\n",
       "      <td>CE</td>\n",
       "      <td>49500.0</td>\n",
       "      <td>18.85</td>\n",
       "      <td>23.9</td>\n",
       "      <td>6.3</td>\n",
       "      <td>9.10</td>\n",
       "      <td>7.70</td>\n",
       "      <td>9.1</td>\n",
       "      <td>2193532.0</td>\n",
       "      <td>16291698.06</td>\n",
       "      <td>4722.96</td>\n",
       "      <td>1925760.0</td>\n",
       "      <td>151155.0</td>\n",
       "      <td>48234.30</td>\n",
       "      <td>OPTIDX_BANKNIFTY_CE_01-Jan-2024_TO_31-Mar-2024...</td>\n",
       "    </tr>\n",
       "    <tr>\n",
       "      <th>1</th>\n",
       "      <td>BANKNIFTY</td>\n",
       "      <td>2024-01-01</td>\n",
       "      <td>2024-01-03</td>\n",
       "      <td>CE</td>\n",
       "      <td>50900.0</td>\n",
       "      <td>4.60</td>\n",
       "      <td>5.6</td>\n",
       "      <td>3.5</td>\n",
       "      <td>4.05</td>\n",
       "      <td>3.95</td>\n",
       "      <td>4.05</td>\n",
       "      <td>200212.0</td>\n",
       "      <td>1528748.95</td>\n",
       "      <td>130.33</td>\n",
       "      <td>301500.0</td>\n",
       "      <td>165660.0</td>\n",
       "      <td>48234.30</td>\n",
       "      <td>OPTIDX_BANKNIFTY_CE_01-Jan-2024_TO_31-Mar-2024...</td>\n",
       "    </tr>\n",
       "    <tr>\n",
       "      <th>2</th>\n",
       "      <td>BANKNIFTY</td>\n",
       "      <td>2024-01-01</td>\n",
       "      <td>2024-01-03</td>\n",
       "      <td>CE</td>\n",
       "      <td>42500.0</td>\n",
       "      <td>NaN</td>\n",
       "      <td>NaN</td>\n",
       "      <td>NaN</td>\n",
       "      <td>6110.00</td>\n",
       "      <td>6030.00</td>\n",
       "      <td>5750.0</td>\n",
       "      <td>NaN</td>\n",
       "      <td>NaN</td>\n",
       "      <td>NaN</td>\n",
       "      <td>300.0</td>\n",
       "      <td>NaN</td>\n",
       "      <td>48234.30</td>\n",
       "      <td>OPTIDX_BANKNIFTY_CE_01-Jan-2024_TO_31-Mar-2024...</td>\n",
       "    </tr>\n",
       "  </tbody>\n",
       "</table>\n",
       "</div>"
      ],
      "text/plain": [
       "      Symbol       Date     Expiry Option type  Strike Price   Open  High  \\\n",
       "0  BANKNIFTY 2024-01-01 2024-01-03          CE       49500.0  18.85  23.9   \n",
       "1  BANKNIFTY 2024-01-01 2024-01-03          CE       50900.0   4.60   5.6   \n",
       "2  BANKNIFTY 2024-01-01 2024-01-03          CE       42500.0    NaN   NaN   \n",
       "\n",
       "   Low    Close      LTP Settle Price  No. of contracts  \\\n",
       "0  6.3     9.10     7.70          9.1         2193532.0   \n",
       "1  3.5     4.05     3.95         4.05          200212.0   \n",
       "2  NaN  6110.00  6030.00       5750.0               NaN   \n",
       "\n",
       "  Turnover * in  ₹ Lakhs Premium Turnover ** in   ₹ Lakhs   Open Int  \\\n",
       "0            16291698.06                          4722.96  1925760.0   \n",
       "1             1528748.95                           130.33   301500.0   \n",
       "2                    NaN                              NaN      300.0   \n",
       "\n",
       "   Change in OI Underlying Value  \\\n",
       "0      151155.0         48234.30   \n",
       "1      165660.0         48234.30   \n",
       "2           NaN         48234.30   \n",
       "\n",
       "                                         Source_File  \n",
       "0  OPTIDX_BANKNIFTY_CE_01-Jan-2024_TO_31-Mar-2024...  \n",
       "1  OPTIDX_BANKNIFTY_CE_01-Jan-2024_TO_31-Mar-2024...  \n",
       "2  OPTIDX_BANKNIFTY_CE_01-Jan-2024_TO_31-Mar-2024...  "
      ]
     },
     "metadata": {},
     "output_type": "display_data"
    },
    {
     "name": "stdout",
     "output_type": "stream",
     "text": [
      "\n",
      "✅ PUT OPTIONS:\n",
      "   📉 Records: 233,605\n",
      "   📅 Date range: 2024-01-01 00:00:00 to 2025-06-30 00:00:00\n",
      "   💰 Strike range: ₹34,500 - ₹65,000\n",
      "   📋 Columns: ['Symbol', 'Date', 'Expiry', 'Option type', 'Strike Price', 'Open', 'High', 'Low', 'Close', 'LTP', 'Settle Price', 'No. of contracts', 'Turnover * in  ₹ Lakhs', 'Premium Turnover ** in   ₹ Lakhs', 'Open Int', 'Change in OI', 'Underlying Value', 'Source_File']\n",
      "\n",
      "🔍 PUT OPTIONS SAMPLE DATA (First 3 records):\n",
      "--------------------------------------------\n"
     ]
    },
    {
     "data": {
      "text/html": [
       "<div>\n",
       "<style scoped>\n",
       "    .dataframe tbody tr th:only-of-type {\n",
       "        vertical-align: middle;\n",
       "    }\n",
       "\n",
       "    .dataframe tbody tr th {\n",
       "        vertical-align: top;\n",
       "    }\n",
       "\n",
       "    .dataframe thead th {\n",
       "        text-align: right;\n",
       "    }\n",
       "</style>\n",
       "<table border=\"1\" class=\"dataframe\">\n",
       "  <thead>\n",
       "    <tr style=\"text-align: right;\">\n",
       "      <th></th>\n",
       "      <th>Symbol</th>\n",
       "      <th>Date</th>\n",
       "      <th>Expiry</th>\n",
       "      <th>Option type</th>\n",
       "      <th>Strike Price</th>\n",
       "      <th>Open</th>\n",
       "      <th>High</th>\n",
       "      <th>Low</th>\n",
       "      <th>Close</th>\n",
       "      <th>LTP</th>\n",
       "      <th>Settle Price</th>\n",
       "      <th>No. of contracts</th>\n",
       "      <th>Turnover * in  ₹ Lakhs</th>\n",
       "      <th>Premium Turnover ** in   ₹ Lakhs</th>\n",
       "      <th>Open Int</th>\n",
       "      <th>Change in OI</th>\n",
       "      <th>Underlying Value</th>\n",
       "      <th>Source_File</th>\n",
       "    </tr>\n",
       "  </thead>\n",
       "  <tbody>\n",
       "    <tr>\n",
       "      <th>0</th>\n",
       "      <td>BANKNIFTY</td>\n",
       "      <td>2024-01-01</td>\n",
       "      <td>2024-01-03</td>\n",
       "      <td>PE</td>\n",
       "      <td>47100.0</td>\n",
       "      <td>25.9</td>\n",
       "      <td>28.65</td>\n",
       "      <td>9.35</td>\n",
       "      <td>14.25</td>\n",
       "      <td>18.15</td>\n",
       "      <td>14.25</td>\n",
       "      <td>535615.0</td>\n",
       "      <td>3785238.01</td>\n",
       "      <td>1118.04</td>\n",
       "      <td>788355.0</td>\n",
       "      <td>154365.0</td>\n",
       "      <td>48234.30</td>\n",
       "      <td>OPTIDX_BANKNIFTY_PE_01-Jan-2024_TO_31-Mar-2024...</td>\n",
       "    </tr>\n",
       "    <tr>\n",
       "      <th>1</th>\n",
       "      <td>BANKNIFTY</td>\n",
       "      <td>2024-01-01</td>\n",
       "      <td>2024-01-03</td>\n",
       "      <td>PE</td>\n",
       "      <td>48300.0</td>\n",
       "      <td>286.0</td>\n",
       "      <td>349.00</td>\n",
       "      <td>116.25</td>\n",
       "      <td>226.90</td>\n",
       "      <td>295.00</td>\n",
       "      <td>226.9</td>\n",
       "      <td>5522388.0</td>\n",
       "      <td>40186256.74</td>\n",
       "      <td>176555.68</td>\n",
       "      <td>1310970.0</td>\n",
       "      <td>546765.0</td>\n",
       "      <td>48234.30</td>\n",
       "      <td>OPTIDX_BANKNIFTY_PE_01-Jan-2024_TO_31-Mar-2024...</td>\n",
       "    </tr>\n",
       "    <tr>\n",
       "      <th>2</th>\n",
       "      <td>BANKNIFTY</td>\n",
       "      <td>2024-01-01</td>\n",
       "      <td>2024-01-03</td>\n",
       "      <td>PE</td>\n",
       "      <td>50700.0</td>\n",
       "      <td>2362.3</td>\n",
       "      <td>2362.30</td>\n",
       "      <td>2191.25</td>\n",
       "      <td>2191.25</td>\n",
       "      <td>2191.25</td>\n",
       "      <td>2446.95</td>\n",
       "      <td>4.0</td>\n",
       "      <td>31.80</td>\n",
       "      <td>1.38</td>\n",
       "      <td>75.0</td>\n",
       "      <td>NaN</td>\n",
       "      <td>48234.30</td>\n",
       "      <td>OPTIDX_BANKNIFTY_PE_01-Jan-2024_TO_31-Mar-2024...</td>\n",
       "    </tr>\n",
       "  </tbody>\n",
       "</table>\n",
       "</div>"
      ],
      "text/plain": [
       "      Symbol       Date     Expiry Option type  Strike Price    Open     High  \\\n",
       "0  BANKNIFTY 2024-01-01 2024-01-03          PE       47100.0    25.9    28.65   \n",
       "1  BANKNIFTY 2024-01-01 2024-01-03          PE       48300.0   286.0   349.00   \n",
       "2  BANKNIFTY 2024-01-01 2024-01-03          PE       50700.0  2362.3  2362.30   \n",
       "\n",
       "       Low    Close      LTP Settle Price  No. of contracts  \\\n",
       "0     9.35    14.25    18.15        14.25          535615.0   \n",
       "1   116.25   226.90   295.00        226.9         5522388.0   \n",
       "2  2191.25  2191.25  2191.25      2446.95               4.0   \n",
       "\n",
       "  Turnover * in  ₹ Lakhs Premium Turnover ** in   ₹ Lakhs   Open Int  \\\n",
       "0             3785238.01                          1118.04   788355.0   \n",
       "1            40186256.74                        176555.68  1310970.0   \n",
       "2                  31.80                             1.38       75.0   \n",
       "\n",
       "   Change in OI Underlying Value  \\\n",
       "0      154365.0         48234.30   \n",
       "1      546765.0         48234.30   \n",
       "2           NaN         48234.30   \n",
       "\n",
       "                                         Source_File  \n",
       "0  OPTIDX_BANKNIFTY_PE_01-Jan-2024_TO_31-Mar-2024...  \n",
       "1  OPTIDX_BANKNIFTY_PE_01-Jan-2024_TO_31-Mar-2024...  \n",
       "2  OPTIDX_BANKNIFTY_PE_01-Jan-2024_TO_31-Mar-2024...  "
      ]
     },
     "metadata": {},
     "output_type": "display_data"
    },
    {
     "name": "stdout",
     "output_type": "stream",
     "text": [
      "\n",
      "✅ MERGED OPTIONS DATA:\n",
      "   🔄 Total records: 467,148\n",
      "   📊 Shape: (467148, 18)\n",
      "\n",
      "🎯 DATA VARIABLES CREATED:\n",
      "-------------------------\n",
      "   • df_call: Call options DataFrame\n",
      "   • df_put: Put options DataFrame\n",
      "   • options_merged: Combined options DataFrame\n",
      "\n",
      "✅ Options data loading completed successfully!\n",
      "\n",
      "📈 NEXT STEP: Load Bank Nifty spot data for XGBoost modeling\n"
     ]
    }
   ],
   "source": [
    "# 📊 LOAD BANK NIFTY OPTIONS DATA\n",
    "# Load Bank Nifty Options Data using the options_data_loader module\n",
    "\n",
    "import sys\n",
    "import os\n",
    "import pandas as pd\n",
    "\n",
    "print(\"🚀 LOADING BANK NIFTY OPTIONS DATA\")\n",
    "print(\"=\" * 50)\n",
    "\n",
    "# Setup path to import custom modules\n",
    "current_dir = os.getcwd()\n",
    "if 'notebooks' in current_dir:\n",
    "    project_root = os.path.dirname(current_dir)\n",
    "else:\n",
    "    project_root = current_dir\n",
    "\n",
    "src_path = os.path.join(project_root, 'src')\n",
    "if src_path not in sys.path:\n",
    "    sys.path.insert(0, src_path)\n",
    "\n",
    "print(f\"📂 Project root: {project_root}\")\n",
    "print(f\"🔧 Source path: {src_path}\")\n",
    "\n",
    "# Import the options data loader\n",
    "try:\n",
    "    from utils.options_data_loader import load_banknifty_options_data\n",
    "    print(\"✅ Successfully imported options_data_loader\")\n",
    "except ImportError as e:\n",
    "    print(f\"❌ Failed to import options_data_loader: {e}\")\n",
    "    print(\"💡 Make sure the src/utils/options_data_loader.py file exists\")\n",
    "    raise\n",
    "\n",
    "# Load the options data using the dedicated function\n",
    "data_path = os.path.join(project_root, 'data')\n",
    "print(f\"📁 Data path: {data_path}\")\n",
    "\n",
    "try:\n",
    "    print(\"\\n🔄 Loading Bank Nifty options data...\")\n",
    "    df_call, df_put, options_merged = load_banknifty_options_data(data_path)\n",
    "    \n",
    "    print(f\"\\n📊 DATA LOADING RESULTS:\")\n",
    "    print(\"-\" * 30)\n",
    "    \n",
    "    if not df_call.empty:\n",
    "        print(f\"✅ CALL OPTIONS:\")\n",
    "        print(f\"   📈 Records: {len(df_call):,}\")\n",
    "        print(f\"   📅 Date range: {df_call['Date'].min()} to {df_call['Date'].max()}\")\n",
    "        print(f\"   💰 Strike range: ₹{df_call['Strike Price'].min():,.0f} - ₹{df_call['Strike Price'].max():,.0f}\")\n",
    "        print(f\"   📋 Columns: {list(df_call.columns)}\")\n",
    "        \n",
    "        print(f\"\\n🔍 CALL OPTIONS SAMPLE DATA (First 3 records):\")\n",
    "        print(\"-\" * 45)\n",
    "        display(df_call.head(3))\n",
    "    else:\n",
    "        print(\"❌ No call options data loaded\")\n",
    "    \n",
    "    if not df_put.empty:\n",
    "        print(f\"\\n✅ PUT OPTIONS:\")\n",
    "        print(f\"   📉 Records: {len(df_put):,}\")\n",
    "        print(f\"   📅 Date range: {df_put['Date'].min()} to {df_put['Date'].max()}\")\n",
    "        print(f\"   💰 Strike range: ₹{df_put['Strike Price'].min():,.0f} - ₹{df_put['Strike Price'].max():,.0f}\")\n",
    "        print(f\"   📋 Columns: {list(df_put.columns)}\")\n",
    "        \n",
    "        print(f\"\\n🔍 PUT OPTIONS SAMPLE DATA (First 3 records):\")\n",
    "        print(\"-\" * 44)\n",
    "        display(df_put.head(3))\n",
    "    else:\n",
    "        print(\"❌ No put options data loaded\")\n",
    "    \n",
    "    if not options_merged.empty:\n",
    "        print(f\"\\n✅ MERGED OPTIONS DATA:\")\n",
    "        print(f\"   🔄 Total records: {len(options_merged):,}\")\n",
    "        print(f\"   📊 Shape: {options_merged.shape}\")\n",
    "    else:\n",
    "        print(\"❌ No merged options data available\")\n",
    "        \n",
    "    print(f\"\\n🎯 DATA VARIABLES CREATED:\")\n",
    "    print(\"-\" * 25)\n",
    "    print(\"   • df_call: Call options DataFrame\")\n",
    "    print(\"   • df_put: Put options DataFrame\") \n",
    "    print(\"   • options_merged: Combined options DataFrame\")\n",
    "    print(f\"\\n✅ Options data loading completed successfully!\")\n",
    "        \n",
    "except Exception as e:\n",
    "    print(f\"❌ Error loading options data: {str(e)}\")\n",
    "    # Initialize empty DataFrames in case of error\n",
    "    df_call = pd.DataFrame()\n",
    "    df_put = pd.DataFrame()\n",
    "    options_merged = pd.DataFrame()\n",
    "    print(\"🔧 Initialized empty DataFrames as fallback\")\n",
    "\n",
    "print(f\"\\n📈 NEXT STEP: Load Bank Nifty spot data for XGBoost modeling\")"
   ]
  },
  {
   "cell_type": "code",
   "execution_count": 10,
   "id": "479125fb",
   "metadata": {},
   "outputs": [
    {
     "name": "stdout",
     "output_type": "stream",
     "text": [
      "📈 LOADING BANK NIFTY SPOT DATA\n",
      "========================================\n",
      "✅ Successfully imported spot_data_loader\n",
      "\n",
      "🔄 Loading Bank Nifty spot data...\n",
      "⚠️ Using legacy function. Consider switching to load_spot_data() for more flexibility.\n",
      "🔄 Symbol mapping: BANKNIFTY → ^NSEBANK\n",
      "🔍 Loading spot data for symbol: BANKNIFTY (Yahoo Finance: ^NSEBANK)\n",
      "📂 Loading existing spot data from file...\n",
      "✅ Loaded spot data from: bank_nifty_yfinance.csv\n",
      "📋 Data Shape: (384, 6)\n",
      "📅 Date Range: 02-Jan-2024 to 25-Jul-2025\n",
      "📊 Columns: ['Date', 'Close', 'High', 'Low', 'Open', 'Volume']\n",
      "\n",
      "✅ BANK NIFTY SPOT DATA LOADED:\n",
      "-----------------------------------\n",
      "   📊 Records: 384\n",
      "   📅 Date range: 02-Jan-2024 to 25-Jul-2025\n",
      "   💰 Price range: ₹44,866 - ₹57,459\n",
      "   📋 Columns: ['Date', 'Close', 'High', 'Low', 'Open', 'Volume']\n",
      "\n",
      "🔍 BANK NIFTY SAMPLE DATA (Latest 5 records):\n",
      "---------------------------------------------\n"
     ]
    },
    {
     "data": {
      "text/html": [
       "<div>\n",
       "<style scoped>\n",
       "    .dataframe tbody tr th:only-of-type {\n",
       "        vertical-align: middle;\n",
       "    }\n",
       "\n",
       "    .dataframe tbody tr th {\n",
       "        vertical-align: top;\n",
       "    }\n",
       "\n",
       "    .dataframe thead th {\n",
       "        text-align: right;\n",
       "    }\n",
       "</style>\n",
       "<table border=\"1\" class=\"dataframe\">\n",
       "  <thead>\n",
       "    <tr style=\"text-align: right;\">\n",
       "      <th></th>\n",
       "      <th>Date</th>\n",
       "      <th>Close</th>\n",
       "      <th>High</th>\n",
       "      <th>Low</th>\n",
       "      <th>Open</th>\n",
       "      <th>Volume</th>\n",
       "    </tr>\n",
       "  </thead>\n",
       "  <tbody>\n",
       "    <tr>\n",
       "      <th>379</th>\n",
       "      <td>2025-07-21</td>\n",
       "      <td>56952.750000</td>\n",
       "      <td>56983.449219</td>\n",
       "      <td>56255.699219</td>\n",
       "      <td>56558.898438</td>\n",
       "      <td>133700</td>\n",
       "    </tr>\n",
       "    <tr>\n",
       "      <th>380</th>\n",
       "      <td>2025-07-22</td>\n",
       "      <td>56756.000000</td>\n",
       "      <td>57286.148438</td>\n",
       "      <td>56692.000000</td>\n",
       "      <td>57253.351562</td>\n",
       "      <td>132800</td>\n",
       "    </tr>\n",
       "    <tr>\n",
       "      <th>381</th>\n",
       "      <td>2025-07-23</td>\n",
       "      <td>57210.449219</td>\n",
       "      <td>57249.000000</td>\n",
       "      <td>56715.800781</td>\n",
       "      <td>56918.148438</td>\n",
       "      <td>129800</td>\n",
       "    </tr>\n",
       "    <tr>\n",
       "      <th>382</th>\n",
       "      <td>2025-07-24</td>\n",
       "      <td>57066.050781</td>\n",
       "      <td>57316.601562</td>\n",
       "      <td>56850.898438</td>\n",
       "      <td>57316.601562</td>\n",
       "      <td>179800</td>\n",
       "    </tr>\n",
       "    <tr>\n",
       "      <th>383</th>\n",
       "      <td>2025-07-25</td>\n",
       "      <td>56528.898438</td>\n",
       "      <td>57170.699219</td>\n",
       "      <td>56439.398438</td>\n",
       "      <td>57170.699219</td>\n",
       "      <td>125100</td>\n",
       "    </tr>\n",
       "  </tbody>\n",
       "</table>\n",
       "</div>"
      ],
      "text/plain": [
       "          Date         Close          High           Low          Open  Volume\n",
       "379 2025-07-21  56952.750000  56983.449219  56255.699219  56558.898438  133700\n",
       "380 2025-07-22  56756.000000  57286.148438  56692.000000  57253.351562  132800\n",
       "381 2025-07-23  57210.449219  57249.000000  56715.800781  56918.148438  129800\n",
       "382 2025-07-24  57066.050781  57316.601562  56850.898438  57316.601562  179800\n",
       "383 2025-07-25  56528.898438  57170.699219  56439.398438  57170.699219  125100"
      ]
     },
     "metadata": {},
     "output_type": "display_data"
    },
    {
     "name": "stdout",
     "output_type": "stream",
     "text": [
      "\n",
      "🎯 DATA VARIABLE CREATED:\n",
      "   • bank_nifty: Bank Nifty spot price DataFrame\n",
      "\n",
      "✅ Bank Nifty data loaded successfully!\n",
      "\n",
      "📋 DATA LOADING SUMMARY\n",
      "------------------------------\n",
      "✅ Call Options: Loaded (233,543 records)\n",
      "✅ Put Options: Loaded (233,605 records)\n",
      "✅ Bank Nifty Spot: Loaded (384 records)\n",
      "\n",
      "🚀 ALL DATA LOADED - READY FOR XGBOOST MODELING!\n",
      "💡 You can now proceed to run the XGBoost feature engineering and training cells\n"
     ]
    }
   ],
   "source": [
    "# 📈 LOAD BANK NIFTY SPOT DATA\n",
    "# Load Bank Nifty Index data using the banknifty_data_loader module\n",
    "\n",
    "print(\"📈 LOADING BANK NIFTY SPOT DATA\")\n",
    "print(\"=\" * 40)\n",
    "\n",
    "# Import the Spot data loader\n",
    "try:\n",
    "    from utils.spot_data_loader import load_spot_data, load_banknifty_data\n",
    "    print(\"✅ Successfully imported spot_data_loader\")\n",
    "except ImportError as e:\n",
    "    print(f\"❌ Failed to import spot_data_loader: {e}\")\n",
    "    print(\"💡 Make sure the src/utils/spot_data_loader.py file exists\")\n",
    "    raise\n",
    "\n",
    "# Load Bank Nifty data\n",
    "try:\n",
    "    print(\"\\n🔄 Loading Bank Nifty spot data...\")\n",
    "    bank_nifty = load_banknifty_data(\n",
    "        data_path=data_path,\n",
    "        start_date=\"2024-01-01\",\n",
    "        end_date=None,  # Download up to current date\n",
    "        force_download=False,  # Use cached data if available\n",
    "        plot_data=False  # Skip plotting for XGBoost workflow\n",
    "    )\n",
    "    \n",
    "    if not bank_nifty.empty:\n",
    "        print(f\"\\n✅ BANK NIFTY SPOT DATA LOADED:\")\n",
    "        print(\"-\" * 35)\n",
    "        print(f\"   📊 Records: {len(bank_nifty):,}\")\n",
    "        print(f\"   📅 Date range: {bank_nifty['Date'].min():%d-%b-%Y} to {bank_nifty['Date'].max():%d-%b-%Y}\")\n",
    "        print(f\"   💰 Price range: ₹{bank_nifty['Close'].min():,.0f} - ₹{bank_nifty['Close'].max():,.0f}\")\n",
    "        print(f\"   📋 Columns: {list(bank_nifty.columns)}\")\n",
    "        \n",
    "        print(f\"\\n🔍 BANK NIFTY SAMPLE DATA (Latest 5 records):\")\n",
    "        print(\"-\" * 45)\n",
    "        display(bank_nifty.tail(5))\n",
    "        \n",
    "        print(f\"\\n🎯 DATA VARIABLE CREATED:\")\n",
    "        print(\"   • bank_nifty: Bank Nifty spot price DataFrame\")\n",
    "        print(f\"\\n✅ Bank Nifty data loaded successfully!\")\n",
    "        \n",
    "    else:\n",
    "        print(\"❌ Failed to load Bank Nifty data\")\n",
    "        bank_nifty = pd.DataFrame()\n",
    "        \n",
    "except Exception as e:\n",
    "    print(f\"❌ Error loading Bank Nifty data: {str(e)}\")\n",
    "    bank_nifty = pd.DataFrame()\n",
    "\n",
    "# Data validation summary\n",
    "print(f\"\\n📋 DATA LOADING SUMMARY\")\n",
    "print(\"-\" * 30)\n",
    "print(f\"✅ Call Options: {'Loaded' if not df_call.empty else 'Failed'} ({len(df_call):,} records)\")\n",
    "print(f\"✅ Put Options: {'Loaded' if not df_put.empty else 'Failed'} ({len(df_put):,} records)\")\n",
    "print(f\"✅ Bank Nifty Spot: {'Loaded' if not bank_nifty.empty else 'Failed'} ({len(bank_nifty):,} records)\")\n",
    "\n",
    "if not df_call.empty and not df_put.empty and not bank_nifty.empty:\n",
    "    print(f\"\\n🚀 ALL DATA LOADED - READY FOR XGBOOST MODELING!\")\n",
    "    print(\"💡 You can now proceed to run the XGBoost feature engineering and training cells\")\n",
    "else:\n",
    "    print(f\"\\n⚠️ Some data failed to load. Please check the error messages above.\")"
   ]
  },
  {
   "cell_type": "code",
   "execution_count": 11,
   "id": "a1b01288",
   "metadata": {},
   "outputs": [
    {
     "name": "stdout",
     "output_type": "stream",
     "text": [
      "🚀 CREATING XGBOOST FEATURES WITH CORRECTED COLUMN MAPPING\n",
      "=================================================================\n",
      "\n",
      "🛠️ EXECUTING ROBUST FEATURE ENGINEERING...\n",
      "📊 Processing data with column mapping: {'price': 'LTP', 'volume': 'No. of contracts', 'oi': 'Open Int', 'strike': 'Strike Price', 'close': 'Close', 'turnover': 'Turnover * in  ₹ Lakhs'}\n",
      "🔧 Converting data types to numeric...\n",
      "   ✅ Calls LTP: float64 → numeric\n",
      "   ✅ Calls Close: float64 → numeric\n",
      "   ✅ Calls Open: float64 → numeric\n",
      "   ✅ Calls High: float64 → numeric\n",
      "   ✅ Calls Low: float64 → numeric\n",
      "   ✅ Calls Strike Price: float64 → numeric\n",
      "   ✅ Calls No. of contracts: float64 → numeric\n",
      "   ✅ Calls Open Int: float64 → numeric\n",
      "   ✅ Calls Turnover * in  ₹ Lakhs: float64 → numeric\n",
      "   ✅ Puts LTP: float64 → numeric\n",
      "   ✅ Puts Close: float64 → numeric\n",
      "   ✅ Puts Open: float64 → numeric\n",
      "   ✅ Puts High: float64 → numeric\n",
      "   ✅ Puts Low: float64 → numeric\n",
      "   ✅ Puts Strike Price: float64 → numeric\n",
      "   ✅ Puts No. of contracts: float64 → numeric\n",
      "   ✅ Puts Open Int: float64 → numeric\n",
      "   ✅ Puts Turnover * in  ₹ Lakhs: float64 → numeric\n",
      "📅 Processing 372 common trading dates\n",
      "   ✅ Processed 10 dates...\n",
      "   ✅ Processed 20 dates...\n",
      "   ✅ Processed 30 dates...\n",
      "   ✅ Processed 40 dates...\n",
      "   ✅ Processed 50 dates...\n",
      "\n",
      "✅ SUCCESS! Created 50 feature samples\n",
      "📊 Feature dimensions: (50, 53)\n",
      "📅 Date range: 02-Jan-2024 to 15-Mar-2024\n",
      "🎯 Total features created: 51\n",
      "💰 Target range: ₹44,866 - ₹48,196\n",
      "\n",
      "📋 SAMPLE FEATURES (First 3 records):\n"
     ]
    },
    {
     "data": {
      "text/html": [
       "<div>\n",
       "<style scoped>\n",
       "    .dataframe tbody tr th:only-of-type {\n",
       "        vertical-align: middle;\n",
       "    }\n",
       "\n",
       "    .dataframe tbody tr th {\n",
       "        vertical-align: top;\n",
       "    }\n",
       "\n",
       "    .dataframe thead th {\n",
       "        text-align: right;\n",
       "    }\n",
       "</style>\n",
       "<table border=\"1\" class=\"dataframe\">\n",
       "  <thead>\n",
       "    <tr style=\"text-align: right;\">\n",
       "      <th></th>\n",
       "      <th>Date</th>\n",
       "      <th>target_spot_price</th>\n",
       "      <th>call_total_volume</th>\n",
       "      <th>put_total_volume</th>\n",
       "      <th>pcr_volume</th>\n",
       "      <th>call_atm_ltp</th>\n",
       "      <th>put_atm_ltp</th>\n",
       "      <th>total_oi</th>\n",
       "    </tr>\n",
       "  </thead>\n",
       "  <tbody>\n",
       "    <tr>\n",
       "      <th>0</th>\n",
       "      <td>2024-01-02</td>\n",
       "      <td>47761.648438</td>\n",
       "      <td>85221057.0</td>\n",
       "      <td>78861050.0</td>\n",
       "      <td>0.925370</td>\n",
       "      <td>85.00</td>\n",
       "      <td>285.00</td>\n",
       "      <td>141465210.0</td>\n",
       "    </tr>\n",
       "    <tr>\n",
       "      <th>1</th>\n",
       "      <td>2024-01-03</td>\n",
       "      <td>47704.949219</td>\n",
       "      <td>348952651.0</td>\n",
       "      <td>333017521.0</td>\n",
       "      <td>0.954334</td>\n",
       "      <td>6.90</td>\n",
       "      <td>0.05</td>\n",
       "      <td>171460080.0</td>\n",
       "    </tr>\n",
       "    <tr>\n",
       "      <th>2</th>\n",
       "      <td>2024-01-04</td>\n",
       "      <td>48195.851562</td>\n",
       "      <td>43799064.0</td>\n",
       "      <td>31836965.0</td>\n",
       "      <td>0.726887</td>\n",
       "      <td>391.25</td>\n",
       "      <td>243.10</td>\n",
       "      <td>81422955.0</td>\n",
       "    </tr>\n",
       "  </tbody>\n",
       "</table>\n",
       "</div>"
      ],
      "text/plain": [
       "        Date  target_spot_price  call_total_volume  put_total_volume  \\\n",
       "0 2024-01-02       47761.648438         85221057.0        78861050.0   \n",
       "1 2024-01-03       47704.949219        348952651.0       333017521.0   \n",
       "2 2024-01-04       48195.851562         43799064.0        31836965.0   \n",
       "\n",
       "   pcr_volume  call_atm_ltp  put_atm_ltp     total_oi  \n",
       "0    0.925370         85.00       285.00  141465210.0  \n",
       "1    0.954334          6.90         0.05  171460080.0  \n",
       "2    0.726887        391.25       243.10   81422955.0  "
      ]
     },
     "metadata": {},
     "output_type": "display_data"
    },
    {
     "name": "stdout",
     "output_type": "stream",
     "text": [
      "\n",
      "🚀 Ready for XGBoost model training!\n"
     ]
    }
   ],
   "source": [
    "# 🤖 CORRECTED XGBOOST FEATURE ENGINEERING\n",
    "# Using actual column names and proper data type conversion\n",
    "\n",
    "print(\"🚀 CREATING XGBOOST FEATURES WITH CORRECTED COLUMN MAPPING\")\n",
    "print(\"=\" * 65)\n",
    "\n",
    "def safe_numeric_conversion(series):\n",
    "    \"\"\"Safely convert series to numeric, handling NaN and string values\"\"\"\n",
    "    try:\n",
    "        # Convert to numeric, coercing errors to NaN\n",
    "        numeric_series = pd.to_numeric(series, errors='coerce')\n",
    "        # Fill NaN with 0\n",
    "        return numeric_series.fillna(0)\n",
    "    except:\n",
    "        return pd.Series([0] * len(series))\n",
    "\n",
    "def create_robust_options_features(df_call, df_put, bank_nifty):\n",
    "    \"\"\"\n",
    "    Create features using actual column names from the data\n",
    "    \"\"\"\n",
    "    \n",
    "    # Column mapping based on actual data structure\n",
    "    column_mapping = {\n",
    "        'price': 'LTP',  # Last Traded Price\n",
    "        'volume': 'No. of contracts',  # Trading Volume\n",
    "        'oi': 'Open Int',  # Open Interest\n",
    "        'strike': 'Strike Price',  # Strike Price\n",
    "        'close': 'Close',  # Close Price\n",
    "        'turnover': 'Turnover * in  ₹ Lakhs'  # Turnover\n",
    "    }\n",
    "    \n",
    "    print(f\"📊 Processing data with column mapping: {column_mapping}\")\n",
    "    \n",
    "    # Data preprocessing - convert to numeric\n",
    "    print(\"🔧 Converting data types to numeric...\")\n",
    "    \n",
    "    for df_name, df in [('Calls', df_call), ('Puts', df_put)]:\n",
    "        for col in ['LTP', 'Close', 'Open', 'High', 'Low', 'Strike Price', 'No. of contracts', 'Open Int', 'Turnover * in  ₹ Lakhs']:\n",
    "            if col in df.columns:\n",
    "                original_type = df[col].dtype\n",
    "                df[col] = safe_numeric_conversion(df[col])\n",
    "                print(f\"   ✅ {df_name} {col}: {original_type} → numeric\")\n",
    "    \n",
    "    # Ensure consistent date formatting\n",
    "    for df in [df_call, df_put, bank_nifty]:\n",
    "        if 'Date' in df.columns:\n",
    "            df['Date'] = pd.to_datetime(df['Date'])\n",
    "        if 'Expiry' in df.columns:\n",
    "            df['Expiry'] = pd.to_datetime(df['Expiry'])\n",
    "    \n",
    "    # Create features by date\n",
    "    features_list = []\n",
    "    \n",
    "    # Get unique dates from options data\n",
    "    call_dates = set(df_call['Date'].dt.date) if 'Date' in df_call.columns else set()\n",
    "    put_dates = set(df_put['Date'].dt.date) if 'Date' in df_put.columns else set()\n",
    "    common_dates = sorted(call_dates.intersection(put_dates))\n",
    "    \n",
    "    print(f\"📅 Processing {len(common_dates)} common trading dates\")\n",
    "    \n",
    "    processed_count = 0\n",
    "    for date in common_dates:\n",
    "        if processed_count >= 50:  # Process first 50 dates for initial testing\n",
    "            break\n",
    "            \n",
    "        date_obj = pd.to_datetime(date)\n",
    "        \n",
    "        # Get Bank Nifty spot price for this date (target variable)\n",
    "        spot_data = bank_nifty[bank_nifty['Date'].dt.date == date]\n",
    "        if spot_data.empty:\n",
    "            continue\n",
    "            \n",
    "        # Use Close price as target\n",
    "        spot_price = spot_data['Close'].iloc[-1]  # Use last available price for the day\n",
    "        \n",
    "        # Get options data for this date\n",
    "        day_calls = df_call[df_call['Date'].dt.date == date].copy()\n",
    "        day_puts = df_put[df_put['Date'].dt.date == date].copy()\n",
    "        \n",
    "        if day_calls.empty or day_puts.empty:\n",
    "            continue\n",
    "        \n",
    "        # Initialize feature dictionary\n",
    "        features = {\n",
    "            'Date': date_obj,\n",
    "            'target_spot_price': spot_price\n",
    "        }\n",
    "        \n",
    "        # === CALL OPTIONS FEATURES ===\n",
    "        if not day_calls.empty:\n",
    "            # Aggregate call features\n",
    "            features.update({\n",
    "                'call_total_volume': day_calls['No. of contracts'].sum(),\n",
    "                'call_avg_ltp': day_calls['LTP'].mean(),\n",
    "                'call_max_ltp': day_calls['LTP'].max(),\n",
    "                'call_min_ltp': day_calls['LTP'].min(),\n",
    "                'call_total_oi': day_calls['Open Int'].sum(),\n",
    "                'call_avg_close': day_calls['Close'].mean(),\n",
    "                'call_unique_strikes': day_calls['Strike Price'].nunique(),\n",
    "                'call_total_turnover': day_calls['Turnover * in  ₹ Lakhs'].sum() if 'Turnover * in  ₹ Lakhs' in day_calls.columns else 0,\n",
    "            })\n",
    "            \n",
    "            # ATM and ITM/OTM analysis for calls\n",
    "            if 'Strike Price' in day_calls.columns:\n",
    "                strikes = day_calls['Strike Price'].values\n",
    "                closest_strike_idx = np.argmin(np.abs(strikes - spot_price))\n",
    "                atm_strike = strikes[closest_strike_idx]\n",
    "                \n",
    "                # ATM call features\n",
    "                atm_calls = day_calls[day_calls['Strike Price'] == atm_strike]\n",
    "                if not atm_calls.empty:\n",
    "                    features.update({\n",
    "                        'call_atm_ltp': atm_calls['LTP'].iloc[0],\n",
    "                        'call_atm_volume': atm_calls['No. of contracts'].iloc[0],\n",
    "                        'call_atm_oi': atm_calls['Open Int'].iloc[0],\n",
    "                    })\n",
    "                \n",
    "                # ITM/OTM analysis\n",
    "                itm_calls = day_calls[day_calls['Strike Price'] < spot_price]\n",
    "                otm_calls = day_calls[day_calls['Strike Price'] > spot_price]\n",
    "                \n",
    "                features.update({\n",
    "                    'call_itm_volume': itm_calls['No. of contracts'].sum(),\n",
    "                    'call_otm_volume': otm_calls['No. of contracts'].sum(),\n",
    "                    'call_itm_oi': itm_calls['Open Int'].sum(),\n",
    "                    'call_otm_oi': otm_calls['Open Int'].sum(),\n",
    "                    'call_itm_count': len(itm_calls),\n",
    "                    'call_otm_count': len(otm_calls),\n",
    "                })\n",
    "                \n",
    "                # Ratios\n",
    "                features['call_itm_otm_volume_ratio'] = (\n",
    "                    features['call_itm_volume'] / features['call_otm_volume'] \n",
    "                    if features['call_otm_volume'] > 0 else 0\n",
    "                )\n",
    "                features['call_itm_otm_oi_ratio'] = (\n",
    "                    features['call_itm_oi'] / features['call_otm_oi'] \n",
    "                    if features['call_otm_oi'] > 0 else 0\n",
    "                )\n",
    "        \n",
    "        # === PUT OPTIONS FEATURES ===\n",
    "        if not day_puts.empty:\n",
    "            # Aggregate put features\n",
    "            features.update({\n",
    "                'put_total_volume': day_puts['No. of contracts'].sum(),\n",
    "                'put_avg_ltp': day_puts['LTP'].mean(),\n",
    "                'put_max_ltp': day_puts['LTP'].max(),\n",
    "                'put_min_ltp': day_puts['LTP'].min(),\n",
    "                'put_total_oi': day_puts['Open Int'].sum(),\n",
    "                'put_avg_close': day_puts['Close'].mean(),\n",
    "                'put_unique_strikes': day_puts['Strike Price'].nunique(),\n",
    "                'put_total_turnover': day_puts['Turnover * in  ₹ Lakhs'].sum() if 'Turnover * in  ₹ Lakhs' in day_puts.columns else 0,\n",
    "            })\n",
    "            \n",
    "            # ATM and ITM/OTM analysis for puts\n",
    "            if 'Strike Price' in day_puts.columns:\n",
    "                strikes = day_puts['Strike Price'].values\n",
    "                closest_strike_idx = np.argmin(np.abs(strikes - spot_price))\n",
    "                atm_strike = strikes[closest_strike_idx]\n",
    "                \n",
    "                # ATM put features\n",
    "                atm_puts = day_puts[day_puts['Strike Price'] == atm_strike]\n",
    "                if not atm_puts.empty:\n",
    "                    features.update({\n",
    "                        'put_atm_ltp': atm_puts['LTP'].iloc[0],\n",
    "                        'put_atm_volume': atm_puts['No. of contracts'].iloc[0],\n",
    "                        'put_atm_oi': atm_puts['Open Int'].iloc[0],\n",
    "                    })\n",
    "                \n",
    "                # ITM/OTM analysis for puts (opposite to calls)\n",
    "                itm_puts = day_puts[day_puts['Strike Price'] > spot_price]\n",
    "                otm_puts = day_puts[day_puts['Strike Price'] < spot_price]\n",
    "                \n",
    "                features.update({\n",
    "                    'put_itm_volume': itm_puts['No. of contracts'].sum(),\n",
    "                    'put_otm_volume': otm_puts['No. of contracts'].sum(),\n",
    "                    'put_itm_oi': itm_puts['Open Int'].sum(),\n",
    "                    'put_otm_oi': otm_puts['Open Int'].sum(),\n",
    "                    'put_itm_count': len(itm_puts),\n",
    "                    'put_otm_count': len(otm_puts),\n",
    "                })\n",
    "                \n",
    "                features['put_itm_otm_volume_ratio'] = (\n",
    "                    features['put_itm_volume'] / features['put_otm_volume'] \n",
    "                    if features['put_otm_volume'] > 0 else 0\n",
    "                )\n",
    "                features['put_itm_otm_oi_ratio'] = (\n",
    "                    features['put_itm_oi'] / features['put_otm_oi'] \n",
    "                    if features['put_otm_oi'] > 0 else 0\n",
    "                )\n",
    "        \n",
    "        # === COMBINED CALL-PUT FEATURES ===\n",
    "        # Put-Call Ratios\n",
    "        features['pcr_volume'] = (\n",
    "            features.get('put_total_volume', 0) / features.get('call_total_volume', 1)\n",
    "            if features.get('call_total_volume', 1) > 0 else 0\n",
    "        )\n",
    "        features['pcr_oi'] = (\n",
    "            features.get('put_total_oi', 0) / features.get('call_total_oi', 1)\n",
    "            if features.get('call_total_oi', 1) > 0 else 0\n",
    "        )\n",
    "        features['pcr_ltp'] = (\n",
    "            features.get('put_avg_ltp', 0) / features.get('call_avg_ltp', 1)\n",
    "            if features.get('call_avg_ltp', 1) > 0 else 0\n",
    "        )\n",
    "        \n",
    "        # Combined totals\n",
    "        features['total_volume'] = features.get('call_total_volume', 0) + features.get('put_total_volume', 0)\n",
    "        features['total_oi'] = features.get('call_total_oi', 0) + features.get('put_total_oi', 0)\n",
    "        features['total_turnover'] = features.get('call_total_turnover', 0) + features.get('put_total_turnover', 0)\n",
    "        \n",
    "        # Market sentiment indicators\n",
    "        features['volume_weighted_pcr'] = (\n",
    "            (features.get('put_total_volume', 0) * features.get('put_avg_ltp', 0)) /\n",
    "            (features.get('call_total_volume', 1) * features.get('call_avg_ltp', 1))\n",
    "            if features.get('call_total_volume', 1) > 0 and features.get('call_avg_ltp', 1) > 0 else 0\n",
    "        )\n",
    "        \n",
    "        # === TIME-BASED FEATURES ===\n",
    "        features.update({\n",
    "            'day_of_week': date_obj.dayofweek,\n",
    "            'day_of_month': date_obj.day,\n",
    "            'month': date_obj.month,\n",
    "            'quarter': date_obj.quarter,\n",
    "            'is_month_end': 1 if date_obj.day > 25 else 0,\n",
    "            'is_quarter_end': 1 if date_obj.month in [3, 6, 9, 12] and date_obj.day > 25 else 0\n",
    "        })\n",
    "        \n",
    "        features_list.append(features)\n",
    "        processed_count += 1\n",
    "        \n",
    "        if processed_count % 10 == 0:\n",
    "            print(f\"   ✅ Processed {processed_count} dates...\")\n",
    "    \n",
    "    return pd.DataFrame(features_list)\n",
    "\n",
    "# Execute the feature engineering\n",
    "if 'df_call' in globals() and 'df_put' in globals() and 'bank_nifty' in globals():\n",
    "    print(\"\\n🛠️ EXECUTING ROBUST FEATURE ENGINEERING...\")\n",
    "    features_df = create_robust_options_features(df_call, df_put, bank_nifty)\n",
    "    \n",
    "    if not features_df.empty:\n",
    "        print(f\"\\n✅ SUCCESS! Created {len(features_df)} feature samples\")\n",
    "        print(f\"📊 Feature dimensions: {features_df.shape}\")\n",
    "        print(f\"📅 Date range: {features_df['Date'].min():%d-%b-%Y} to {features_df['Date'].max():%d-%b-%Y}\")\n",
    "        \n",
    "        # Display feature summary\n",
    "        feature_cols = [col for col in features_df.columns if col not in ['Date', 'target_spot_price']]\n",
    "        print(f\"🎯 Total features created: {len(feature_cols)}\")\n",
    "        print(f\"💰 Target range: ₹{features_df['target_spot_price'].min():,.0f} - ₹{features_df['target_spot_price'].max():,.0f}\")\n",
    "        \n",
    "        # Show sample features\n",
    "        print(f\"\\n📋 SAMPLE FEATURES (First 3 records):\")\n",
    "        display_cols = ['Date', 'target_spot_price', 'call_total_volume', 'put_total_volume', \n",
    "                       'pcr_volume', 'call_atm_ltp', 'put_atm_ltp', 'total_oi']\n",
    "        available_display_cols = [col for col in display_cols if col in features_df.columns]\n",
    "        display(features_df[available_display_cols].head(3))\n",
    "        \n",
    "        print(f\"\\n🚀 Ready for XGBoost model training!\")\n",
    "        \n",
    "    else:\n",
    "        print(\"❌ Feature engineering failed. Please check data quality.\")\n",
    "else:\n",
    "    print(\"❌ Required data not available. Please run data loading cells first.\")"
   ]
  },
  {
   "cell_type": "code",
   "execution_count": 12,
   "id": "8446a591",
   "metadata": {},
   "outputs": [
    {
     "name": "stdout",
     "output_type": "stream",
     "text": [
      "\n",
      "🚀 XGBOOST MODEL TRAINING PIPELINE\n",
      "=============================================\n",
      "📊 PREPARING DATA FOR MODELING\n",
      "-----------------------------------\n",
      "   ✅ Features prepared: (50, 51)\n",
      "   🎯 Target samples: 50\n",
      "   📊 Feature columns: 51\n",
      "   📚 Training samples: 40 (up to 29-Feb-2024)\n",
      "   🧪 Testing samples: 10 (from 01-Mar-2024)\n",
      "\n",
      "🤖 TRAINING XGBOOST MODEL\n",
      "------------------------------\n",
      "   ✅ XGBoost model trained successfully!\n",
      "\n",
      "📊 MODEL PERFORMANCE EVALUATION\n",
      "-----------------------------------\n",
      "🏋️ TRAINING PERFORMANCE:\n",
      "   RMSE: ₹3.58\n",
      "   MAE:  ₹1.63\n",
      "   R²:   1.0000\n",
      "   MAPE: 0.00%\n",
      "\n",
      "🧪 TESTING PERFORMANCE:\n",
      "   RMSE: ₹200.63\n",
      "   MAE:  ₹176.07\n",
      "   R²:   0.7623\n",
      "   MAPE: 0.37%\n",
      "\n",
      "🔍 FEATURE IMPORTANCE ANALYSIS\n",
      "-----------------------------------\n",
      "🏆 TOP 10 MOST IMPORTANT FEATURES:\n",
      "    1. put_avg_ltp               (0.4450)\n",
      "    2. put_max_ltp               (0.2253)\n",
      "    3. put_avg_close             (0.0905)\n",
      "    4. volume_weighted_pcr       (0.0819)\n",
      "    5. pcr_ltp                   (0.0457)\n",
      "    6. call_unique_strikes       (0.0449)\n",
      "    7. is_month_end              (0.0189)\n",
      "    8. call_itm_count            (0.0115)\n",
      "    9. call_max_ltp              (0.0080)\n",
      "   10. call_avg_close            (0.0054)\n",
      "\n",
      "📈 CREATING PREDICTION VISUALIZATIONS\n",
      "----------------------------------------\n"
     ]
    },
    {
     "data": {
      "application/vnd.plotly.v1+json": {
       "config": {
        "plotlyServerURL": "https://plot.ly"
       },
       "data": [
        {
         "hovertemplate": "Actual: ₹%{x:,.0f}<br>Predicted: ₹%{y:,.0f}<extra></extra>",
         "marker": {
          "color": "blue",
          "opacity": 0.6,
          "size": 6
         },
         "mode": "markers",
         "name": "Training",
         "type": "scatter",
         "x": {
          "bdata": "AAAAwDRS50AAAABgHkvnQAAAAEB7iOdAAAAAAOCD50AAAAAASCvnQAAAAMBUEedAAAAAQBsg50AAAABAyynnQAAAAKC5S+dAAAAAoMmD50AAAABAo3/nQAAAAGAOfuZAAAAAoDFS5kAAAADApFDmQAAAAKDh+uVAAAAAwEwD5kAAAADAROjlQAAAAEBLMOZAAAAAAPgm5kAAAACgmXXmQAAAAMCUjeZAAAAAYF5y5kAAAACgMWDmQAAAAKBZT+ZAAAAAAFBf5kAAAAAAgPrlQAAAAKBRSOZAAAAAAEjq5UAAAADAzDfmQAAAAKCJauZAAAAAwFyR5kAAAABAG6bmQAAAAGDG/uZAAAAAYHb15kAAAACg+ejmQAAAAAB42+ZAAAAAABC+5kAAAACggb/mQAAAAMBkceZAAAAAwByF5kA=",
          "dtype": "f8"
         },
         "xaxis": "x",
         "y": {
          "bdata": "n5E6RwFZOkfSQTxH3h48R9FYOUdQijhHlAA5Rw1OOUdyXTpHQCA8R+bxO0da6zNH2pIyR4yFMkei1y9HaBkwR8hSL0eSgjFHSDYxRxisM0cybDRHWJMzRzwBM0eDejJH+vkyRwXUL0dkQzJHMVQvRzfCMUcWVDNHO4o0R4oxNUcF/TdHZas3RxhHN0ep2zZH7fA1Ry78NUdCizNHDCo0Rw==",
          "dtype": "f4"
         },
         "yaxis": "y"
        },
        {
         "line": {
          "color": "red",
          "dash": "dash"
         },
         "mode": "lines",
         "name": "Perfect Prediction",
         "showlegend": false,
         "type": "scatter",
         "x": [
          44866.1484375,
          48195.8515625
         ],
         "xaxis": "x",
         "y": [
          44866.1484375,
          48195.8515625
         ],
         "yaxis": "y"
        },
        {
         "hovertemplate": "Actual: ₹%{x:,.0f}<br>Predicted: ₹%{y:,.0f}<extra></extra>",
         "marker": {
          "color": "green",
          "opacity": 0.7,
          "size": 8
         },
         "mode": "markers",
         "name": "Testing",
         "type": "scatter",
         "x": {
          "bdata": "AAAAwNwW50AAAABAAyznQAAAAACgO+dAAAAAwKxr50AAAACgeVvnQAAAAED7G+dAAAAAwEwW50AAAACgqfDmQAAAAGC+2OZAAAAAQEPA5kA=",
          "dtype": "f8"
         },
         "xaxis": "x2",
         "y": {
          "bdata": "A2o5R9oVOUeDPDpHW0c7R3j+OUcqEzpHAgA6R7kOOEfmvTdH7XM1Rw==",
          "dtype": "f4"
         },
         "yaxis": "y2"
        },
        {
         "line": {
          "color": "red",
          "dash": "dash"
         },
         "mode": "lines",
         "name": "Perfect Prediction",
         "showlegend": false,
         "type": "scatter",
         "x": [
          46451.92578125,
          47965.3984375
         ],
         "xaxis": "x2",
         "y": [
          46451.92578125,
          47965.3984375
         ],
         "yaxis": "y2"
        },
        {
         "line": {
          "color": "blue",
          "width": 2
         },
         "marker": {
          "size": 4
         },
         "mode": "lines+markers",
         "name": "Actual Spot Price",
         "type": "scatter",
         "x": [
          "2024-01-02T00:00:00",
          "2024-01-03T00:00:00",
          "2024-01-04T00:00:00",
          "2024-01-05T00:00:00",
          "2024-01-08T00:00:00",
          "2024-01-09T00:00:00",
          "2024-01-10T00:00:00",
          "2024-01-11T00:00:00",
          "2024-01-12T00:00:00",
          "2024-01-15T00:00:00",
          "2024-01-16T00:00:00",
          "2024-01-17T00:00:00",
          "2024-01-18T00:00:00",
          "2024-01-19T00:00:00",
          "2024-01-23T00:00:00",
          "2024-01-24T00:00:00",
          "2024-01-25T00:00:00",
          "2024-01-29T00:00:00",
          "2024-01-30T00:00:00",
          "2024-01-31T00:00:00",
          "2024-02-01T00:00:00",
          "2024-02-02T00:00:00",
          "2024-02-05T00:00:00",
          "2024-02-06T00:00:00",
          "2024-02-07T00:00:00",
          "2024-02-08T00:00:00",
          "2024-02-09T00:00:00",
          "2024-02-12T00:00:00",
          "2024-02-13T00:00:00",
          "2024-02-14T00:00:00",
          "2024-02-15T00:00:00",
          "2024-02-16T00:00:00",
          "2024-02-20T00:00:00",
          "2024-02-21T00:00:00",
          "2024-02-22T00:00:00",
          "2024-02-23T00:00:00",
          "2024-02-26T00:00:00",
          "2024-02-27T00:00:00",
          "2024-02-28T00:00:00",
          "2024-02-29T00:00:00",
          "2024-03-01T00:00:00",
          "2024-03-04T00:00:00",
          "2024-03-05T00:00:00",
          "2024-03-06T00:00:00",
          "2024-03-07T00:00:00",
          "2024-03-11T00:00:00",
          "2024-03-12T00:00:00",
          "2024-03-13T00:00:00",
          "2024-03-14T00:00:00",
          "2024-03-15T00:00:00"
         ],
         "xaxis": "x3",
         "y": {
          "bdata": "AAAAwDRS50AAAABgHkvnQAAAAEB7iOdAAAAAAOCD50AAAAAASCvnQAAAAMBUEedAAAAAQBsg50AAAABAyynnQAAAAKC5S+dAAAAAoMmD50AAAABAo3/nQAAAAGAOfuZAAAAAoDFS5kAAAADApFDmQAAAAKDh+uVAAAAAwEwD5kAAAADAROjlQAAAAEBLMOZAAAAAAPgm5kAAAACgmXXmQAAAAMCUjeZAAAAAYF5y5kAAAACgMWDmQAAAAKBZT+ZAAAAAAFBf5kAAAAAAgPrlQAAAAKBRSOZAAAAAAEjq5UAAAADAzDfmQAAAAKCJauZAAAAAwFyR5kAAAABAG6bmQAAAAGDG/uZAAAAAYHb15kAAAACg+ejmQAAAAAB42+ZAAAAAABC+5kAAAACggb/mQAAAAMBkceZAAAAAwByF5kAAAADA3BbnQAAAAEADLOdAAAAAAKA750AAAADArGvnQAAAAKB5W+dAAAAAQPsb50AAAADATBbnQAAAAKCp8OZAAAAAYL7Y5kAAAABAQ8DmQA==",
          "dtype": "f8"
         },
         "yaxis": "y3"
        },
        {
         "line": {
          "color": "red",
          "dash": "dot",
          "width": 2
         },
         "marker": {
          "size": 4
         },
         "mode": "lines+markers",
         "name": "Predicted Spot Price",
         "type": "scatter",
         "x": [
          "2024-01-02T00:00:00",
          "2024-01-03T00:00:00",
          "2024-01-04T00:00:00",
          "2024-01-05T00:00:00",
          "2024-01-08T00:00:00",
          "2024-01-09T00:00:00",
          "2024-01-10T00:00:00",
          "2024-01-11T00:00:00",
          "2024-01-12T00:00:00",
          "2024-01-15T00:00:00",
          "2024-01-16T00:00:00",
          "2024-01-17T00:00:00",
          "2024-01-18T00:00:00",
          "2024-01-19T00:00:00",
          "2024-01-23T00:00:00",
          "2024-01-24T00:00:00",
          "2024-01-25T00:00:00",
          "2024-01-29T00:00:00",
          "2024-01-30T00:00:00",
          "2024-01-31T00:00:00",
          "2024-02-01T00:00:00",
          "2024-02-02T00:00:00",
          "2024-02-05T00:00:00",
          "2024-02-06T00:00:00",
          "2024-02-07T00:00:00",
          "2024-02-08T00:00:00",
          "2024-02-09T00:00:00",
          "2024-02-12T00:00:00",
          "2024-02-13T00:00:00",
          "2024-02-14T00:00:00",
          "2024-02-15T00:00:00",
          "2024-02-16T00:00:00",
          "2024-02-20T00:00:00",
          "2024-02-21T00:00:00",
          "2024-02-22T00:00:00",
          "2024-02-23T00:00:00",
          "2024-02-26T00:00:00",
          "2024-02-27T00:00:00",
          "2024-02-28T00:00:00",
          "2024-02-29T00:00:00",
          "2024-03-01T00:00:00",
          "2024-03-04T00:00:00",
          "2024-03-05T00:00:00",
          "2024-03-06T00:00:00",
          "2024-03-07T00:00:00",
          "2024-03-11T00:00:00",
          "2024-03-12T00:00:00",
          "2024-03-13T00:00:00",
          "2024-03-14T00:00:00",
          "2024-03-15T00:00:00"
         ],
         "xaxis": "x3",
         "y": {
          "bdata": "n5E6RwFZOkfSQTxH3h48R9FYOUdQijhHlAA5Rw1OOUdyXTpHQCA8R+bxO0da6zNH2pIyR4yFMkei1y9HaBkwR8hSL0eSgjFHSDYxRxisM0cybDRHWJMzRzwBM0eDejJH+vkyRwXUL0dkQzJHMVQvRzfCMUcWVDNHO4o0R4oxNUcF/TdHZas3RxhHN0ep2zZH7fA1Ry78NUdCizNHDCo0RwNqOUfaFTlHgzw6R1tHO0d4/jlHKhM6RwIAOke5DjhH5r03R+1zNUc=",
          "dtype": "f4"
         },
         "yaxis": "y3"
        }
       ],
       "layout": {
        "annotations": [
         {
          "font": {
           "size": 16
          },
          "showarrow": false,
          "text": "Actual vs Predicted (Training)",
          "x": 0.225,
          "xanchor": "center",
          "xref": "paper",
          "y": 1,
          "yanchor": "bottom",
          "yref": "paper"
         },
         {
          "font": {
           "size": 16
          },
          "showarrow": false,
          "text": "Actual vs Predicted (Testing)",
          "x": 0.775,
          "xanchor": "center",
          "xref": "paper",
          "y": 1,
          "yanchor": "bottom",
          "yref": "paper"
         },
         {
          "font": {
           "size": 16
          },
          "showarrow": false,
          "text": "Time Series: Actual vs Predicted",
          "x": 0.5,
          "xanchor": "center",
          "xref": "paper",
          "y": 0.44,
          "yanchor": "bottom",
          "yref": "paper"
         }
        ],
        "font": {
         "size": 10
        },
        "height": 800,
        "showlegend": true,
        "template": {
         "data": {
          "bar": [
           {
            "error_x": {
             "color": "#2a3f5f"
            },
            "error_y": {
             "color": "#2a3f5f"
            },
            "marker": {
             "line": {
              "color": "#E5ECF6",
              "width": 0.5
             },
             "pattern": {
              "fillmode": "overlay",
              "size": 10,
              "solidity": 0.2
             }
            },
            "type": "bar"
           }
          ],
          "barpolar": [
           {
            "marker": {
             "line": {
              "color": "#E5ECF6",
              "width": 0.5
             },
             "pattern": {
              "fillmode": "overlay",
              "size": 10,
              "solidity": 0.2
             }
            },
            "type": "barpolar"
           }
          ],
          "carpet": [
           {
            "aaxis": {
             "endlinecolor": "#2a3f5f",
             "gridcolor": "white",
             "linecolor": "white",
             "minorgridcolor": "white",
             "startlinecolor": "#2a3f5f"
            },
            "baxis": {
             "endlinecolor": "#2a3f5f",
             "gridcolor": "white",
             "linecolor": "white",
             "minorgridcolor": "white",
             "startlinecolor": "#2a3f5f"
            },
            "type": "carpet"
           }
          ],
          "choropleth": [
           {
            "colorbar": {
             "outlinewidth": 0,
             "ticks": ""
            },
            "type": "choropleth"
           }
          ],
          "contour": [
           {
            "colorbar": {
             "outlinewidth": 0,
             "ticks": ""
            },
            "colorscale": [
             [
              0,
              "#0d0887"
             ],
             [
              0.1111111111111111,
              "#46039f"
             ],
             [
              0.2222222222222222,
              "#7201a8"
             ],
             [
              0.3333333333333333,
              "#9c179e"
             ],
             [
              0.4444444444444444,
              "#bd3786"
             ],
             [
              0.5555555555555556,
              "#d8576b"
             ],
             [
              0.6666666666666666,
              "#ed7953"
             ],
             [
              0.7777777777777778,
              "#fb9f3a"
             ],
             [
              0.8888888888888888,
              "#fdca26"
             ],
             [
              1,
              "#f0f921"
             ]
            ],
            "type": "contour"
           }
          ],
          "contourcarpet": [
           {
            "colorbar": {
             "outlinewidth": 0,
             "ticks": ""
            },
            "type": "contourcarpet"
           }
          ],
          "heatmap": [
           {
            "colorbar": {
             "outlinewidth": 0,
             "ticks": ""
            },
            "colorscale": [
             [
              0,
              "#0d0887"
             ],
             [
              0.1111111111111111,
              "#46039f"
             ],
             [
              0.2222222222222222,
              "#7201a8"
             ],
             [
              0.3333333333333333,
              "#9c179e"
             ],
             [
              0.4444444444444444,
              "#bd3786"
             ],
             [
              0.5555555555555556,
              "#d8576b"
             ],
             [
              0.6666666666666666,
              "#ed7953"
             ],
             [
              0.7777777777777778,
              "#fb9f3a"
             ],
             [
              0.8888888888888888,
              "#fdca26"
             ],
             [
              1,
              "#f0f921"
             ]
            ],
            "type": "heatmap"
           }
          ],
          "histogram": [
           {
            "marker": {
             "pattern": {
              "fillmode": "overlay",
              "size": 10,
              "solidity": 0.2
             }
            },
            "type": "histogram"
           }
          ],
          "histogram2d": [
           {
            "colorbar": {
             "outlinewidth": 0,
             "ticks": ""
            },
            "colorscale": [
             [
              0,
              "#0d0887"
             ],
             [
              0.1111111111111111,
              "#46039f"
             ],
             [
              0.2222222222222222,
              "#7201a8"
             ],
             [
              0.3333333333333333,
              "#9c179e"
             ],
             [
              0.4444444444444444,
              "#bd3786"
             ],
             [
              0.5555555555555556,
              "#d8576b"
             ],
             [
              0.6666666666666666,
              "#ed7953"
             ],
             [
              0.7777777777777778,
              "#fb9f3a"
             ],
             [
              0.8888888888888888,
              "#fdca26"
             ],
             [
              1,
              "#f0f921"
             ]
            ],
            "type": "histogram2d"
           }
          ],
          "histogram2dcontour": [
           {
            "colorbar": {
             "outlinewidth": 0,
             "ticks": ""
            },
            "colorscale": [
             [
              0,
              "#0d0887"
             ],
             [
              0.1111111111111111,
              "#46039f"
             ],
             [
              0.2222222222222222,
              "#7201a8"
             ],
             [
              0.3333333333333333,
              "#9c179e"
             ],
             [
              0.4444444444444444,
              "#bd3786"
             ],
             [
              0.5555555555555556,
              "#d8576b"
             ],
             [
              0.6666666666666666,
              "#ed7953"
             ],
             [
              0.7777777777777778,
              "#fb9f3a"
             ],
             [
              0.8888888888888888,
              "#fdca26"
             ],
             [
              1,
              "#f0f921"
             ]
            ],
            "type": "histogram2dcontour"
           }
          ],
          "mesh3d": [
           {
            "colorbar": {
             "outlinewidth": 0,
             "ticks": ""
            },
            "type": "mesh3d"
           }
          ],
          "parcoords": [
           {
            "line": {
             "colorbar": {
              "outlinewidth": 0,
              "ticks": ""
             }
            },
            "type": "parcoords"
           }
          ],
          "pie": [
           {
            "automargin": true,
            "type": "pie"
           }
          ],
          "scatter": [
           {
            "fillpattern": {
             "fillmode": "overlay",
             "size": 10,
             "solidity": 0.2
            },
            "type": "scatter"
           }
          ],
          "scatter3d": [
           {
            "line": {
             "colorbar": {
              "outlinewidth": 0,
              "ticks": ""
             }
            },
            "marker": {
             "colorbar": {
              "outlinewidth": 0,
              "ticks": ""
             }
            },
            "type": "scatter3d"
           }
          ],
          "scattercarpet": [
           {
            "marker": {
             "colorbar": {
              "outlinewidth": 0,
              "ticks": ""
             }
            },
            "type": "scattercarpet"
           }
          ],
          "scattergeo": [
           {
            "marker": {
             "colorbar": {
              "outlinewidth": 0,
              "ticks": ""
             }
            },
            "type": "scattergeo"
           }
          ],
          "scattergl": [
           {
            "marker": {
             "colorbar": {
              "outlinewidth": 0,
              "ticks": ""
             }
            },
            "type": "scattergl"
           }
          ],
          "scattermap": [
           {
            "marker": {
             "colorbar": {
              "outlinewidth": 0,
              "ticks": ""
             }
            },
            "type": "scattermap"
           }
          ],
          "scattermapbox": [
           {
            "marker": {
             "colorbar": {
              "outlinewidth": 0,
              "ticks": ""
             }
            },
            "type": "scattermapbox"
           }
          ],
          "scatterpolar": [
           {
            "marker": {
             "colorbar": {
              "outlinewidth": 0,
              "ticks": ""
             }
            },
            "type": "scatterpolar"
           }
          ],
          "scatterpolargl": [
           {
            "marker": {
             "colorbar": {
              "outlinewidth": 0,
              "ticks": ""
             }
            },
            "type": "scatterpolargl"
           }
          ],
          "scatterternary": [
           {
            "marker": {
             "colorbar": {
              "outlinewidth": 0,
              "ticks": ""
             }
            },
            "type": "scatterternary"
           }
          ],
          "surface": [
           {
            "colorbar": {
             "outlinewidth": 0,
             "ticks": ""
            },
            "colorscale": [
             [
              0,
              "#0d0887"
             ],
             [
              0.1111111111111111,
              "#46039f"
             ],
             [
              0.2222222222222222,
              "#7201a8"
             ],
             [
              0.3333333333333333,
              "#9c179e"
             ],
             [
              0.4444444444444444,
              "#bd3786"
             ],
             [
              0.5555555555555556,
              "#d8576b"
             ],
             [
              0.6666666666666666,
              "#ed7953"
             ],
             [
              0.7777777777777778,
              "#fb9f3a"
             ],
             [
              0.8888888888888888,
              "#fdca26"
             ],
             [
              1,
              "#f0f921"
             ]
            ],
            "type": "surface"
           }
          ],
          "table": [
           {
            "cells": {
             "fill": {
              "color": "#EBF0F8"
             },
             "line": {
              "color": "white"
             }
            },
            "header": {
             "fill": {
              "color": "#C8D4E3"
             },
             "line": {
              "color": "white"
             }
            },
            "type": "table"
           }
          ]
         },
         "layout": {
          "annotationdefaults": {
           "arrowcolor": "#2a3f5f",
           "arrowhead": 0,
           "arrowwidth": 1
          },
          "autotypenumbers": "strict",
          "coloraxis": {
           "colorbar": {
            "outlinewidth": 0,
            "ticks": ""
           }
          },
          "colorscale": {
           "diverging": [
            [
             0,
             "#8e0152"
            ],
            [
             0.1,
             "#c51b7d"
            ],
            [
             0.2,
             "#de77ae"
            ],
            [
             0.3,
             "#f1b6da"
            ],
            [
             0.4,
             "#fde0ef"
            ],
            [
             0.5,
             "#f7f7f7"
            ],
            [
             0.6,
             "#e6f5d0"
            ],
            [
             0.7,
             "#b8e186"
            ],
            [
             0.8,
             "#7fbc41"
            ],
            [
             0.9,
             "#4d9221"
            ],
            [
             1,
             "#276419"
            ]
           ],
           "sequential": [
            [
             0,
             "#0d0887"
            ],
            [
             0.1111111111111111,
             "#46039f"
            ],
            [
             0.2222222222222222,
             "#7201a8"
            ],
            [
             0.3333333333333333,
             "#9c179e"
            ],
            [
             0.4444444444444444,
             "#bd3786"
            ],
            [
             0.5555555555555556,
             "#d8576b"
            ],
            [
             0.6666666666666666,
             "#ed7953"
            ],
            [
             0.7777777777777778,
             "#fb9f3a"
            ],
            [
             0.8888888888888888,
             "#fdca26"
            ],
            [
             1,
             "#f0f921"
            ]
           ],
           "sequentialminus": [
            [
             0,
             "#0d0887"
            ],
            [
             0.1111111111111111,
             "#46039f"
            ],
            [
             0.2222222222222222,
             "#7201a8"
            ],
            [
             0.3333333333333333,
             "#9c179e"
            ],
            [
             0.4444444444444444,
             "#bd3786"
            ],
            [
             0.5555555555555556,
             "#d8576b"
            ],
            [
             0.6666666666666666,
             "#ed7953"
            ],
            [
             0.7777777777777778,
             "#fb9f3a"
            ],
            [
             0.8888888888888888,
             "#fdca26"
            ],
            [
             1,
             "#f0f921"
            ]
           ]
          },
          "colorway": [
           "#636efa",
           "#EF553B",
           "#00cc96",
           "#ab63fa",
           "#FFA15A",
           "#19d3f3",
           "#FF6692",
           "#B6E880",
           "#FF97FF",
           "#FECB52"
          ],
          "font": {
           "color": "#2a3f5f"
          },
          "geo": {
           "bgcolor": "white",
           "lakecolor": "white",
           "landcolor": "#E5ECF6",
           "showlakes": true,
           "showland": true,
           "subunitcolor": "white"
          },
          "hoverlabel": {
           "align": "left"
          },
          "hovermode": "closest",
          "mapbox": {
           "style": "light"
          },
          "paper_bgcolor": "white",
          "plot_bgcolor": "#E5ECF6",
          "polar": {
           "angularaxis": {
            "gridcolor": "white",
            "linecolor": "white",
            "ticks": ""
           },
           "bgcolor": "#E5ECF6",
           "radialaxis": {
            "gridcolor": "white",
            "linecolor": "white",
            "ticks": ""
           }
          },
          "scene": {
           "xaxis": {
            "backgroundcolor": "#E5ECF6",
            "gridcolor": "white",
            "gridwidth": 2,
            "linecolor": "white",
            "showbackground": true,
            "ticks": "",
            "zerolinecolor": "white"
           },
           "yaxis": {
            "backgroundcolor": "#E5ECF6",
            "gridcolor": "white",
            "gridwidth": 2,
            "linecolor": "white",
            "showbackground": true,
            "ticks": "",
            "zerolinecolor": "white"
           },
           "zaxis": {
            "backgroundcolor": "#E5ECF6",
            "gridcolor": "white",
            "gridwidth": 2,
            "linecolor": "white",
            "showbackground": true,
            "ticks": "",
            "zerolinecolor": "white"
           }
          },
          "shapedefaults": {
           "line": {
            "color": "#2a3f5f"
           }
          },
          "ternary": {
           "aaxis": {
            "gridcolor": "white",
            "linecolor": "white",
            "ticks": ""
           },
           "baxis": {
            "gridcolor": "white",
            "linecolor": "white",
            "ticks": ""
           },
           "bgcolor": "#E5ECF6",
           "caxis": {
            "gridcolor": "white",
            "linecolor": "white",
            "ticks": ""
           }
          },
          "title": {
           "x": 0.05
          },
          "xaxis": {
           "automargin": true,
           "gridcolor": "white",
           "linecolor": "white",
           "ticks": "",
           "title": {
            "standoff": 15
           },
           "zerolinecolor": "white",
           "zerolinewidth": 2
          },
          "yaxis": {
           "automargin": true,
           "gridcolor": "white",
           "linecolor": "white",
           "ticks": "",
           "title": {
            "standoff": 15
           },
           "zerolinecolor": "white",
           "zerolinewidth": 2
          }
         }
        },
        "title": {
         "text": "XGBoost Bank Nifty Spot Price Prediction Results<br><sub>Test RMSE: ₹201 | Test R²: 0.762 | Test MAPE: 0.4%</sub>"
        },
        "xaxis": {
         "anchor": "y",
         "domain": [
          0,
          0.45
         ],
         "title": {
          "text": "Actual Price (₹)"
         }
        },
        "xaxis2": {
         "anchor": "y2",
         "domain": [
          0.55,
          1
         ],
         "title": {
          "text": "Actual Price (₹)"
         }
        },
        "xaxis3": {
         "anchor": "y3",
         "domain": [
          0,
          1
         ],
         "title": {
          "text": "Date"
         }
        },
        "yaxis": {
         "anchor": "x",
         "domain": [
          0.56,
          1
         ],
         "title": {
          "text": "Predicted Price (₹)"
         }
        },
        "yaxis2": {
         "anchor": "x2",
         "domain": [
          0.56,
          1
         ],
         "title": {
          "text": "Predicted Price (₹)"
         }
        },
        "yaxis3": {
         "anchor": "x3",
         "domain": [
          0,
          0.44
         ],
         "title": {
          "text": "Bank Nifty Price (₹)"
         }
        }
       }
      }
     },
     "metadata": {},
     "output_type": "display_data"
    },
    {
     "data": {
      "application/vnd.plotly.v1+json": {
       "config": {
        "plotlyServerURL": "https://plot.ly"
       },
       "data": [
        {
         "hovertemplate": "Feature Importance=%{marker.color}<br>Feature Name=%{y}<extra></extra>",
         "legendgroup": "",
         "marker": {
          "color": {
           "bdata": "btjjPla1Zj47cbk9lMSnPbpBOz1Qvzc9bfqaPP/TOzynogI8pI6wO48XczsUL0w7rc05OwP5Jzs0Pxw7",
           "dtype": "f4"
          },
          "coloraxis": "coloraxis",
          "pattern": {
           "shape": ""
          }
         },
         "name": "",
         "orientation": "h",
         "showlegend": false,
         "textposition": "auto",
         "type": "bar",
         "x": {
          "bdata": "btjjPla1Zj47cbk9lMSnPbpBOz1Qvzc9bfqaPP/TOzynogI8pI6wO48XczsUL0w7rc05OwP5Jzs0Pxw7",
          "dtype": "f4"
         },
         "xaxis": "x",
         "y": [
          "put_avg_ltp",
          "put_max_ltp",
          "put_avg_close",
          "volume_weighted_pcr",
          "pcr_ltp",
          "call_unique_strikes",
          "is_month_end",
          "call_itm_count",
          "call_max_ltp",
          "call_avg_close",
          "call_otm_count",
          "call_atm_ltp",
          "day_of_month",
          "put_itm_volume",
          "call_itm_volume"
         ],
         "yaxis": "y"
        }
       ],
       "layout": {
        "barmode": "relative",
        "coloraxis": {
         "colorbar": {
          "title": {
           "text": "Feature Importance"
          }
         },
         "colorscale": [
          [
           0,
           "#440154"
          ],
          [
           0.1111111111111111,
           "#482878"
          ],
          [
           0.2222222222222222,
           "#3e4989"
          ],
          [
           0.3333333333333333,
           "#31688e"
          ],
          [
           0.4444444444444444,
           "#26828e"
          ],
          [
           0.5555555555555556,
           "#1f9e89"
          ],
          [
           0.6666666666666666,
           "#35b779"
          ],
          [
           0.7777777777777778,
           "#6ece58"
          ],
          [
           0.8888888888888888,
           "#b5de2b"
          ],
          [
           1,
           "#fde725"
          ]
         ]
        },
        "height": 600,
        "legend": {
         "tracegroupgap": 0
        },
        "template": {
         "data": {
          "bar": [
           {
            "error_x": {
             "color": "#2a3f5f"
            },
            "error_y": {
             "color": "#2a3f5f"
            },
            "marker": {
             "line": {
              "color": "#E5ECF6",
              "width": 0.5
             },
             "pattern": {
              "fillmode": "overlay",
              "size": 10,
              "solidity": 0.2
             }
            },
            "type": "bar"
           }
          ],
          "barpolar": [
           {
            "marker": {
             "line": {
              "color": "#E5ECF6",
              "width": 0.5
             },
             "pattern": {
              "fillmode": "overlay",
              "size": 10,
              "solidity": 0.2
             }
            },
            "type": "barpolar"
           }
          ],
          "carpet": [
           {
            "aaxis": {
             "endlinecolor": "#2a3f5f",
             "gridcolor": "white",
             "linecolor": "white",
             "minorgridcolor": "white",
             "startlinecolor": "#2a3f5f"
            },
            "baxis": {
             "endlinecolor": "#2a3f5f",
             "gridcolor": "white",
             "linecolor": "white",
             "minorgridcolor": "white",
             "startlinecolor": "#2a3f5f"
            },
            "type": "carpet"
           }
          ],
          "choropleth": [
           {
            "colorbar": {
             "outlinewidth": 0,
             "ticks": ""
            },
            "type": "choropleth"
           }
          ],
          "contour": [
           {
            "colorbar": {
             "outlinewidth": 0,
             "ticks": ""
            },
            "colorscale": [
             [
              0,
              "#0d0887"
             ],
             [
              0.1111111111111111,
              "#46039f"
             ],
             [
              0.2222222222222222,
              "#7201a8"
             ],
             [
              0.3333333333333333,
              "#9c179e"
             ],
             [
              0.4444444444444444,
              "#bd3786"
             ],
             [
              0.5555555555555556,
              "#d8576b"
             ],
             [
              0.6666666666666666,
              "#ed7953"
             ],
             [
              0.7777777777777778,
              "#fb9f3a"
             ],
             [
              0.8888888888888888,
              "#fdca26"
             ],
             [
              1,
              "#f0f921"
             ]
            ],
            "type": "contour"
           }
          ],
          "contourcarpet": [
           {
            "colorbar": {
             "outlinewidth": 0,
             "ticks": ""
            },
            "type": "contourcarpet"
           }
          ],
          "heatmap": [
           {
            "colorbar": {
             "outlinewidth": 0,
             "ticks": ""
            },
            "colorscale": [
             [
              0,
              "#0d0887"
             ],
             [
              0.1111111111111111,
              "#46039f"
             ],
             [
              0.2222222222222222,
              "#7201a8"
             ],
             [
              0.3333333333333333,
              "#9c179e"
             ],
             [
              0.4444444444444444,
              "#bd3786"
             ],
             [
              0.5555555555555556,
              "#d8576b"
             ],
             [
              0.6666666666666666,
              "#ed7953"
             ],
             [
              0.7777777777777778,
              "#fb9f3a"
             ],
             [
              0.8888888888888888,
              "#fdca26"
             ],
             [
              1,
              "#f0f921"
             ]
            ],
            "type": "heatmap"
           }
          ],
          "histogram": [
           {
            "marker": {
             "pattern": {
              "fillmode": "overlay",
              "size": 10,
              "solidity": 0.2
             }
            },
            "type": "histogram"
           }
          ],
          "histogram2d": [
           {
            "colorbar": {
             "outlinewidth": 0,
             "ticks": ""
            },
            "colorscale": [
             [
              0,
              "#0d0887"
             ],
             [
              0.1111111111111111,
              "#46039f"
             ],
             [
              0.2222222222222222,
              "#7201a8"
             ],
             [
              0.3333333333333333,
              "#9c179e"
             ],
             [
              0.4444444444444444,
              "#bd3786"
             ],
             [
              0.5555555555555556,
              "#d8576b"
             ],
             [
              0.6666666666666666,
              "#ed7953"
             ],
             [
              0.7777777777777778,
              "#fb9f3a"
             ],
             [
              0.8888888888888888,
              "#fdca26"
             ],
             [
              1,
              "#f0f921"
             ]
            ],
            "type": "histogram2d"
           }
          ],
          "histogram2dcontour": [
           {
            "colorbar": {
             "outlinewidth": 0,
             "ticks": ""
            },
            "colorscale": [
             [
              0,
              "#0d0887"
             ],
             [
              0.1111111111111111,
              "#46039f"
             ],
             [
              0.2222222222222222,
              "#7201a8"
             ],
             [
              0.3333333333333333,
              "#9c179e"
             ],
             [
              0.4444444444444444,
              "#bd3786"
             ],
             [
              0.5555555555555556,
              "#d8576b"
             ],
             [
              0.6666666666666666,
              "#ed7953"
             ],
             [
              0.7777777777777778,
              "#fb9f3a"
             ],
             [
              0.8888888888888888,
              "#fdca26"
             ],
             [
              1,
              "#f0f921"
             ]
            ],
            "type": "histogram2dcontour"
           }
          ],
          "mesh3d": [
           {
            "colorbar": {
             "outlinewidth": 0,
             "ticks": ""
            },
            "type": "mesh3d"
           }
          ],
          "parcoords": [
           {
            "line": {
             "colorbar": {
              "outlinewidth": 0,
              "ticks": ""
             }
            },
            "type": "parcoords"
           }
          ],
          "pie": [
           {
            "automargin": true,
            "type": "pie"
           }
          ],
          "scatter": [
           {
            "fillpattern": {
             "fillmode": "overlay",
             "size": 10,
             "solidity": 0.2
            },
            "type": "scatter"
           }
          ],
          "scatter3d": [
           {
            "line": {
             "colorbar": {
              "outlinewidth": 0,
              "ticks": ""
             }
            },
            "marker": {
             "colorbar": {
              "outlinewidth": 0,
              "ticks": ""
             }
            },
            "type": "scatter3d"
           }
          ],
          "scattercarpet": [
           {
            "marker": {
             "colorbar": {
              "outlinewidth": 0,
              "ticks": ""
             }
            },
            "type": "scattercarpet"
           }
          ],
          "scattergeo": [
           {
            "marker": {
             "colorbar": {
              "outlinewidth": 0,
              "ticks": ""
             }
            },
            "type": "scattergeo"
           }
          ],
          "scattergl": [
           {
            "marker": {
             "colorbar": {
              "outlinewidth": 0,
              "ticks": ""
             }
            },
            "type": "scattergl"
           }
          ],
          "scattermap": [
           {
            "marker": {
             "colorbar": {
              "outlinewidth": 0,
              "ticks": ""
             }
            },
            "type": "scattermap"
           }
          ],
          "scattermapbox": [
           {
            "marker": {
             "colorbar": {
              "outlinewidth": 0,
              "ticks": ""
             }
            },
            "type": "scattermapbox"
           }
          ],
          "scatterpolar": [
           {
            "marker": {
             "colorbar": {
              "outlinewidth": 0,
              "ticks": ""
             }
            },
            "type": "scatterpolar"
           }
          ],
          "scatterpolargl": [
           {
            "marker": {
             "colorbar": {
              "outlinewidth": 0,
              "ticks": ""
             }
            },
            "type": "scatterpolargl"
           }
          ],
          "scatterternary": [
           {
            "marker": {
             "colorbar": {
              "outlinewidth": 0,
              "ticks": ""
             }
            },
            "type": "scatterternary"
           }
          ],
          "surface": [
           {
            "colorbar": {
             "outlinewidth": 0,
             "ticks": ""
            },
            "colorscale": [
             [
              0,
              "#0d0887"
             ],
             [
              0.1111111111111111,
              "#46039f"
             ],
             [
              0.2222222222222222,
              "#7201a8"
             ],
             [
              0.3333333333333333,
              "#9c179e"
             ],
             [
              0.4444444444444444,
              "#bd3786"
             ],
             [
              0.5555555555555556,
              "#d8576b"
             ],
             [
              0.6666666666666666,
              "#ed7953"
             ],
             [
              0.7777777777777778,
              "#fb9f3a"
             ],
             [
              0.8888888888888888,
              "#fdca26"
             ],
             [
              1,
              "#f0f921"
             ]
            ],
            "type": "surface"
           }
          ],
          "table": [
           {
            "cells": {
             "fill": {
              "color": "#EBF0F8"
             },
             "line": {
              "color": "white"
             }
            },
            "header": {
             "fill": {
              "color": "#C8D4E3"
             },
             "line": {
              "color": "white"
             }
            },
            "type": "table"
           }
          ]
         },
         "layout": {
          "annotationdefaults": {
           "arrowcolor": "#2a3f5f",
           "arrowhead": 0,
           "arrowwidth": 1
          },
          "autotypenumbers": "strict",
          "coloraxis": {
           "colorbar": {
            "outlinewidth": 0,
            "ticks": ""
           }
          },
          "colorscale": {
           "diverging": [
            [
             0,
             "#8e0152"
            ],
            [
             0.1,
             "#c51b7d"
            ],
            [
             0.2,
             "#de77ae"
            ],
            [
             0.3,
             "#f1b6da"
            ],
            [
             0.4,
             "#fde0ef"
            ],
            [
             0.5,
             "#f7f7f7"
            ],
            [
             0.6,
             "#e6f5d0"
            ],
            [
             0.7,
             "#b8e186"
            ],
            [
             0.8,
             "#7fbc41"
            ],
            [
             0.9,
             "#4d9221"
            ],
            [
             1,
             "#276419"
            ]
           ],
           "sequential": [
            [
             0,
             "#0d0887"
            ],
            [
             0.1111111111111111,
             "#46039f"
            ],
            [
             0.2222222222222222,
             "#7201a8"
            ],
            [
             0.3333333333333333,
             "#9c179e"
            ],
            [
             0.4444444444444444,
             "#bd3786"
            ],
            [
             0.5555555555555556,
             "#d8576b"
            ],
            [
             0.6666666666666666,
             "#ed7953"
            ],
            [
             0.7777777777777778,
             "#fb9f3a"
            ],
            [
             0.8888888888888888,
             "#fdca26"
            ],
            [
             1,
             "#f0f921"
            ]
           ],
           "sequentialminus": [
            [
             0,
             "#0d0887"
            ],
            [
             0.1111111111111111,
             "#46039f"
            ],
            [
             0.2222222222222222,
             "#7201a8"
            ],
            [
             0.3333333333333333,
             "#9c179e"
            ],
            [
             0.4444444444444444,
             "#bd3786"
            ],
            [
             0.5555555555555556,
             "#d8576b"
            ],
            [
             0.6666666666666666,
             "#ed7953"
            ],
            [
             0.7777777777777778,
             "#fb9f3a"
            ],
            [
             0.8888888888888888,
             "#fdca26"
            ],
            [
             1,
             "#f0f921"
            ]
           ]
          },
          "colorway": [
           "#636efa",
           "#EF553B",
           "#00cc96",
           "#ab63fa",
           "#FFA15A",
           "#19d3f3",
           "#FF6692",
           "#B6E880",
           "#FF97FF",
           "#FECB52"
          ],
          "font": {
           "color": "#2a3f5f"
          },
          "geo": {
           "bgcolor": "white",
           "lakecolor": "white",
           "landcolor": "#E5ECF6",
           "showlakes": true,
           "showland": true,
           "subunitcolor": "white"
          },
          "hoverlabel": {
           "align": "left"
          },
          "hovermode": "closest",
          "mapbox": {
           "style": "light"
          },
          "paper_bgcolor": "white",
          "plot_bgcolor": "#E5ECF6",
          "polar": {
           "angularaxis": {
            "gridcolor": "white",
            "linecolor": "white",
            "ticks": ""
           },
           "bgcolor": "#E5ECF6",
           "radialaxis": {
            "gridcolor": "white",
            "linecolor": "white",
            "ticks": ""
           }
          },
          "scene": {
           "xaxis": {
            "backgroundcolor": "#E5ECF6",
            "gridcolor": "white",
            "gridwidth": 2,
            "linecolor": "white",
            "showbackground": true,
            "ticks": "",
            "zerolinecolor": "white"
           },
           "yaxis": {
            "backgroundcolor": "#E5ECF6",
            "gridcolor": "white",
            "gridwidth": 2,
            "linecolor": "white",
            "showbackground": true,
            "ticks": "",
            "zerolinecolor": "white"
           },
           "zaxis": {
            "backgroundcolor": "#E5ECF6",
            "gridcolor": "white",
            "gridwidth": 2,
            "linecolor": "white",
            "showbackground": true,
            "ticks": "",
            "zerolinecolor": "white"
           }
          },
          "shapedefaults": {
           "line": {
            "color": "#2a3f5f"
           }
          },
          "ternary": {
           "aaxis": {
            "gridcolor": "white",
            "linecolor": "white",
            "ticks": ""
           },
           "baxis": {
            "gridcolor": "white",
            "linecolor": "white",
            "ticks": ""
           },
           "bgcolor": "#E5ECF6",
           "caxis": {
            "gridcolor": "white",
            "linecolor": "white",
            "ticks": ""
           }
          },
          "title": {
           "x": 0.05
          },
          "xaxis": {
           "automargin": true,
           "gridcolor": "white",
           "linecolor": "white",
           "ticks": "",
           "title": {
            "standoff": 15
           },
           "zerolinecolor": "white",
           "zerolinewidth": 2
          },
          "yaxis": {
           "automargin": true,
           "gridcolor": "white",
           "linecolor": "white",
           "ticks": "",
           "title": {
            "standoff": 15
           },
           "zerolinecolor": "white",
           "zerolinewidth": 2
          }
         }
        },
        "title": {
         "text": "Top 15 Feature Importance in XGBoost Model"
        },
        "xaxis": {
         "anchor": "y",
         "domain": [
          0,
          1
         ],
         "title": {
          "text": "Feature Importance"
         }
        },
        "yaxis": {
         "anchor": "x",
         "categoryorder": "total ascending",
         "domain": [
          0,
          1
         ],
         "title": {
          "text": "Feature Name"
         }
        }
       }
      }
     },
     "metadata": {},
     "output_type": "display_data"
    },
    {
     "name": "stdout",
     "output_type": "stream",
     "text": [
      "\n",
      "🎯 MODEL SUMMARY\n",
      "--------------------\n",
      "✅ Model Type: XGBoost Regressor\n",
      "📊 Training Samples: 40\n",
      "🧪 Testing Samples: 10\n",
      "🎯 Features Used: 51\n",
      "📈 Best Test R²: 0.7623\n",
      "💰 Average Prediction Error: ₹176 (0.4%)\n",
      "\n",
      "💾 Model results stored in 'model_results' variable for further analysis\n"
     ]
    }
   ],
   "source": [
    "# 🎯 XGBOOST MODEL TRAINING AND EVALUATION\n",
    "# Train the model and evaluate performance\n",
    "\n",
    "if 'features_df' in locals() and not features_df.empty:\n",
    "    print(f\"\\n🚀 XGBOOST MODEL TRAINING PIPELINE\")\n",
    "    print(\"=\" * 45)\n",
    "    \n",
    "    # Prepare data for modeling\n",
    "    print(\"📊 PREPARING DATA FOR MODELING\")\n",
    "    print(\"-\" * 35)\n",
    "    \n",
    "    # Remove non-feature columns and handle missing values\n",
    "    feature_columns = [col for col in features_df.columns if col not in ['Date', 'target_spot_price']]\n",
    "    X = features_df[feature_columns].copy()\n",
    "    y = features_df['target_spot_price'].copy()\n",
    "    \n",
    "    # Handle missing values\n",
    "    X = X.fillna(0)\n",
    "    \n",
    "    # Handle infinite values\n",
    "    X = X.replace([np.inf, -np.inf], 0)\n",
    "    \n",
    "    print(f\"   ✅ Features prepared: {X.shape}\")\n",
    "    print(f\"   🎯 Target samples: {len(y)}\")\n",
    "    print(f\"   📊 Feature columns: {len(feature_columns)}\")\n",
    "    \n",
    "    # Check for sufficient data\n",
    "    if len(X) < 10:\n",
    "        print(\"❌ Insufficient data for modeling (need at least 10 samples)\")\n",
    "        print(\"💡 Please ensure you have more overlapping dates in your options and spot data\")\n",
    "    else:\n",
    "        # Split data chronologically (important for time series)\n",
    "        # Use last 20% for testing, rest for training\n",
    "        split_idx = int(0.8 * len(X))\n",
    "        \n",
    "        X_train = X.iloc[:split_idx]\n",
    "        X_test = X.iloc[split_idx:]\n",
    "        y_train = y.iloc[:split_idx]\n",
    "        y_test = y.iloc[split_idx:]\n",
    "        \n",
    "        train_dates = features_df['Date'].iloc[:split_idx]\n",
    "        test_dates = features_df['Date'].iloc[split_idx:]\n",
    "        \n",
    "        print(f\"   📚 Training samples: {len(X_train)} (up to {train_dates.max():%d-%b-%Y})\")\n",
    "        print(f\"   🧪 Testing samples: {len(X_test)} (from {test_dates.min():%d-%b-%Y})\")\n",
    "        \n",
    "        # Feature scaling (important for better model performance)\n",
    "        scaler = StandardScaler()\n",
    "        X_train_scaled = scaler.fit_transform(X_train)\n",
    "        X_test_scaled = scaler.transform(X_test)\n",
    "        \n",
    "        print(f\"\\n🤖 TRAINING XGBOOST MODEL\")\n",
    "        print(\"-\" * 30)\n",
    "        \n",
    "        # XGBoost model with optimized parameters\n",
    "        xgb_params = {\n",
    "            'objective': 'reg:squarederror',\n",
    "            'eval_metric': 'rmse',\n",
    "            'max_depth': 6,\n",
    "            'learning_rate': 0.1,\n",
    "            'n_estimators': 100,\n",
    "            'subsample': 0.8,\n",
    "            'colsample_bytree': 0.8,\n",
    "            'random_state': 42,\n",
    "            'n_jobs': -1\n",
    "        }\n",
    "        \n",
    "        # Train the model\n",
    "        model = xgb.XGBRegressor(**xgb_params)\n",
    "        \n",
    "        # Train with early stopping\n",
    "        model.fit(\n",
    "            X_train_scaled, y_train,\n",
    "            eval_set=[(X_train_scaled, y_train), (X_test_scaled, y_test)],\n",
    "            verbose=False\n",
    "        )\n",
    "        \n",
    "        print(\"   ✅ XGBoost model trained successfully!\")\n",
    "        \n",
    "        # Make predictions\n",
    "        y_train_pred = model.predict(X_train_scaled)\n",
    "        y_test_pred = model.predict(X_test_scaled)\n",
    "        \n",
    "        print(f\"\\n📊 MODEL PERFORMANCE EVALUATION\")\n",
    "        print(\"-\" * 35)\n",
    "        \n",
    "        # Calculate metrics\n",
    "        train_rmse = np.sqrt(mean_squared_error(y_train, y_train_pred))\n",
    "        test_rmse = np.sqrt(mean_squared_error(y_test, y_test_pred))\n",
    "        train_mae = mean_absolute_error(y_train, y_train_pred)\n",
    "        test_mae = mean_absolute_error(y_test, y_test_pred)\n",
    "        train_r2 = r2_score(y_train, y_train_pred)\n",
    "        test_r2 = r2_score(y_test, y_test_pred)\n",
    "        \n",
    "        # Calculate percentage errors\n",
    "        train_mape = np.mean(np.abs((y_train - y_train_pred) / y_train)) * 100\n",
    "        test_mape = np.mean(np.abs((y_test - y_test_pred) / y_test)) * 100\n",
    "        \n",
    "        print(f\"🏋️ TRAINING PERFORMANCE:\")\n",
    "        print(f\"   RMSE: ₹{train_rmse:,.2f}\")\n",
    "        print(f\"   MAE:  ₹{train_mae:,.2f}\")\n",
    "        print(f\"   R²:   {train_r2:.4f}\")\n",
    "        print(f\"   MAPE: {train_mape:.2f}%\")\n",
    "        \n",
    "        print(f\"\\n🧪 TESTING PERFORMANCE:\")\n",
    "        print(f\"   RMSE: ₹{test_rmse:,.2f}\")\n",
    "        print(f\"   MAE:  ₹{test_mae:,.2f}\")\n",
    "        print(f\"   R²:   {test_r2:.4f}\")\n",
    "        print(f\"   MAPE: {test_mape:.2f}%\")\n",
    "        \n",
    "        # Model interpretation\n",
    "        print(f\"\\n🔍 FEATURE IMPORTANCE ANALYSIS\")\n",
    "        print(\"-\" * 35)\n",
    "        \n",
    "        # Get feature importance\n",
    "        feature_importance = pd.DataFrame({\n",
    "            'feature': feature_columns,\n",
    "            'importance': model.feature_importances_\n",
    "        }).sort_values('importance', ascending=False)\n",
    "        \n",
    "        print(\"🏆 TOP 10 MOST IMPORTANT FEATURES:\")\n",
    "        for i, (_, row) in enumerate(feature_importance.head(10).iterrows(), 1):\n",
    "            print(f\"   {i:2d}. {row['feature']:<25} ({row['importance']:.4f})\")\n",
    "        \n",
    "        # Create comprehensive visualizations\n",
    "        print(f\"\\n📈 CREATING PREDICTION VISUALIZATIONS\")\n",
    "        print(\"-\" * 40)\n",
    "        \n",
    "        # Create subplots for multiple visualizations\n",
    "        fig = make_subplots(\n",
    "            rows=2, cols=2,\n",
    "            subplot_titles=[\n",
    "                'Actual vs Predicted (Training)',\n",
    "                'Actual vs Predicted (Testing)', \n",
    "                'Time Series: Actual vs Predicted',\n",
    "                'Feature Importance (Top 15)'\n",
    "            ],\n",
    "            specs=[\n",
    "                [{\"secondary_y\": False}, {\"secondary_y\": False}],\n",
    "                [{\"colspan\": 2}, None]\n",
    "            ],\n",
    "            vertical_spacing=0.12,\n",
    "            horizontal_spacing=0.1\n",
    "        )\n",
    "        \n",
    "        # 1. Training scatter plot\n",
    "        fig.add_trace(\n",
    "            go.Scatter(\n",
    "                x=y_train, y=y_train_pred,\n",
    "                mode='markers',\n",
    "                name='Training',\n",
    "                marker=dict(color='blue', size=6, opacity=0.6),\n",
    "                hovertemplate='Actual: ₹%{x:,.0f}<br>Predicted: ₹%{y:,.0f}<extra></extra>'\n",
    "            ),\n",
    "            row=1, col=1\n",
    "        )\n",
    "        \n",
    "        # Perfect prediction line for training\n",
    "        min_val = min(y_train.min(), y_train_pred.min())\n",
    "        max_val = max(y_train.max(), y_train_pred.max())\n",
    "        fig.add_trace(\n",
    "            go.Scatter(\n",
    "                x=[min_val, max_val], y=[min_val, max_val],\n",
    "                mode='lines',\n",
    "                name='Perfect Prediction',\n",
    "                line=dict(color='red', dash='dash'),\n",
    "                showlegend=False\n",
    "            ),\n",
    "            row=1, col=1\n",
    "        )\n",
    "        \n",
    "        # 2. Testing scatter plot\n",
    "        fig.add_trace(\n",
    "            go.Scatter(\n",
    "                x=y_test, y=y_test_pred,\n",
    "                mode='markers',\n",
    "                name='Testing',\n",
    "                marker=dict(color='green', size=8, opacity=0.7),\n",
    "                hovertemplate='Actual: ₹%{x:,.0f}<br>Predicted: ₹%{y:,.0f}<extra></extra>'\n",
    "            ),\n",
    "            row=1, col=2\n",
    "        )\n",
    "        \n",
    "        # Perfect prediction line for testing\n",
    "        min_val_test = min(y_test.min(), y_test_pred.min())\n",
    "        max_val_test = max(y_test.max(), y_test_pred.max())\n",
    "        fig.add_trace(\n",
    "            go.Scatter(\n",
    "                x=[min_val_test, max_val_test], y=[min_val_test, max_val_test],\n",
    "                mode='lines',\n",
    "                name='Perfect Prediction',\n",
    "                line=dict(color='red', dash='dash'),\n",
    "                showlegend=False\n",
    "            ),\n",
    "            row=1, col=2\n",
    "        )\n",
    "        \n",
    "        # 3. Time series plot\n",
    "        all_dates = pd.concat([train_dates, test_dates])\n",
    "        all_actual = pd.concat([y_train, y_test])\n",
    "        all_predicted = np.concatenate([y_train_pred, y_test_pred])\n",
    "        \n",
    "        fig.add_trace(\n",
    "            go.Scatter(\n",
    "                x=all_dates, y=all_actual,\n",
    "                mode='lines+markers',\n",
    "                name='Actual Spot Price',\n",
    "                line=dict(color='blue', width=2),\n",
    "                marker=dict(size=4)\n",
    "            ),\n",
    "            row=2, col=1\n",
    "        )\n",
    "        \n",
    "        fig.add_trace(\n",
    "            go.Scatter(\n",
    "                x=all_dates, y=all_predicted,\n",
    "                mode='lines+markers',\n",
    "                name='Predicted Spot Price',\n",
    "                line=dict(color='red', width=2, dash='dot'),\n",
    "                marker=dict(size=4)\n",
    "            ),\n",
    "            row=2, col=1\n",
    "        )\n",
    "        \n",
    "        # Note: Vertical line removed due to compatibility issues\n",
    "        \n",
    "        # Update layout\n",
    "        fig.update_layout(\n",
    "            title=f'XGBoost Bank Nifty Spot Price Prediction Results<br><sub>Test RMSE: ₹{test_rmse:,.0f} | Test R²: {test_r2:.3f} | Test MAPE: {test_mape:.1f}%</sub>',\n",
    "            height=800,\n",
    "            showlegend=True,\n",
    "            font=dict(size=10)\n",
    "        )\n",
    "        \n",
    "        # Update axis labels\n",
    "        fig.update_xaxes(title_text=\"Actual Price (₹)\", row=1, col=1)\n",
    "        fig.update_yaxes(title_text=\"Predicted Price (₹)\", row=1, col=1)\n",
    "        fig.update_xaxes(title_text=\"Actual Price (₹)\", row=1, col=2)\n",
    "        fig.update_yaxes(title_text=\"Predicted Price (₹)\", row=1, col=2)\n",
    "        fig.update_xaxes(title_text=\"Date\", row=2, col=1)\n",
    "        fig.update_yaxes(title_text=\"Bank Nifty Price (₹)\", row=2, col=1)\n",
    "        \n",
    "        fig.show()\n",
    "        \n",
    "        # Feature importance plot\n",
    "        fig_importance = px.bar(\n",
    "            feature_importance.head(15),\n",
    "            x='importance', y='feature',\n",
    "            orientation='h',\n",
    "            title=f'Top 15 Feature Importance in XGBoost Model',\n",
    "            labels={'importance': 'Feature Importance', 'feature': 'Feature Name'},\n",
    "            color='importance',\n",
    "            color_continuous_scale='viridis'\n",
    "        )\n",
    "        fig_importance.update_layout(height=600, yaxis={'categoryorder':'total ascending'})\n",
    "        fig_importance.show()\n",
    "        \n",
    "        # Model summary\n",
    "        print(f\"\\n🎯 MODEL SUMMARY\")\n",
    "        print(\"-\" * 20)\n",
    "        print(f\"✅ Model Type: XGBoost Regressor\")\n",
    "        print(f\"📊 Training Samples: {len(X_train):,}\")\n",
    "        print(f\"🧪 Testing Samples: {len(X_test):,}\")\n",
    "        print(f\"🎯 Features Used: {len(feature_columns)}\")\n",
    "        print(f\"📈 Best Test R²: {test_r2:.4f}\")\n",
    "        print(f\"💰 Average Prediction Error: ₹{test_mae:,.0f} ({test_mape:.1f}%)\")\n",
    "        \n",
    "        # Store results for later use\n",
    "        model_results = {\n",
    "            'model': model,\n",
    "            'scaler': scaler,\n",
    "            'feature_columns': feature_columns,\n",
    "            'test_rmse': test_rmse,\n",
    "            'test_r2': test_r2,\n",
    "            'test_mape': test_mape,\n",
    "            'feature_importance': feature_importance,\n",
    "            'X_test': X_test,\n",
    "            'y_test': y_test,\n",
    "            'y_test_pred': y_test_pred,\n",
    "            'test_dates': test_dates\n",
    "        }\n",
    "        \n",
    "        print(f\"\\n💾 Model results stored in 'model_results' variable for further analysis\")\n",
    "        \n",
    "else:\n",
    "    print(\"❌ No features available for modeling. Please run the feature engineering cell first.\")"
   ]
  },
  {
   "cell_type": "code",
   "execution_count": 6,
   "id": "31cb2c78",
   "metadata": {},
   "outputs": [
    {
     "name": "stdout",
     "output_type": "stream",
     "text": [
      "🔮 REAL-TIME BANK NIFTY PREDICTION ENGINE\n",
      "==================================================\n",
      "🧪 DEMO PREDICTION USING LATEST AVAILABLE DATA\n",
      "--------------------------------------------------\n",
      "📅 Using data from: 15-Mar-2024\n",
      "💰 Actual spot price: ₹46,594.10\n",
      "🔮 Predicted spot price: ₹46,596.10\n",
      "📊 Prediction error: ₹2.00 (0.00%)\n",
      "✅ Excellent prediction accuracy!\n",
      "\n",
      "🔍 KEY FEATURES DRIVING PREDICTION:\n",
      "-----------------------------------\n",
      "   put_avg_ltp              :     720.36 (imp: 0.445)\n",
      "   put_max_ltp              :    9000.00 (imp: 0.225)\n",
      "   put_avg_close            :       0.00 (imp: 0.091)\n",
      "   volume_weighted_pcr      :       0.00 (imp: 0.082)\n",
      "   pcr_ltp                  :       0.76 (imp: 0.046)\n",
      "\n",
      "🎛️ INTERACTIVE PREDICTION INTERFACE\n",
      "----------------------------------------\n",
      "💡 Adjust the parameters below and click 'Predict' to see the model's prediction:\n"
     ]
    },
    {
     "data": {
      "application/vnd.jupyter.widget-view+json": {
       "model_id": "9fd7719c2e054bcc8ca68369d2ef10d5",
       "version_major": 2,
       "version_minor": 0
      },
      "text/plain": [
       "VBox(children=(HBox(children=(FloatText(value=50000.0, description='Spot Estimate:', style=DescriptionStyle(de…"
      ]
     },
     "metadata": {},
     "output_type": "display_data"
    },
    {
     "name": "stdout",
     "output_type": "stream",
     "text": [
      "\n",
      "📊 MODEL DEPLOYMENT SUMMARY\n",
      "-----------------------------------\n",
      "✅ Model Status: Ready for deployment\n",
      "🎯 Test Accuracy: R² = 0.762\n",
      "💰 Average Error: ₹201\n",
      "📈 MAPE: 0.4%\n",
      "🔧 Features: 51 options-based indicators\n",
      "📊 Model: XGBoost with early stopping\n",
      "\n",
      "🚀 NEXT STEPS:\n",
      "   1. Use predict_spot_price() function for real-time predictions\n",
      "   2. Update model periodically with new data\n",
      "   3. Monitor prediction accuracy over time\n",
      "   4. Consider ensemble methods for improved accuracy\n"
     ]
    }
   ],
   "source": [
    "# 🔮 REAL-TIME PREDICTION ENGINE\n",
    "# Use the trained model for real-time Bank Nifty spot price prediction\n",
    "\n",
    "if 'model_results' in locals():\n",
    "    print(\"🔮 REAL-TIME BANK NIFTY PREDICTION ENGINE\")\n",
    "    print(\"=\" * 50)\n",
    "    \n",
    "    # Extract model components\n",
    "    trained_model = model_results['model']\n",
    "    scaler = model_results['scaler']\n",
    "    feature_columns = model_results['feature_columns']\n",
    "    \n",
    "    def predict_spot_price(call_data, put_data, current_spot_estimate=None):\n",
    "        \"\"\"\n",
    "        Predict Bank Nifty spot price using current options data\n",
    "        \"\"\"\n",
    "        try:\n",
    "            # Create features for prediction (same as training pipeline)\n",
    "            features = {}\n",
    "            \n",
    "            # Call options features\n",
    "            if call_data is not None and not call_data.empty:\n",
    "                features.update({\n",
    "                    'call_total_volume': call_data['Volume'].sum() if 'Volume' in call_data.columns else 0,\n",
    "                    'call_avg_ltp': call_data['LTP'].mean() if 'LTP' in call_data.columns else 0,\n",
    "                    'call_max_ltp': call_data['LTP'].max() if 'LTP' in call_data.columns else 0,\n",
    "                    'call_min_ltp': call_data['LTP'].min() if 'LTP' in call_data.columns else 0,\n",
    "                    'call_total_oi': call_data['Open Interest'].sum() if 'Open Interest' in call_data.columns else 0,\n",
    "                    'call_avg_bid': call_data['Bid'].mean() if 'Bid' in call_data.columns else 0,\n",
    "                    'call_avg_ask': call_data['Ask'].mean() if 'Ask' in call_data.columns else 0,\n",
    "                    'call_unique_strikes': call_data['Strike'].nunique() if 'Strike' in call_data.columns else 0,\n",
    "                })\n",
    "                \n",
    "                # ATM analysis (use provided spot estimate or calculate from option prices)\n",
    "                if current_spot_estimate and 'Strike' in call_data.columns:\n",
    "                    strikes = call_data['Strike'].values\n",
    "                    closest_strike_idx = np.argmin(np.abs(strikes - current_spot_estimate))\n",
    "                    atm_strike = strikes[closest_strike_idx]\n",
    "                    \n",
    "                    atm_calls = call_data[call_data['Strike'] == atm_strike]\n",
    "                    if not atm_calls.empty:\n",
    "                        features.update({\n",
    "                            'call_atm_ltp': atm_calls['LTP'].iloc[0] if 'LTP' in atm_calls.columns else 0,\n",
    "                            'call_atm_volume': atm_calls['Volume'].iloc[0] if 'Volume' in atm_calls.columns else 0,\n",
    "                            'call_atm_oi': atm_calls['Open Interest'].iloc[0] if 'Open Interest' in atm_calls.columns else 0,\n",
    "                        })\n",
    "                    \n",
    "                    # ITM/OTM analysis\n",
    "                    itm_calls = call_data[call_data['Strike'] < current_spot_estimate]\n",
    "                    otm_calls = call_data[call_data['Strike'] > current_spot_estimate]\n",
    "                    \n",
    "                    features.update({\n",
    "                        'call_itm_volume': itm_calls['Volume'].sum() if not itm_calls.empty and 'Volume' in itm_calls.columns else 0,\n",
    "                        'call_otm_volume': otm_calls['Volume'].sum() if not otm_calls.empty and 'Volume' in otm_calls.columns else 0,\n",
    "                        'call_itm_oi': itm_calls['Open Interest'].sum() if not itm_calls.empty and 'Open Interest' in itm_calls.columns else 0,\n",
    "                        'call_otm_oi': otm_calls['Open Interest'].sum() if not otm_calls.empty and 'Open Interest' in otm_calls.columns else 0,\n",
    "                    })\n",
    "                    \n",
    "                    features['call_itm_otm_volume_ratio'] = (\n",
    "                        features.get('call_itm_volume', 0) / features.get('call_otm_volume', 1)\n",
    "                        if features.get('call_otm_volume', 1) > 0 else 0\n",
    "                    )\n",
    "                    features['call_itm_otm_oi_ratio'] = (\n",
    "                        features.get('call_itm_oi', 0) / features.get('call_otm_oi', 1)\n",
    "                        if features.get('call_otm_oi', 1) > 0 else 0\n",
    "                    )\n",
    "            \n",
    "            # Put options features\n",
    "            if put_data is not None and not put_data.empty:\n",
    "                features.update({\n",
    "                    'put_total_volume': put_data['Volume'].sum() if 'Volume' in put_data.columns else 0,\n",
    "                    'put_avg_ltp': put_data['LTP'].mean() if 'LTP' in put_data.columns else 0,\n",
    "                    'put_max_ltp': put_data['LTP'].max() if 'LTP' in put_data.columns else 0,\n",
    "                    'put_min_ltp': put_data['LTP'].min() if 'LTP' in put_data.columns else 0,\n",
    "                    'put_total_oi': put_data['Open Interest'].sum() if 'Open Interest' in put_data.columns else 0,\n",
    "                    'put_avg_bid': put_data['Bid'].mean() if 'Bid' in put_data.columns else 0,\n",
    "                    'put_avg_ask': put_data['Ask'].mean() if 'Ask' in put_data.columns else 0,\n",
    "                    'put_unique_strikes': put_data['Strike'].nunique() if 'Strike' in put_data.columns else 0,\n",
    "                })\n",
    "                \n",
    "                # ATM analysis for puts\n",
    "                if current_spot_estimate and 'Strike' in put_data.columns:\n",
    "                    strikes = put_data['Strike'].values\n",
    "                    closest_strike_idx = np.argmin(np.abs(strikes - current_spot_estimate))\n",
    "                    atm_strike = strikes[closest_strike_idx]\n",
    "                    \n",
    "                    atm_puts = put_data[put_data['Strike'] == atm_strike]\n",
    "                    if not atm_puts.empty:\n",
    "                        features.update({\n",
    "                            'put_atm_ltp': atm_puts['LTP'].iloc[0] if 'LTP' in atm_puts.columns else 0,\n",
    "                            'put_atm_volume': atm_puts['Volume'].iloc[0] if 'Volume' in atm_puts.columns else 0,\n",
    "                            'put_atm_oi': atm_puts['Open Interest'].iloc[0] if 'Open Interest' in atm_puts.columns else 0,\n",
    "                        })\n",
    "                    \n",
    "                    # ITM/OTM for puts (opposite to calls)\n",
    "                    itm_puts = put_data[put_data['Strike'] > current_spot_estimate]\n",
    "                    otm_puts = put_data[put_data['Strike'] < current_spot_estimate]\n",
    "                    \n",
    "                    features.update({\n",
    "                        'put_itm_volume': itm_puts['Volume'].sum() if not itm_puts.empty and 'Volume' in itm_puts.columns else 0,\n",
    "                        'put_otm_volume': otm_puts['Volume'].sum() if not otm_puts.empty and 'Volume' in otm_puts.columns else 0,\n",
    "                        'put_itm_oi': itm_puts['Open Interest'].sum() if not itm_puts.empty and 'Open Interest' in itm_puts.columns else 0,\n",
    "                        'put_otm_oi': otm_puts['Open Interest'].sum() if not otm_puts.empty and 'Open Interest' in otm_puts.columns else 0,\n",
    "                    })\n",
    "                    \n",
    "                    features['put_itm_otm_volume_ratio'] = (\n",
    "                        features.get('put_itm_volume', 0) / features.get('put_otm_volume', 1)\n",
    "                        if features.get('put_otm_volume', 1) > 0 else 0\n",
    "                    )\n",
    "                    features['put_itm_otm_oi_ratio'] = (\n",
    "                        features.get('put_itm_oi', 0) / features.get('put_otm_oi', 1)\n",
    "                        if features.get('put_otm_oi', 1) > 0 else 0\n",
    "                    )\n",
    "            \n",
    "            # Combined features\n",
    "            features['pcr_volume'] = (\n",
    "                features.get('put_total_volume', 0) / features.get('call_total_volume', 1)\n",
    "                if features.get('call_total_volume', 1) > 0 else 0\n",
    "            )\n",
    "            features['pcr_oi'] = (\n",
    "                features.get('put_total_oi', 0) / features.get('call_total_oi', 1)\n",
    "                if features.get('call_total_oi', 1) > 0 else 0\n",
    "            )\n",
    "            features['pcr_ltp'] = (\n",
    "                features.get('put_avg_ltp', 0) / features.get('call_avg_ltp', 1)\n",
    "                if features.get('call_avg_ltp', 1) > 0 else 0\n",
    "            )\n",
    "            \n",
    "            features['total_volume'] = features.get('call_total_volume', 0) + features.get('put_total_volume', 0)\n",
    "            features['total_oi'] = features.get('call_total_oi', 0) + features.get('put_total_oi', 0)\n",
    "            \n",
    "            # Time features (current date)\n",
    "            current_date = pd.Timestamp.now()\n",
    "            features.update({\n",
    "                'day_of_week': current_date.dayofweek,\n",
    "                'day_of_month': current_date.day,\n",
    "                'month': current_date.month,\n",
    "                'is_month_end': 1 if current_date.day > 25 else 0,\n",
    "                'is_expiry_week': 0\n",
    "            })\n",
    "            \n",
    "            # Ensure all features are present (fill missing with 0)\n",
    "            feature_vector = []\n",
    "            for col in feature_columns:\n",
    "                feature_vector.append(features.get(col, 0))\n",
    "            \n",
    "            # Convert to numpy array and reshape\n",
    "            X_pred = np.array(feature_vector).reshape(1, -1)\n",
    "            \n",
    "            # Scale features\n",
    "            X_pred_scaled = scaler.transform(X_pred)\n",
    "            \n",
    "            # Make prediction\n",
    "            prediction = trained_model.predict(X_pred_scaled)[0]\n",
    "            \n",
    "            return {\n",
    "                'predicted_price': prediction,\n",
    "                'features_used': features,\n",
    "                'success': True,\n",
    "                'message': 'Prediction successful'\n",
    "            }\n",
    "            \n",
    "        except Exception as e:\n",
    "            return {\n",
    "                'predicted_price': None,\n",
    "                'features_used': None,\n",
    "                'success': False,\n",
    "                'message': f'Prediction failed: {str(e)}'\n",
    "            }\n",
    "    \n",
    "    # Demo prediction using latest available data\n",
    "    print(f\"🧪 DEMO PREDICTION USING LATEST AVAILABLE DATA\")\n",
    "    print(\"-\" * 50)\n",
    "    \n",
    "    # Get latest date from our data\n",
    "    if not features_df.empty:\n",
    "        latest_date = features_df['Date'].max()\n",
    "        latest_spot = features_df[features_df['Date'] == latest_date]['target_spot_price'].iloc[0]\n",
    "        \n",
    "        # Get latest options data\n",
    "        latest_calls = df_call[df_call['Date'].dt.date == latest_date.date()]\n",
    "        latest_puts = df_put[df_put['Date'].dt.date == latest_date.date()]\n",
    "        \n",
    "        if not latest_calls.empty and not latest_puts.empty:\n",
    "            print(f\"📅 Using data from: {latest_date:%d-%b-%Y}\")\n",
    "            print(f\"💰 Actual spot price: ₹{latest_spot:,.2f}\")\n",
    "            \n",
    "            # Make prediction\n",
    "            result = predict_spot_price(latest_calls, latest_puts, latest_spot)\n",
    "            \n",
    "            if result['success']:\n",
    "                predicted_price = result['predicted_price']\n",
    "                error = abs(predicted_price - latest_spot)\n",
    "                error_pct = (error / latest_spot) * 100\n",
    "                \n",
    "                print(f\"🔮 Predicted spot price: ₹{predicted_price:,.2f}\")\n",
    "                print(f\"📊 Prediction error: ₹{error:.2f} ({error_pct:.2f}%)\")\n",
    "                \n",
    "                if error_pct < 2:\n",
    "                    print(\"✅ Excellent prediction accuracy!\")\n",
    "                elif error_pct < 5:\n",
    "                    print(\"✅ Good prediction accuracy!\")\n",
    "                else:\n",
    "                    print(\"⚠️ Moderate prediction accuracy - model may need refinement\")\n",
    "                \n",
    "                # Show key features that drove the prediction\n",
    "                print(f\"\\n🔍 KEY FEATURES DRIVING PREDICTION:\")\n",
    "                print(\"-\" * 35)\n",
    "                important_features = model_results['feature_importance'].head(5)\n",
    "                used_features = result['features_used']\n",
    "                \n",
    "                for _, row in important_features.iterrows():\n",
    "                    feature_name = row['feature']\n",
    "                    feature_value = used_features.get(feature_name, 0)\n",
    "                    importance = row['importance']\n",
    "                    print(f\"   {feature_name:<25}: {feature_value:>10.2f} (imp: {importance:.3f})\")\n",
    "                \n",
    "            else:\n",
    "                print(f\"❌ Prediction failed: {result['message']}\")\n",
    "        else:\n",
    "            print(\"❌ No options data available for latest date\")\n",
    "    \n",
    "    # Create an interactive prediction widget (if ipywidgets is available)\n",
    "    try:\n",
    "        import ipywidgets as widgets\n",
    "        from IPython.display import display, clear_output\n",
    "        \n",
    "        print(f\"\\n🎛️ INTERACTIVE PREDICTION INTERFACE\")\n",
    "        print(\"-\" * 40)\n",
    "        \n",
    "        # Create input widgets for manual prediction\n",
    "        spot_estimate_widget = widgets.FloatText(\n",
    "            value=50000,\n",
    "            description='Spot Estimate:',\n",
    "            style={'description_width': 'initial'}\n",
    "        )\n",
    "        \n",
    "        call_volume_widget = widgets.IntText(\n",
    "            value=100000,\n",
    "            description='Call Volume:',\n",
    "            style={'description_width': 'initial'}\n",
    "        )\n",
    "        \n",
    "        put_volume_widget = widgets.IntText(\n",
    "            value=120000,\n",
    "            description='Put Volume:',\n",
    "            style={'description_width': 'initial'}\n",
    "        )\n",
    "        \n",
    "        call_oi_widget = widgets.IntText(\n",
    "            value=500000,\n",
    "            description='Call OI:',\n",
    "            style={'description_width': 'initial'}\n",
    "        )\n",
    "        \n",
    "        put_oi_widget = widgets.IntText(\n",
    "            value=600000,\n",
    "            description='Put OI:',\n",
    "            style={'description_width': 'initial'}\n",
    "        )\n",
    "        \n",
    "        predict_button = widgets.Button(\n",
    "            description='🔮 Predict Spot Price',\n",
    "            button_style='success',\n",
    "            layout={'width': '200px'}\n",
    "        )\n",
    "        \n",
    "        output_widget = widgets.Output()\n",
    "        \n",
    "        def on_predict_button_click(b):\n",
    "            with output_widget:\n",
    "                clear_output(wait=True)\n",
    "                \n",
    "                # Create dummy data for prediction\n",
    "                dummy_call_data = pd.DataFrame({\n",
    "                    'Volume': [call_volume_widget.value // 10] * 10,\n",
    "                    'LTP': [100, 80, 60, 40, 25, 15, 8, 3, 1, 0.5],\n",
    "                    'Open Interest': [call_oi_widget.value // 10] * 10,\n",
    "                    'Strike': [spot_estimate_widget.value + i * 100 for i in range(-5, 5)],\n",
    "                    'Bid': [95, 75, 55, 35, 20, 10, 5, 1, 0.5, 0.1],\n",
    "                    'Ask': [105, 85, 65, 45, 30, 20, 10, 5, 1.5, 1]\n",
    "                })\n",
    "                \n",
    "                dummy_put_data = pd.DataFrame({\n",
    "                    'Volume': [put_volume_widget.value // 10] * 10,\n",
    "                    'LTP': [0.5, 1, 3, 8, 15, 25, 40, 60, 80, 100],\n",
    "                    'Open Interest': [put_oi_widget.value // 10] * 10,\n",
    "                    'Strike': [spot_estimate_widget.value + i * 100 for i in range(-5, 5)],\n",
    "                    'Bid': [0.1, 0.5, 1, 5, 10, 20, 35, 55, 75, 95],\n",
    "                    'Ask': [1, 1.5, 5, 10, 20, 30, 45, 65, 85, 105]\n",
    "                })\n",
    "                \n",
    "                result = predict_spot_price(dummy_call_data, dummy_put_data, spot_estimate_widget.value)\n",
    "                \n",
    "                if result['success']:\n",
    "                    predicted = result['predicted_price']\n",
    "                    print(f\"🔮 PREDICTED SPOT PRICE: ₹{predicted:,.2f}\")\n",
    "                    print(f\"📊 Based on estimate: ₹{spot_estimate_widget.value:,.2f}\")\n",
    "                    print(f\"📈 Difference: ₹{predicted - spot_estimate_widget.value:+.2f}\")\n",
    "                    \n",
    "                    # Show PCR\n",
    "                    pcr = result['features_used'].get('pcr_volume', 0)\n",
    "                    print(f\"📊 Put-Call Ratio (Volume): {pcr:.3f}\")\n",
    "                    \n",
    "                    if pcr > 1.2:\n",
    "                        print(\"📉 High PCR - Bearish sentiment\")\n",
    "                    elif pcr < 0.8:\n",
    "                        print(\"📈 Low PCR - Bullish sentiment\")\n",
    "                    else:\n",
    "                        print(\"⚖️ Neutral PCR - Balanced sentiment\")\n",
    "                else:\n",
    "                    print(f\"❌ Prediction failed: {result['message']}\")\n",
    "        \n",
    "        predict_button.on_click(on_predict_button_click)\n",
    "        \n",
    "        # Display the interface\n",
    "        print(\"💡 Adjust the parameters below and click 'Predict' to see the model's prediction:\")\n",
    "        \n",
    "        interface = widgets.VBox([\n",
    "            widgets.HBox([spot_estimate_widget, call_volume_widget]),\n",
    "            widgets.HBox([put_volume_widget, call_oi_widget]),\n",
    "            widgets.HBox([put_oi_widget, predict_button]),\n",
    "            output_widget\n",
    "        ])\n",
    "        \n",
    "        display(interface)\n",
    "        \n",
    "    except ImportError:\n",
    "        print(\"📝 Interactive interface requires ipywidgets. Install with: pip install ipywidgets\")\n",
    "    \n",
    "    # Model performance summary\n",
    "    print(f\"\\n📊 MODEL DEPLOYMENT SUMMARY\")\n",
    "    print(\"-\" * 35)\n",
    "    print(f\"✅ Model Status: Ready for deployment\")\n",
    "    print(f\"🎯 Test Accuracy: R² = {model_results['test_r2']:.3f}\")\n",
    "    print(f\"💰 Average Error: ₹{model_results['test_rmse']:,.0f}\")\n",
    "    print(f\"📈 MAPE: {model_results['test_mape']:.1f}%\")\n",
    "    print(f\"🔧 Features: {len(feature_columns)} options-based indicators\")\n",
    "    print(f\"📊 Model: XGBoost with early stopping\")\n",
    "    \n",
    "    print(f\"\\n🚀 NEXT STEPS:\")\n",
    "    print(\"   1. Use predict_spot_price() function for real-time predictions\")\n",
    "    print(\"   2. Update model periodically with new data\")\n",
    "    print(\"   3. Monitor prediction accuracy over time\")\n",
    "    print(\"   4. Consider ensemble methods for improved accuracy\")\n",
    "    \n",
    "else:\n",
    "    print(\"❌ Model not available. Please run the training cell first.\")"
   ]
  }
 ],
 "metadata": {
  "kernelspec": {
   "display_name": "Python 3",
   "language": "python",
   "name": "python3"
  },
  "language_info": {
   "codemirror_mode": {
    "name": "ipython",
    "version": 3
   },
   "file_extension": ".py",
   "mimetype": "text/x-python",
   "name": "python",
   "nbconvert_exporter": "python",
   "pygments_lexer": "ipython3",
   "version": "3.13.5"
  }
 },
 "nbformat": 4,
 "nbformat_minor": 5
}
