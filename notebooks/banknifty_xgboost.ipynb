{
 "cells": [
  {
   "cell_type": "code",
   "execution_count": 2,
   "id": "622d17c2",
   "metadata": {},
   "outputs": [
    {
     "name": "stdout",
     "output_type": "stream",
     "text": [
      "🚀 LOADING BANK NIFTY OPTIONS DATA\n",
      "==================================================\n",
      "📂 Project root: c:\\Users\\91894\\Projects\\market-data\n",
      "🔧 Source path: c:\\Users\\91894\\Projects\\market-data\\src\n",
      "✅ Successfully imported options_data_loader\n",
      "📁 Data path: c:\\Users\\91894\\Projects\\market-data\\data\n",
      "\n",
      "🔄 Loading Bank Nifty options data...\n",
      "📂 LOADING BANK NIFTY OPTIONS DATA\n",
      "========================================\n",
      "📋 Found 22 Bank Nifty options files:\n",
      "  1. OPTIDX_BANKNIFTY_CE_01-Apr-2023_TO_30-Jun-2023.csv\n",
      "  2. OPTIDX_BANKNIFTY_CE_01-Apr-2024_TO_30-Jun-2024.csv\n",
      "  3. OPTIDX_BANKNIFTY_CE_01-Apr-2025_TO_30-Jun-2025.csv\n",
      "  4. OPTIDX_BANKNIFTY_CE_01-Jan-2023_TO_31-Mar-2023.csv\n",
      "  5. OPTIDX_BANKNIFTY_CE_01-Jan-2024_TO_31-Mar-2024.csv\n",
      "  6. OPTIDX_BANKNIFTY_CE_01-Jan-2025_TO_31-Mar-2025.csv\n",
      "  7. OPTIDX_BANKNIFTY_CE_01-Jul-2023_TO_30-Sep-2023.csv\n",
      "  8. OPTIDX_BANKNIFTY_CE_01-Jul-2024_TO_30-Sep-2024.csv\n",
      "  9. OPTIDX_BANKNIFTY_CE_01-Jul-2025_TO_27-Jul-2025.csv\n",
      "  10. OPTIDX_BANKNIFTY_CE_01-Oct-2023_TO_31-Dec-2023.csv\n",
      "  11. OPTIDX_BANKNIFTY_CE_01-Oct-2024_TO_31-Dec-2024.csv\n",
      "  12. OPTIDX_BANKNIFTY_PE_01-Apr-2023_TO_30-Jun-2023.csv\n",
      "  13. OPTIDX_BANKNIFTY_PE_01-Apr-2024_TO_30-Jun-2024.csv\n",
      "  14. OPTIDX_BANKNIFTY_PE_01-Apr-2025_TO_30-Jun-2025.csv\n",
      "  15. OPTIDX_BANKNIFTY_PE_01-Jan-2023_TO_31-Mar-2023.csv\n",
      "  16. OPTIDX_BANKNIFTY_PE_01-Jan-2024_TO_31-Mar-2024.csv\n",
      "  17. OPTIDX_BANKNIFTY_PE_01-Jan-2025_TO_31-Mar-2025.csv\n",
      "  18. OPTIDX_BANKNIFTY_PE_01-Jul-2023_TO_30-Sep-2023.csv\n",
      "  19. OPTIDX_BANKNIFTY_PE_01-Jul-2024_TO_30-Sep-2024.csv\n",
      "  20. OPTIDX_BANKNIFTY_PE_01-Jul-2025_TO_27-Jul-2025.csv\n",
      "  21. OPTIDX_BANKNIFTY_PE_01-Oct-2023_TO_31-Dec-2023.csv\n",
      "  22. OPTIDX_BANKNIFTY_PE_01-Oct-2024_TO_31-Dec-2024.csv\n",
      "✅ Loaded: OPTIDX_BANKNIFTY_CE_01-Apr-2023_TO_30-Jun-2023.csv - 37904 records\n",
      "✅ Loaded: OPTIDX_BANKNIFTY_CE_01-Apr-2024_TO_30-Jun-2024.csv - 47348 records\n",
      "✅ Loaded: OPTIDX_BANKNIFTY_CE_01-Apr-2025_TO_30-Jun-2025.csv - 30938 records\n",
      "✅ Loaded: OPTIDX_BANKNIFTY_CE_01-Jan-2023_TO_31-Mar-2023.csv - 36324 records\n",
      "✅ Loaded: OPTIDX_BANKNIFTY_CE_01-Jan-2024_TO_31-Mar-2024.csv - 45794 records\n",
      "✅ Loaded: OPTIDX_BANKNIFTY_CE_01-Apr-2025_TO_30-Jun-2025.csv - 30938 records\n",
      "✅ Loaded: OPTIDX_BANKNIFTY_CE_01-Jan-2023_TO_31-Mar-2023.csv - 36324 records\n",
      "✅ Loaded: OPTIDX_BANKNIFTY_CE_01-Jan-2024_TO_31-Mar-2024.csv - 45794 records\n",
      "✅ Loaded: OPTIDX_BANKNIFTY_CE_01-Jan-2025_TO_31-Mar-2025.csv - 27102 records\n",
      "✅ Loaded: OPTIDX_BANKNIFTY_CE_01-Jul-2023_TO_30-Sep-2023.csv - 38680 records\n",
      "✅ Loaded: OPTIDX_BANKNIFTY_CE_01-Jul-2024_TO_30-Sep-2024.csv - 49793 records\n",
      "✅ Loaded: OPTIDX_BANKNIFTY_CE_01-Jul-2025_TO_27-Jul-2025.csv - 8358 records\n",
      "✅ Loaded: OPTIDX_BANKNIFTY_CE_01-Jan-2025_TO_31-Mar-2025.csv - 27102 records\n",
      "✅ Loaded: OPTIDX_BANKNIFTY_CE_01-Jul-2023_TO_30-Sep-2023.csv - 38680 records\n",
      "✅ Loaded: OPTIDX_BANKNIFTY_CE_01-Jul-2024_TO_30-Sep-2024.csv - 49793 records\n",
      "✅ Loaded: OPTIDX_BANKNIFTY_CE_01-Jul-2025_TO_27-Jul-2025.csv - 8358 records\n",
      "✅ Loaded: OPTIDX_BANKNIFTY_CE_01-Oct-2023_TO_31-Dec-2023.csv - 40271 records\n",
      "✅ Loaded: OPTIDX_BANKNIFTY_CE_01-Oct-2024_TO_31-Dec-2024.csv - 32568 records\n",
      "✅ Loaded: OPTIDX_BANKNIFTY_PE_01-Apr-2023_TO_30-Jun-2023.csv - 37905 records\n",
      "✅ Loaded: OPTIDX_BANKNIFTY_CE_01-Oct-2023_TO_31-Dec-2023.csv - 40271 records\n",
      "✅ Loaded: OPTIDX_BANKNIFTY_CE_01-Oct-2024_TO_31-Dec-2024.csv - 32568 records\n",
      "✅ Loaded: OPTIDX_BANKNIFTY_PE_01-Apr-2023_TO_30-Jun-2023.csv - 37905 records\n",
      "✅ Loaded: OPTIDX_BANKNIFTY_PE_01-Apr-2024_TO_30-Jun-2024.csv - 47352 records\n",
      "✅ Loaded: OPTIDX_BANKNIFTY_PE_01-Apr-2025_TO_30-Jun-2025.csv - 30940 records\n",
      "✅ Loaded: OPTIDX_BANKNIFTY_PE_01-Jan-2023_TO_31-Mar-2023.csv - 36343 records\n",
      "✅ Loaded: OPTIDX_BANKNIFTY_PE_01-Apr-2024_TO_30-Jun-2024.csv - 47352 records\n",
      "✅ Loaded: OPTIDX_BANKNIFTY_PE_01-Apr-2025_TO_30-Jun-2025.csv - 30940 records\n",
      "✅ Loaded: OPTIDX_BANKNIFTY_PE_01-Jan-2023_TO_31-Mar-2023.csv - 36343 records\n",
      "✅ Loaded: OPTIDX_BANKNIFTY_PE_01-Jan-2024_TO_31-Mar-2024.csv - 45808 records\n",
      "✅ Loaded: OPTIDX_BANKNIFTY_PE_01-Jan-2025_TO_31-Mar-2025.csv - 27102 records\n",
      "✅ Loaded: OPTIDX_BANKNIFTY_PE_01-Jul-2023_TO_30-Sep-2023.csv - 38743 records\n",
      "✅ Loaded: OPTIDX_BANKNIFTY_PE_01-Jan-2024_TO_31-Mar-2024.csv - 45808 records\n",
      "✅ Loaded: OPTIDX_BANKNIFTY_PE_01-Jan-2025_TO_31-Mar-2025.csv - 27102 records\n",
      "✅ Loaded: OPTIDX_BANKNIFTY_PE_01-Jul-2023_TO_30-Sep-2023.csv - 38743 records\n",
      "✅ Loaded: OPTIDX_BANKNIFTY_PE_01-Jul-2024_TO_30-Sep-2024.csv - 49835 records\n",
      "✅ Loaded: OPTIDX_BANKNIFTY_PE_01-Jul-2025_TO_27-Jul-2025.csv - 8377 records\n",
      "✅ Loaded: OPTIDX_BANKNIFTY_PE_01-Oct-2023_TO_31-Dec-2023.csv - 40333 records\n",
      "✅ Loaded: OPTIDX_BANKNIFTY_PE_01-Oct-2024_TO_31-Dec-2024.csv - 32568 records\n",
      "✅ Loaded: OPTIDX_BANKNIFTY_PE_01-Jul-2024_TO_30-Sep-2024.csv - 49835 records\n",
      "✅ Loaded: OPTIDX_BANKNIFTY_PE_01-Jul-2025_TO_27-Jul-2025.csv - 8377 records\n",
      "✅ Loaded: OPTIDX_BANKNIFTY_PE_01-Oct-2023_TO_31-Dec-2023.csv - 40333 records\n",
      "✅ Loaded: OPTIDX_BANKNIFTY_PE_01-Oct-2024_TO_31-Dec-2024.csv - 32568 records\n",
      "\n",
      "📊 MERGED DATASET SUMMARY:\n",
      "------------------------------\n",
      "📈 Total Options Records: 790,386\n",
      "📞 Call Options (CE): 395,080\n",
      "📉 Put Options (PE): 395,306\n",
      "📅 Date Range: 02-Jan-2023 to 25-Jul-2025\n",
      "🎯 Expiry Range: 05-Jan-2023 to 30-Jun-2026\n",
      "📋 Unique Expiries: 128\n",
      "📄 Source Files: 22\n",
      "\n",
      "📋 DATASET COLUMNS:\n",
      "--------------------\n",
      "   1. Symbol\n",
      "   2. Date\n",
      "   3. Expiry\n",
      "   4. Option type\n",
      "   5. Strike Price\n",
      "   6. Open\n",
      "   7. High\n",
      "   8. Low\n",
      "   9. Close\n",
      "  10. LTP\n",
      "  11. Settle Price\n",
      "  12. No. of contracts\n",
      "  13. Turnover * in  ₹ Lakhs\n",
      "  14. Premium Turnover ** in   ₹ Lakhs\n",
      "  15. Open Int\n",
      "  16. Change in OI\n",
      "  17. Underlying Value\n",
      "  18. Source_File\n",
      "\n",
      "🔍 DATA QUALITY CHECK:\n",
      "-------------------------\n",
      "\n",
      "📊 MERGED DATASET SUMMARY:\n",
      "------------------------------\n",
      "📈 Total Options Records: 790,386\n",
      "📞 Call Options (CE): 395,080\n",
      "📉 Put Options (PE): 395,306\n",
      "📅 Date Range: 02-Jan-2023 to 25-Jul-2025\n",
      "🎯 Expiry Range: 05-Jan-2023 to 30-Jun-2026\n",
      "📋 Unique Expiries: 128\n",
      "📄 Source Files: 22\n",
      "\n",
      "📋 DATASET COLUMNS:\n",
      "--------------------\n",
      "   1. Symbol\n",
      "   2. Date\n",
      "   3. Expiry\n",
      "   4. Option type\n",
      "   5. Strike Price\n",
      "   6. Open\n",
      "   7. High\n",
      "   8. Low\n",
      "   9. Close\n",
      "  10. LTP\n",
      "  11. Settle Price\n",
      "  12. No. of contracts\n",
      "  13. Turnover * in  ₹ Lakhs\n",
      "  14. Premium Turnover ** in   ₹ Lakhs\n",
      "  15. Open Int\n",
      "  16. Change in OI\n",
      "  17. Underlying Value\n",
      "  18. Source_File\n",
      "\n",
      "🔍 DATA QUALITY CHECK:\n",
      "-------------------------\n",
      "✅ Missing Values Summary (after replacing '-' with NaN):\n",
      "   Open: 398,835 missing values (50.5%)\n",
      "   High: 398,835 missing values (50.5%)\n",
      "   Low: 398,835 missing values (50.5%)\n",
      "   LTP: 297,296 missing values (37.6%)\n",
      "   Settle Price: 1,630 missing values (0.2%)\n",
      "   No. of contracts: 398,835 missing values (50.5%)\n",
      "   Turnover * in  ₹ Lakhs: 398,835 missing values (50.5%)\n",
      "   Premium Turnover ** in   ₹ Lakhs: 400,166 missing values (50.6%)\n",
      "   Open Int: 301,587 missing values (38.2%)\n",
      "   Change in OI: 413,702 missing values (52.3%)\n",
      "   Underlying Value: 172,840 missing values (21.9%)\n",
      "⚠️ Found 784748 potential duplicate records\n",
      "\n",
      "📊 EXPIRY BREAKDOWN:\n",
      "--------------------\n",
      "  05-Jan-2023: 616 records\n",
      "  12-Jan-2023: 1386 records\n",
      "  19-Jan-2023: 2016 records\n",
      "  25-Jan-2023: 3852 records\n",
      "  02-Feb-2023: 3456 records\n",
      "  09-Feb-2023: 3314 records\n",
      "  16-Feb-2023: 3566 records\n",
      "  23-Feb-2023: 6572 records\n",
      "  02-Mar-2023: 4684 records\n",
      "  09-Mar-2023: 3164 records\n",
      "  16-Mar-2023: 3212 records\n",
      "  23-Mar-2023: 3406 records\n",
      "  29-Mar-2023: 11448 records\n",
      "  06-Apr-2023: 3310 records\n",
      "  13-Apr-2023: 3400 records\n",
      "  20-Apr-2023: 3172 records\n",
      "  27-Apr-2023: 9478 records\n",
      "  04-May-2023: 4378 records\n",
      "  11-May-2023: 3686 records\n",
      "  18-May-2023: 3548 records\n",
      "  25-May-2023: 10472 records\n",
      "  01-Jun-2023: 4738 records\n",
      "  08-Jun-2023: 4000 records\n",
      "  15-Jun-2023: 3636 records\n",
      "  22-Jun-2023: 3630 records\n",
      "  28-Jun-2023: 228 records\n",
      "  29-Jun-2023: 13854 records\n",
      "  06-Jul-2023: 3554 records\n",
      "  13-Jul-2023: 3618 records\n",
      "  20-Jul-2023: 3792 records\n",
      "  27-Jul-2023: 10672 records\n",
      "  03-Aug-2023: 4874 records\n",
      "  10-Aug-2023: 3916 records\n",
      "  17-Aug-2023: 3842 records\n",
      "  24-Aug-2023: 3792 records\n",
      "  31-Aug-2023: 11478 records\n",
      "  06-Sep-2023: 456 records\n",
      "  07-Sep-2023: 2952 records\n",
      "  13-Sep-2023: 1210 records\n",
      "  14-Sep-2023: 2112 records\n",
      "  20-Sep-2023: 1906 records\n",
      "  21-Sep-2023: 1522 records\n",
      "  28-Sep-2023: 14633 records\n",
      "  04-Oct-2023: 3448 records\n",
      "  05-Oct-2023: 822 records\n",
      "  11-Oct-2023: 3758 records\n",
      "  18-Oct-2023: 3760 records\n",
      "  26-Oct-2023: 10214 records\n",
      "  01-Nov-2023: 4590 records\n",
      "  08-Nov-2023: 3756 records\n",
      "  15-Nov-2023: 3908 records\n",
      "  22-Nov-2023: 3842 records\n",
      "  30-Nov-2023: 11250 records\n",
      "  06-Dec-2023: 3906 records\n",
      "  13-Dec-2023: 3884 records\n",
      "  20-Dec-2023: 4286 records\n",
      "  28-Dec-2023: 16614 records\n",
      "  03-Jan-2024: 5608 records\n",
      "  10-Jan-2024: 3748 records\n",
      "  17-Jan-2024: 3880 records\n",
      "  25-Jan-2024: 13398 records\n",
      "  31-Jan-2024: 4978 records\n",
      "  07-Feb-2024: 4754 records\n",
      "  14-Feb-2024: 5024 records\n",
      "  21-Feb-2024: 4358 records\n",
      "  29-Feb-2024: 13260 records\n",
      "  06-Mar-2024: 4922 records\n",
      "  13-Mar-2024: 4946 records\n",
      "  20-Mar-2024: 4678 records\n",
      "  27-Mar-2024: 4104 records\n",
      "  28-Mar-2024: 13978 records\n",
      "  03-Apr-2024: 5288 records\n",
      "  10-Apr-2024: 4124 records\n",
      "  16-Apr-2024: 3854 records\n",
      "  24-Apr-2024: 7838 records\n",
      "  25-Apr-2024: 4498 records\n",
      "  30-Apr-2024: 4928 records\n",
      "  08-May-2024: 4256 records\n",
      "  15-May-2024: 4370 records\n",
      "  22-May-2024: 4744 records\n",
      "  29-May-2024: 12496 records\n",
      "  05-Jun-2024: 4918 records\n",
      "  12-Jun-2024: 4924 records\n",
      "  19-Jun-2024: 4992 records\n",
      "  26-Jun-2024: 13626 records\n",
      "  27-Jun-2024: 4350 records\n",
      "  03-Jul-2024: 6814 records\n",
      "  10-Jul-2024: 5064 records\n",
      "  16-Jul-2024: 4800 records\n",
      "  24-Jul-2024: 4484 records\n",
      "  31-Jul-2024: 15902 records\n",
      "  07-Aug-2024: 4502 records\n",
      "  14-Aug-2024: 4550 records\n",
      "  21-Aug-2024: 4748 records\n",
      "  28-Aug-2024: 16550 records\n",
      "  04-Sep-2024: 5510 records\n",
      "  11-Sep-2024: 4470 records\n",
      "  18-Sep-2024: 4644 records\n",
      "  25-Sep-2024: 15858 records\n",
      "  26-Sep-2024: 2710 records\n",
      "  01-Oct-2024: 5604 records\n",
      "  09-Oct-2024: 5024 records\n",
      "  16-Oct-2024: 5180 records\n",
      "  23-Oct-2024: 5108 records\n",
      "  30-Oct-2024: 14004 records\n",
      "  06-Nov-2024: 5106 records\n",
      "  13-Nov-2024: 4562 records\n",
      "  27-Nov-2024: 13828 records\n",
      "  24-Dec-2024: 18344 records\n",
      "  26-Dec-2024: 1098 records\n",
      "  29-Jan-2025: 8816 records\n",
      "  30-Jan-2025: 5638 records\n",
      "  26-Feb-2025: 4644 records\n",
      "  27-Feb-2025: 11630 records\n",
      "  26-Mar-2025: 5686 records\n",
      "  27-Mar-2025: 15778 records\n",
      "  24-Apr-2025: 15282 records\n",
      "  29-May-2025: 18888 records\n",
      "  25-Jun-2025: 3370 records\n",
      "  26-Jun-2025: 21260 records\n",
      "  31-Jul-2025: 18078 records\n",
      "  28-Aug-2025: 10366 records\n",
      "  24-Sep-2025: 1732 records\n",
      "  25-Sep-2025: 8642 records\n",
      "  24-Dec-2025: 3901 records\n",
      "  31-Dec-2025: 110 records\n",
      "  26-Mar-2026: 2208 records\n",
      "  30-Jun-2026: 462 records\n",
      "\n",
      "✅ Successfully loaded and separated Bank Nifty options data!\n",
      "📊 Datasets available:\n",
      "   📞 Call Options (CE): 395,080 records\n",
      "   📉 Put Options (PE): 395,306 records\n",
      "   📋 Total Options: 790,386 records\n",
      "\n",
      "📊 DATA LOADING RESULTS:\n",
      "------------------------------\n",
      "✅ CALL OPTIONS:\n",
      "   📈 Records: 395,080\n",
      "   📅 Date range: 2023-01-02 00:00:00 to 2025-07-25 00:00:00\n",
      "   💰 Strike range: ₹25,500 - ₹65,000\n",
      "   📋 Columns: ['Symbol', 'Date', 'Expiry', 'Option type', 'Strike Price', 'Open', 'High', 'Low', 'Close', 'LTP', 'Settle Price', 'No. of contracts', 'Turnover * in  ₹ Lakhs', 'Premium Turnover ** in   ₹ Lakhs', 'Open Int', 'Change in OI', 'Underlying Value', 'Source_File']\n",
      "\n",
      "🔍 CALL OPTIONS SAMPLE DATA (First 3 records):\n",
      "---------------------------------------------\n",
      "✅ Missing Values Summary (after replacing '-' with NaN):\n",
      "   Open: 398,835 missing values (50.5%)\n",
      "   High: 398,835 missing values (50.5%)\n",
      "   Low: 398,835 missing values (50.5%)\n",
      "   LTP: 297,296 missing values (37.6%)\n",
      "   Settle Price: 1,630 missing values (0.2%)\n",
      "   No. of contracts: 398,835 missing values (50.5%)\n",
      "   Turnover * in  ₹ Lakhs: 398,835 missing values (50.5%)\n",
      "   Premium Turnover ** in   ₹ Lakhs: 400,166 missing values (50.6%)\n",
      "   Open Int: 301,587 missing values (38.2%)\n",
      "   Change in OI: 413,702 missing values (52.3%)\n",
      "   Underlying Value: 172,840 missing values (21.9%)\n",
      "⚠️ Found 784748 potential duplicate records\n",
      "\n",
      "📊 EXPIRY BREAKDOWN:\n",
      "--------------------\n",
      "  05-Jan-2023: 616 records\n",
      "  12-Jan-2023: 1386 records\n",
      "  19-Jan-2023: 2016 records\n",
      "  25-Jan-2023: 3852 records\n",
      "  02-Feb-2023: 3456 records\n",
      "  09-Feb-2023: 3314 records\n",
      "  16-Feb-2023: 3566 records\n",
      "  23-Feb-2023: 6572 records\n",
      "  02-Mar-2023: 4684 records\n",
      "  09-Mar-2023: 3164 records\n",
      "  16-Mar-2023: 3212 records\n",
      "  23-Mar-2023: 3406 records\n",
      "  29-Mar-2023: 11448 records\n",
      "  06-Apr-2023: 3310 records\n",
      "  13-Apr-2023: 3400 records\n",
      "  20-Apr-2023: 3172 records\n",
      "  27-Apr-2023: 9478 records\n",
      "  04-May-2023: 4378 records\n",
      "  11-May-2023: 3686 records\n",
      "  18-May-2023: 3548 records\n",
      "  25-May-2023: 10472 records\n",
      "  01-Jun-2023: 4738 records\n",
      "  08-Jun-2023: 4000 records\n",
      "  15-Jun-2023: 3636 records\n",
      "  22-Jun-2023: 3630 records\n",
      "  28-Jun-2023: 228 records\n",
      "  29-Jun-2023: 13854 records\n",
      "  06-Jul-2023: 3554 records\n",
      "  13-Jul-2023: 3618 records\n",
      "  20-Jul-2023: 3792 records\n",
      "  27-Jul-2023: 10672 records\n",
      "  03-Aug-2023: 4874 records\n",
      "  10-Aug-2023: 3916 records\n",
      "  17-Aug-2023: 3842 records\n",
      "  24-Aug-2023: 3792 records\n",
      "  31-Aug-2023: 11478 records\n",
      "  06-Sep-2023: 456 records\n",
      "  07-Sep-2023: 2952 records\n",
      "  13-Sep-2023: 1210 records\n",
      "  14-Sep-2023: 2112 records\n",
      "  20-Sep-2023: 1906 records\n",
      "  21-Sep-2023: 1522 records\n",
      "  28-Sep-2023: 14633 records\n",
      "  04-Oct-2023: 3448 records\n",
      "  05-Oct-2023: 822 records\n",
      "  11-Oct-2023: 3758 records\n",
      "  18-Oct-2023: 3760 records\n",
      "  26-Oct-2023: 10214 records\n",
      "  01-Nov-2023: 4590 records\n",
      "  08-Nov-2023: 3756 records\n",
      "  15-Nov-2023: 3908 records\n",
      "  22-Nov-2023: 3842 records\n",
      "  30-Nov-2023: 11250 records\n",
      "  06-Dec-2023: 3906 records\n",
      "  13-Dec-2023: 3884 records\n",
      "  20-Dec-2023: 4286 records\n",
      "  28-Dec-2023: 16614 records\n",
      "  03-Jan-2024: 5608 records\n",
      "  10-Jan-2024: 3748 records\n",
      "  17-Jan-2024: 3880 records\n",
      "  25-Jan-2024: 13398 records\n",
      "  31-Jan-2024: 4978 records\n",
      "  07-Feb-2024: 4754 records\n",
      "  14-Feb-2024: 5024 records\n",
      "  21-Feb-2024: 4358 records\n",
      "  29-Feb-2024: 13260 records\n",
      "  06-Mar-2024: 4922 records\n",
      "  13-Mar-2024: 4946 records\n",
      "  20-Mar-2024: 4678 records\n",
      "  27-Mar-2024: 4104 records\n",
      "  28-Mar-2024: 13978 records\n",
      "  03-Apr-2024: 5288 records\n",
      "  10-Apr-2024: 4124 records\n",
      "  16-Apr-2024: 3854 records\n",
      "  24-Apr-2024: 7838 records\n",
      "  25-Apr-2024: 4498 records\n",
      "  30-Apr-2024: 4928 records\n",
      "  08-May-2024: 4256 records\n",
      "  15-May-2024: 4370 records\n",
      "  22-May-2024: 4744 records\n",
      "  29-May-2024: 12496 records\n",
      "  05-Jun-2024: 4918 records\n",
      "  12-Jun-2024: 4924 records\n",
      "  19-Jun-2024: 4992 records\n",
      "  26-Jun-2024: 13626 records\n",
      "  27-Jun-2024: 4350 records\n",
      "  03-Jul-2024: 6814 records\n",
      "  10-Jul-2024: 5064 records\n",
      "  16-Jul-2024: 4800 records\n",
      "  24-Jul-2024: 4484 records\n",
      "  31-Jul-2024: 15902 records\n",
      "  07-Aug-2024: 4502 records\n",
      "  14-Aug-2024: 4550 records\n",
      "  21-Aug-2024: 4748 records\n",
      "  28-Aug-2024: 16550 records\n",
      "  04-Sep-2024: 5510 records\n",
      "  11-Sep-2024: 4470 records\n",
      "  18-Sep-2024: 4644 records\n",
      "  25-Sep-2024: 15858 records\n",
      "  26-Sep-2024: 2710 records\n",
      "  01-Oct-2024: 5604 records\n",
      "  09-Oct-2024: 5024 records\n",
      "  16-Oct-2024: 5180 records\n",
      "  23-Oct-2024: 5108 records\n",
      "  30-Oct-2024: 14004 records\n",
      "  06-Nov-2024: 5106 records\n",
      "  13-Nov-2024: 4562 records\n",
      "  27-Nov-2024: 13828 records\n",
      "  24-Dec-2024: 18344 records\n",
      "  26-Dec-2024: 1098 records\n",
      "  29-Jan-2025: 8816 records\n",
      "  30-Jan-2025: 5638 records\n",
      "  26-Feb-2025: 4644 records\n",
      "  27-Feb-2025: 11630 records\n",
      "  26-Mar-2025: 5686 records\n",
      "  27-Mar-2025: 15778 records\n",
      "  24-Apr-2025: 15282 records\n",
      "  29-May-2025: 18888 records\n",
      "  25-Jun-2025: 3370 records\n",
      "  26-Jun-2025: 21260 records\n",
      "  31-Jul-2025: 18078 records\n",
      "  28-Aug-2025: 10366 records\n",
      "  24-Sep-2025: 1732 records\n",
      "  25-Sep-2025: 8642 records\n",
      "  24-Dec-2025: 3901 records\n",
      "  31-Dec-2025: 110 records\n",
      "  26-Mar-2026: 2208 records\n",
      "  30-Jun-2026: 462 records\n",
      "\n",
      "✅ Successfully loaded and separated Bank Nifty options data!\n",
      "📊 Datasets available:\n",
      "   📞 Call Options (CE): 395,080 records\n",
      "   📉 Put Options (PE): 395,306 records\n",
      "   📋 Total Options: 790,386 records\n",
      "\n",
      "📊 DATA LOADING RESULTS:\n",
      "------------------------------\n",
      "✅ CALL OPTIONS:\n",
      "   📈 Records: 395,080\n",
      "   📅 Date range: 2023-01-02 00:00:00 to 2025-07-25 00:00:00\n",
      "   💰 Strike range: ₹25,500 - ₹65,000\n",
      "   📋 Columns: ['Symbol', 'Date', 'Expiry', 'Option type', 'Strike Price', 'Open', 'High', 'Low', 'Close', 'LTP', 'Settle Price', 'No. of contracts', 'Turnover * in  ₹ Lakhs', 'Premium Turnover ** in   ₹ Lakhs', 'Open Int', 'Change in OI', 'Underlying Value', 'Source_File']\n",
      "\n",
      "🔍 CALL OPTIONS SAMPLE DATA (First 3 records):\n",
      "---------------------------------------------\n"
     ]
    },
    {
     "data": {
      "text/html": [
       "<div>\n",
       "<style scoped>\n",
       "    .dataframe tbody tr th:only-of-type {\n",
       "        vertical-align: middle;\n",
       "    }\n",
       "\n",
       "    .dataframe tbody tr th {\n",
       "        vertical-align: top;\n",
       "    }\n",
       "\n",
       "    .dataframe thead th {\n",
       "        text-align: right;\n",
       "    }\n",
       "</style>\n",
       "<table border=\"1\" class=\"dataframe\">\n",
       "  <thead>\n",
       "    <tr style=\"text-align: right;\">\n",
       "      <th></th>\n",
       "      <th>Symbol</th>\n",
       "      <th>Date</th>\n",
       "      <th>Expiry</th>\n",
       "      <th>Option type</th>\n",
       "      <th>Strike Price</th>\n",
       "      <th>Open</th>\n",
       "      <th>High</th>\n",
       "      <th>Low</th>\n",
       "      <th>Close</th>\n",
       "      <th>LTP</th>\n",
       "      <th>Settle Price</th>\n",
       "      <th>No. of contracts</th>\n",
       "      <th>Turnover * in  ₹ Lakhs</th>\n",
       "      <th>Premium Turnover ** in   ₹ Lakhs</th>\n",
       "      <th>Open Int</th>\n",
       "      <th>Change in OI</th>\n",
       "      <th>Underlying Value</th>\n",
       "      <th>Source_File</th>\n",
       "    </tr>\n",
       "  </thead>\n",
       "  <tbody>\n",
       "    <tr>\n",
       "      <th>0</th>\n",
       "      <td>BANKNIFTY</td>\n",
       "      <td>2023-01-02</td>\n",
       "      <td>2023-01-05</td>\n",
       "      <td>CE</td>\n",
       "      <td>48000.0</td>\n",
       "      <td>4.05</td>\n",
       "      <td>4.25</td>\n",
       "      <td>2.70</td>\n",
       "      <td>2.95</td>\n",
       "      <td>2.70</td>\n",
       "      <td>2.95</td>\n",
       "      <td>108278.0</td>\n",
       "      <td>1299421.71</td>\n",
       "      <td>85.71</td>\n",
       "      <td>402600.0</td>\n",
       "      <td>17325.0</td>\n",
       "      <td>43203.10</td>\n",
       "      <td>OPTIDX_BANKNIFTY_CE_01-Jan-2023_TO_31-Mar-2023...</td>\n",
       "    </tr>\n",
       "    <tr>\n",
       "      <th>1</th>\n",
       "      <td>BANKNIFTY</td>\n",
       "      <td>2023-01-02</td>\n",
       "      <td>2023-01-05</td>\n",
       "      <td>CE</td>\n",
       "      <td>48500.0</td>\n",
       "      <td>3.35</td>\n",
       "      <td>3.70</td>\n",
       "      <td>2.55</td>\n",
       "      <td>2.70</td>\n",
       "      <td>2.65</td>\n",
       "      <td>2.70</td>\n",
       "      <td>66529.0</td>\n",
       "      <td>806713.77</td>\n",
       "      <td>49.64</td>\n",
       "      <td>183850.0</td>\n",
       "      <td>37975.0</td>\n",
       "      <td>43203.10</td>\n",
       "      <td>OPTIDX_BANKNIFTY_CE_01-Jan-2023_TO_31-Mar-2023...</td>\n",
       "    </tr>\n",
       "    <tr>\n",
       "      <th>2</th>\n",
       "      <td>BANKNIFTY</td>\n",
       "      <td>2023-01-02</td>\n",
       "      <td>2023-01-05</td>\n",
       "      <td>CE</td>\n",
       "      <td>42500.0</td>\n",
       "      <td>708.00</td>\n",
       "      <td>944.10</td>\n",
       "      <td>609.40</td>\n",
       "      <td>790.45</td>\n",
       "      <td>831.35</td>\n",
       "      <td>790.45</td>\n",
       "      <td>67897.0</td>\n",
       "      <td>734630.01</td>\n",
       "      <td>13224.39</td>\n",
       "      <td>220125.0</td>\n",
       "      <td>-35150.0</td>\n",
       "      <td>43203.10</td>\n",
       "      <td>OPTIDX_BANKNIFTY_CE_01-Jan-2023_TO_31-Mar-2023...</td>\n",
       "    </tr>\n",
       "  </tbody>\n",
       "</table>\n",
       "</div>"
      ],
      "text/plain": [
       "      Symbol       Date     Expiry Option type  Strike Price    Open    High  \\\n",
       "0  BANKNIFTY 2023-01-02 2023-01-05          CE       48000.0    4.05    4.25   \n",
       "1  BANKNIFTY 2023-01-02 2023-01-05          CE       48500.0    3.35    3.70   \n",
       "2  BANKNIFTY 2023-01-02 2023-01-05          CE       42500.0  708.00  944.10   \n",
       "\n",
       "      Low   Close     LTP Settle Price  No. of contracts  \\\n",
       "0    2.70    2.95    2.70         2.95          108278.0   \n",
       "1    2.55    2.70    2.65         2.70           66529.0   \n",
       "2  609.40  790.45  831.35       790.45           67897.0   \n",
       "\n",
       "  Turnover * in  ₹ Lakhs Premium Turnover ** in   ₹ Lakhs  Open Int  \\\n",
       "0             1299421.71                            85.71  402600.0   \n",
       "1              806713.77                            49.64  183850.0   \n",
       "2              734630.01                         13224.39  220125.0   \n",
       "\n",
       "   Change in OI Underlying Value  \\\n",
       "0       17325.0         43203.10   \n",
       "1       37975.0         43203.10   \n",
       "2      -35150.0         43203.10   \n",
       "\n",
       "                                         Source_File  \n",
       "0  OPTIDX_BANKNIFTY_CE_01-Jan-2023_TO_31-Mar-2023...  \n",
       "1  OPTIDX_BANKNIFTY_CE_01-Jan-2023_TO_31-Mar-2023...  \n",
       "2  OPTIDX_BANKNIFTY_CE_01-Jan-2023_TO_31-Mar-2023...  "
      ]
     },
     "metadata": {},
     "output_type": "display_data"
    },
    {
     "name": "stdout",
     "output_type": "stream",
     "text": [
      "\n",
      "✅ PUT OPTIONS:\n",
      "   📉 Records: 395,306\n",
      "   📅 Date range: 2023-01-02 00:00:00 to 2025-07-25 00:00:00\n",
      "   💰 Strike range: ₹25,500 - ₹65,000\n",
      "   📋 Columns: ['Symbol', 'Date', 'Expiry', 'Option type', 'Strike Price', 'Open', 'High', 'Low', 'Close', 'LTP', 'Settle Price', 'No. of contracts', 'Turnover * in  ₹ Lakhs', 'Premium Turnover ** in   ₹ Lakhs', 'Open Int', 'Change in OI', 'Underlying Value', 'Source_File']\n",
      "\n",
      "🔍 PUT OPTIONS SAMPLE DATA (First 3 records):\n",
      "--------------------------------------------\n"
     ]
    },
    {
     "data": {
      "text/html": [
       "<div>\n",
       "<style scoped>\n",
       "    .dataframe tbody tr th:only-of-type {\n",
       "        vertical-align: middle;\n",
       "    }\n",
       "\n",
       "    .dataframe tbody tr th {\n",
       "        vertical-align: top;\n",
       "    }\n",
       "\n",
       "    .dataframe thead th {\n",
       "        text-align: right;\n",
       "    }\n",
       "</style>\n",
       "<table border=\"1\" class=\"dataframe\">\n",
       "  <thead>\n",
       "    <tr style=\"text-align: right;\">\n",
       "      <th></th>\n",
       "      <th>Symbol</th>\n",
       "      <th>Date</th>\n",
       "      <th>Expiry</th>\n",
       "      <th>Option type</th>\n",
       "      <th>Strike Price</th>\n",
       "      <th>Open</th>\n",
       "      <th>High</th>\n",
       "      <th>Low</th>\n",
       "      <th>Close</th>\n",
       "      <th>LTP</th>\n",
       "      <th>Settle Price</th>\n",
       "      <th>No. of contracts</th>\n",
       "      <th>Turnover * in  ₹ Lakhs</th>\n",
       "      <th>Premium Turnover ** in   ₹ Lakhs</th>\n",
       "      <th>Open Int</th>\n",
       "      <th>Change in OI</th>\n",
       "      <th>Underlying Value</th>\n",
       "      <th>Source_File</th>\n",
       "    </tr>\n",
       "  </thead>\n",
       "  <tbody>\n",
       "    <tr>\n",
       "      <th>0</th>\n",
       "      <td>BANKNIFTY</td>\n",
       "      <td>2023-01-02</td>\n",
       "      <td>2023-01-05</td>\n",
       "      <td>PE</td>\n",
       "      <td>40000.0</td>\n",
       "      <td>6.1</td>\n",
       "      <td>7.55</td>\n",
       "      <td>4.60</td>\n",
       "      <td>4.95</td>\n",
       "      <td>4.80</td>\n",
       "      <td>4.95</td>\n",
       "      <td>367120.0</td>\n",
       "      <td>3671721.29</td>\n",
       "      <td>521.29</td>\n",
       "      <td>1507800.0</td>\n",
       "      <td>-237800.0</td>\n",
       "      <td>43203.10</td>\n",
       "      <td>OPTIDX_BANKNIFTY_PE_01-Jan-2023_TO_31-Mar-2023...</td>\n",
       "    </tr>\n",
       "    <tr>\n",
       "      <th>1</th>\n",
       "      <td>BANKNIFTY</td>\n",
       "      <td>2023-01-02</td>\n",
       "      <td>2023-01-05</td>\n",
       "      <td>PE</td>\n",
       "      <td>40400.0</td>\n",
       "      <td>10.0</td>\n",
       "      <td>10.00</td>\n",
       "      <td>4.85</td>\n",
       "      <td>5.70</td>\n",
       "      <td>5.75</td>\n",
       "      <td>5.70</td>\n",
       "      <td>33862.0</td>\n",
       "      <td>342062.80</td>\n",
       "      <td>56.60</td>\n",
       "      <td>79450.0</td>\n",
       "      <td>-3050.0</td>\n",
       "      <td>43203.10</td>\n",
       "      <td>OPTIDX_BANKNIFTY_PE_01-Jan-2023_TO_31-Mar-2023...</td>\n",
       "    </tr>\n",
       "    <tr>\n",
       "      <th>2</th>\n",
       "      <td>BANKNIFTY</td>\n",
       "      <td>2023-01-02</td>\n",
       "      <td>2023-01-05</td>\n",
       "      <td>PE</td>\n",
       "      <td>43600.0</td>\n",
       "      <td>643.8</td>\n",
       "      <td>715.00</td>\n",
       "      <td>403.25</td>\n",
       "      <td>496.90</td>\n",
       "      <td>461.55</td>\n",
       "      <td>496.90</td>\n",
       "      <td>210140.0</td>\n",
       "      <td>2316823.96</td>\n",
       "      <td>26297.96</td>\n",
       "      <td>198775.0</td>\n",
       "      <td>91475.0</td>\n",
       "      <td>43203.10</td>\n",
       "      <td>OPTIDX_BANKNIFTY_PE_01-Jan-2023_TO_31-Mar-2023...</td>\n",
       "    </tr>\n",
       "  </tbody>\n",
       "</table>\n",
       "</div>"
      ],
      "text/plain": [
       "      Symbol       Date     Expiry Option type  Strike Price   Open    High  \\\n",
       "0  BANKNIFTY 2023-01-02 2023-01-05          PE       40000.0    6.1    7.55   \n",
       "1  BANKNIFTY 2023-01-02 2023-01-05          PE       40400.0   10.0   10.00   \n",
       "2  BANKNIFTY 2023-01-02 2023-01-05          PE       43600.0  643.8  715.00   \n",
       "\n",
       "      Low   Close     LTP Settle Price  No. of contracts  \\\n",
       "0    4.60    4.95    4.80         4.95          367120.0   \n",
       "1    4.85    5.70    5.75         5.70           33862.0   \n",
       "2  403.25  496.90  461.55       496.90          210140.0   \n",
       "\n",
       "  Turnover * in  ₹ Lakhs Premium Turnover ** in   ₹ Lakhs   Open Int  \\\n",
       "0             3671721.29                           521.29  1507800.0   \n",
       "1              342062.80                            56.60    79450.0   \n",
       "2             2316823.96                         26297.96   198775.0   \n",
       "\n",
       "   Change in OI Underlying Value  \\\n",
       "0     -237800.0         43203.10   \n",
       "1       -3050.0         43203.10   \n",
       "2       91475.0         43203.10   \n",
       "\n",
       "                                         Source_File  \n",
       "0  OPTIDX_BANKNIFTY_PE_01-Jan-2023_TO_31-Mar-2023...  \n",
       "1  OPTIDX_BANKNIFTY_PE_01-Jan-2023_TO_31-Mar-2023...  \n",
       "2  OPTIDX_BANKNIFTY_PE_01-Jan-2023_TO_31-Mar-2023...  "
      ]
     },
     "metadata": {},
     "output_type": "display_data"
    },
    {
     "name": "stdout",
     "output_type": "stream",
     "text": [
      "\n",
      "✅ MERGED OPTIONS DATA:\n",
      "   🔄 Total records: 790,386\n",
      "   📊 Shape: (790386, 18)\n",
      "\n",
      "🎯 DATA VARIABLES CREATED:\n",
      "-------------------------\n",
      "   • df_call: Call options DataFrame\n",
      "   • df_put: Put options DataFrame\n",
      "   • options_merged: Combined options DataFrame\n",
      "\n",
      "✅ Options data loading completed successfully!\n",
      "\n",
      "📈 NEXT STEP: Load Bank Nifty spot data for XGBoost modeling\n"
     ]
    }
   ],
   "source": [
    "# 📊 LOAD BANK NIFTY OPTIONS DATA\n",
    "# Load Bank Nifty Options Data using the options_data_loader module\n",
    "\n",
    "import sys\n",
    "import os\n",
    "import pandas as pd\n",
    "import numpy as np\n",
    "\n",
    "print(\"🚀 LOADING BANK NIFTY OPTIONS DATA\")\n",
    "print(\"=\" * 50)\n",
    "\n",
    "# Setup path to import custom modules\n",
    "current_dir = os.getcwd()\n",
    "if 'notebooks' in current_dir:\n",
    "    project_root = os.path.dirname(current_dir)\n",
    "else:\n",
    "    project_root = current_dir\n",
    "\n",
    "src_path = os.path.join(project_root, 'src')\n",
    "if src_path not in sys.path:\n",
    "    sys.path.insert(0, src_path)\n",
    "\n",
    "print(f\"📂 Project root: {project_root}\")\n",
    "print(f\"🔧 Source path: {src_path}\")\n",
    "\n",
    "# Import the options data loader\n",
    "try:\n",
    "    from utils.options_data_loader import load_banknifty_options_data\n",
    "    print(\"✅ Successfully imported options_data_loader\")\n",
    "except ImportError as e:\n",
    "    print(f\"❌ Failed to import options_data_loader: {e}\")\n",
    "    print(\"💡 Make sure the src/utils/options_data_loader.py file exists\")\n",
    "    raise\n",
    "\n",
    "# Load the options data using the dedicated function\n",
    "data_path = os.path.join(project_root, 'data')\n",
    "print(f\"📁 Data path: {data_path}\")\n",
    "\n",
    "try:\n",
    "    print(\"\\n🔄 Loading Bank Nifty options data...\")\n",
    "    df_call, df_put, options_merged = load_banknifty_options_data(data_path)\n",
    "    \n",
    "    print(f\"\\n📊 DATA LOADING RESULTS:\")\n",
    "    print(\"-\" * 30)\n",
    "    \n",
    "    if not df_call.empty:\n",
    "        print(f\"✅ CALL OPTIONS:\")\n",
    "        print(f\"   📈 Records: {len(df_call):,}\")\n",
    "        print(f\"   📅 Date range: {df_call['Date'].min()} to {df_call['Date'].max()}\")\n",
    "        print(f\"   💰 Strike range: ₹{df_call['Strike Price'].min():,.0f} - ₹{df_call['Strike Price'].max():,.0f}\")\n",
    "        print(f\"   📋 Columns: {list(df_call.columns)}\")\n",
    "        \n",
    "        print(f\"\\n🔍 CALL OPTIONS SAMPLE DATA (First 3 records):\")\n",
    "        print(\"-\" * 45)\n",
    "        display(df_call.head(3))\n",
    "    else:\n",
    "        print(\"❌ No call options data loaded\")\n",
    "    \n",
    "    if not df_put.empty:\n",
    "        print(f\"\\n✅ PUT OPTIONS:\")\n",
    "        print(f\"   📉 Records: {len(df_put):,}\")\n",
    "        print(f\"   📅 Date range: {df_put['Date'].min()} to {df_put['Date'].max()}\")\n",
    "        print(f\"   💰 Strike range: ₹{df_put['Strike Price'].min():,.0f} - ₹{df_put['Strike Price'].max():,.0f}\")\n",
    "        print(f\"   📋 Columns: {list(df_put.columns)}\")\n",
    "        \n",
    "        print(f\"\\n🔍 PUT OPTIONS SAMPLE DATA (First 3 records):\")\n",
    "        print(\"-\" * 44)\n",
    "        display(df_put.head(3))\n",
    "    else:\n",
    "        print(\"❌ No put options data loaded\")\n",
    "    \n",
    "    if not options_merged.empty:\n",
    "        print(f\"\\n✅ MERGED OPTIONS DATA:\")\n",
    "        print(f\"   🔄 Total records: {len(options_merged):,}\")\n",
    "        print(f\"   📊 Shape: {options_merged.shape}\")\n",
    "    else:\n",
    "        print(\"❌ No merged options data available\")\n",
    "        \n",
    "    print(f\"\\n🎯 DATA VARIABLES CREATED:\")\n",
    "    print(\"-\" * 25)\n",
    "    print(\"   • df_call: Call options DataFrame\")\n",
    "    print(\"   • df_put: Put options DataFrame\") \n",
    "    print(\"   • options_merged: Combined options DataFrame\")\n",
    "    print(f\"\\n✅ Options data loading completed successfully!\")\n",
    "        \n",
    "except Exception as e:\n",
    "    print(f\"❌ Error loading options data: {str(e)}\")\n",
    "    # Initialize empty DataFrames in case of error\n",
    "    df_call = pd.DataFrame()\n",
    "    df_put = pd.DataFrame()\n",
    "    options_merged = pd.DataFrame()\n",
    "    print(\"🔧 Initialized empty DataFrames as fallback\")\n",
    "\n",
    "print(f\"\\n📈 NEXT STEP: Load Bank Nifty spot data for XGBoost modeling\")"
   ]
  },
  {
   "cell_type": "code",
   "execution_count": 3,
   "id": "479125fb",
   "metadata": {},
   "outputs": [
    {
     "name": "stdout",
     "output_type": "stream",
     "text": [
      "📈 LOADING BANK NIFTY SPOT DATA\n",
      "========================================\n",
      "✅ Successfully imported spot_data_loader\n",
      "\n",
      "🔄 Loading Bank Nifty spot data using load_spot_data...\n",
      "🔄 Symbol mapping: BANKNIFTY → ^NSEBANK\n",
      "🔍 Loading spot data for symbol: BANKNIFTY (Yahoo Finance: ^NSEBANK)\n",
      "📂 Loading existing spot data from file...\n",
      "✅ Loaded spot data from: BANKNIFTY_yfinance.csv\n",
      "📋 Data Shape: (629, 6)\n",
      "📅 Date Range: 02-Jan-2023 to 25-Jul-2025\n",
      "📊 Columns: ['Date', 'Close', 'High', 'Low', 'Open', 'Volume']\n",
      "\n",
      "✅ BANK NIFTY SPOT DATA LOADED:\n",
      "-----------------------------------\n",
      "   📊 Records: 629\n",
      "   📅 Date range: 02-Jan-2023 to 25-Jul-2025\n",
      "   💰 Price range: ₹39,052 - ₹57,459\n",
      "   📋 Columns: ['Date', 'Close', 'High', 'Low', 'Open', 'Volume']\n",
      "\n",
      "🔍 BANK NIFTY SAMPLE DATA (Latest 5 records):\n",
      "---------------------------------------------\n"
     ]
    },
    {
     "data": {
      "text/html": [
       "<div>\n",
       "<style scoped>\n",
       "    .dataframe tbody tr th:only-of-type {\n",
       "        vertical-align: middle;\n",
       "    }\n",
       "\n",
       "    .dataframe tbody tr th {\n",
       "        vertical-align: top;\n",
       "    }\n",
       "\n",
       "    .dataframe thead th {\n",
       "        text-align: right;\n",
       "    }\n",
       "</style>\n",
       "<table border=\"1\" class=\"dataframe\">\n",
       "  <thead>\n",
       "    <tr style=\"text-align: right;\">\n",
       "      <th></th>\n",
       "      <th>Date</th>\n",
       "      <th>Close</th>\n",
       "      <th>High</th>\n",
       "      <th>Low</th>\n",
       "      <th>Open</th>\n",
       "      <th>Volume</th>\n",
       "    </tr>\n",
       "  </thead>\n",
       "  <tbody>\n",
       "    <tr>\n",
       "      <th>624</th>\n",
       "      <td>2025-07-21</td>\n",
       "      <td>56952.750000</td>\n",
       "      <td>56983.449219</td>\n",
       "      <td>56255.699219</td>\n",
       "      <td>56558.898438</td>\n",
       "      <td>133700</td>\n",
       "    </tr>\n",
       "    <tr>\n",
       "      <th>625</th>\n",
       "      <td>2025-07-22</td>\n",
       "      <td>56756.000000</td>\n",
       "      <td>57286.148438</td>\n",
       "      <td>56692.000000</td>\n",
       "      <td>57253.351562</td>\n",
       "      <td>132800</td>\n",
       "    </tr>\n",
       "    <tr>\n",
       "      <th>626</th>\n",
       "      <td>2025-07-23</td>\n",
       "      <td>57210.449219</td>\n",
       "      <td>57249.000000</td>\n",
       "      <td>56715.800781</td>\n",
       "      <td>56918.148438</td>\n",
       "      <td>129800</td>\n",
       "    </tr>\n",
       "    <tr>\n",
       "      <th>627</th>\n",
       "      <td>2025-07-24</td>\n",
       "      <td>57066.050781</td>\n",
       "      <td>57316.601562</td>\n",
       "      <td>56850.898438</td>\n",
       "      <td>57316.601562</td>\n",
       "      <td>179800</td>\n",
       "    </tr>\n",
       "    <tr>\n",
       "      <th>628</th>\n",
       "      <td>2025-07-25</td>\n",
       "      <td>56528.898438</td>\n",
       "      <td>57170.699219</td>\n",
       "      <td>56439.398438</td>\n",
       "      <td>57170.699219</td>\n",
       "      <td>125100</td>\n",
       "    </tr>\n",
       "  </tbody>\n",
       "</table>\n",
       "</div>"
      ],
      "text/plain": [
       "          Date         Close          High           Low          Open  Volume\n",
       "624 2025-07-21  56952.750000  56983.449219  56255.699219  56558.898438  133700\n",
       "625 2025-07-22  56756.000000  57286.148438  56692.000000  57253.351562  132800\n",
       "626 2025-07-23  57210.449219  57249.000000  56715.800781  56918.148438  129800\n",
       "627 2025-07-24  57066.050781  57316.601562  56850.898438  57316.601562  179800\n",
       "628 2025-07-25  56528.898438  57170.699219  56439.398438  57170.699219  125100"
      ]
     },
     "metadata": {},
     "output_type": "display_data"
    },
    {
     "name": "stdout",
     "output_type": "stream",
     "text": [
      "\n",
      "🎯 DATA VARIABLE CREATED:\n",
      "   • bank_nifty: Bank Nifty spot price DataFrame\n",
      "\n",
      "✅ Bank Nifty data loaded successfully!\n",
      "\n",
      "📋 DATA LOADING SUMMARY\n",
      "------------------------------\n",
      "✅ Call Options: Loaded (395,080 records)\n",
      "✅ Put Options: Loaded (395,306 records)\n",
      "✅ Bank Nifty Spot: Loaded (629 records)\n",
      "\n",
      "🚀 ALL DATA LOADED - READY FOR XGBOOST MODELING!\n",
      "💡 You can now proceed to run the XGBoost feature engineering and training cells\n"
     ]
    }
   ],
   "source": [
    "# 📈 LOAD BANK NIFTY SPOT DATA\n",
    "# Load Bank Nifty Index data using the flexible spot_data_loader module\n",
    "\n",
    "print(\"📈 LOADING BANK NIFTY SPOT DATA\")\n",
    "print(\"=\" * 40)\n",
    "\n",
    "# Import the Spot data loader\n",
    "try:\n",
    "    from utils.spot_data_loader import load_spot_data\n",
    "    print(\"✅ Successfully imported spot_data_loader\")\n",
    "except ImportError as e:\n",
    "    print(f\"❌ Failed to import spot_data_loader: {e}\")\n",
    "    print(\"💡 Make sure the src/utils/spot_data_loader.py file exists\")\n",
    "    raise\n",
    "\n",
    "# Load Bank Nifty data using the flexible load_spot_data function\n",
    "try:\n",
    "    print(\"\\n🔄 Loading Bank Nifty spot data using load_spot_data...\")\n",
    "    bank_nifty = load_spot_data(\n",
    "        symbol=\"BANKNIFTY\",  # Uses predefined mapping to ^NSEBANK\n",
    "        data_path=data_path,\n",
    "        start_date=\"2023-01-01\",\n",
    "        end_date=None,  # Download up to current date\n",
    "        force_download=False,  # Use cached data if available\n",
    "        plot_data=False  # Skip plotting for XGBoost workflow\n",
    "    )\n",
    "    \n",
    "    if not bank_nifty.empty:\n",
    "        print(f\"\\n✅ BANK NIFTY SPOT DATA LOADED:\")\n",
    "        print(\"-\" * 35)\n",
    "        print(f\"   📊 Records: {len(bank_nifty):,}\")\n",
    "        print(f\"   📅 Date range: {bank_nifty['Date'].min():%d-%b-%Y} to {bank_nifty['Date'].max():%d-%b-%Y}\")\n",
    "        print(f\"   💰 Price range: ₹{bank_nifty['Close'].min():,.0f} - ₹{bank_nifty['Close'].max():,.0f}\")\n",
    "        print(f\"   📋 Columns: {list(bank_nifty.columns)}\")\n",
    "        \n",
    "        print(f\"\\n🔍 BANK NIFTY SAMPLE DATA (Latest 5 records):\")\n",
    "        print(\"-\" * 45)\n",
    "        display(bank_nifty.tail(5))\n",
    "        \n",
    "        print(f\"\\n🎯 DATA VARIABLE CREATED:\")\n",
    "        print(\"   • bank_nifty: Bank Nifty spot price DataFrame\")\n",
    "        print(f\"\\n✅ Bank Nifty data loaded successfully!\")\n",
    "        \n",
    "    else:\n",
    "        print(\"❌ Failed to load Bank Nifty data\")\n",
    "        bank_nifty = pd.DataFrame()\n",
    "        \n",
    "except Exception as e:\n",
    "    print(f\"❌ Error loading Bank Nifty data: {str(e)}\")\n",
    "    bank_nifty = pd.DataFrame()\n",
    "\n",
    "# Data validation summary\n",
    "print(f\"\\n📋 DATA LOADING SUMMARY\")\n",
    "print(\"-\" * 30)\n",
    "print(f\"✅ Call Options: {'Loaded' if not df_call.empty else 'Failed'} ({len(df_call):,} records)\")\n",
    "print(f\"✅ Put Options: {'Loaded' if not df_put.empty else 'Failed'} ({len(df_put):,} records)\")\n",
    "print(f\"✅ Bank Nifty Spot: {'Loaded' if not bank_nifty.empty else 'Failed'} ({len(bank_nifty):,} records)\")\n",
    "\n",
    "if not df_call.empty and not df_put.empty and not bank_nifty.empty:\n",
    "    print(f\"\\n🚀 ALL DATA LOADED - READY FOR XGBOOST MODELING!\")\n",
    "    print(\"💡 You can now proceed to run the XGBoost feature engineering and training cells\")\n",
    "else:\n",
    "    print(f\"\\n⚠️ Some data failed to load. Please check the error messages above.\")"
   ]
  },
  {
   "cell_type": "code",
   "execution_count": 4,
   "id": "1b177d75",
   "metadata": {},
   "outputs": [
    {
     "name": "stdout",
     "output_type": "stream",
     "text": [
      "🔧 SIMPLE FEATURE ENGINEERING\n",
      "========================================\n",
      "✅ Data available. Starting feature engineering...\n",
      "📅 Processing 637 dates...\n"
     ]
    },
    {
     "name": "stdout",
     "output_type": "stream",
     "text": [
      "\n",
      "✅ FEATURE ENGINEERING COMPLETED\n",
      "-----------------------------------\n",
      "📊 Total records: 628\n",
      "🔧 Total features: 17\n",
      "📅 Date range: 2023-01-02 00:00:00 to 2025-07-24 00:00:00\n",
      "\n",
      "🔍 SAMPLE FEATURES (First 3 rows):\n",
      "-----------------------------------\n"
     ]
    },
    {
     "data": {
      "text/html": [
       "<div>\n",
       "<style scoped>\n",
       "    .dataframe tbody tr th:only-of-type {\n",
       "        vertical-align: middle;\n",
       "    }\n",
       "\n",
       "    .dataframe tbody tr th {\n",
       "        vertical-align: top;\n",
       "    }\n",
       "\n",
       "    .dataframe thead th {\n",
       "        text-align: right;\n",
       "    }\n",
       "</style>\n",
       "<table border=\"1\" class=\"dataframe\">\n",
       "  <thead>\n",
       "    <tr style=\"text-align: right;\">\n",
       "      <th></th>\n",
       "      <th>Date</th>\n",
       "      <th>spot_price</th>\n",
       "      <th>target_spot_price</th>\n",
       "      <th>total_volume</th>\n",
       "      <th>pcr_volume</th>\n",
       "      <th>call_atm_ltp</th>\n",
       "      <th>put_atm_ltp</th>\n",
       "    </tr>\n",
       "  </thead>\n",
       "  <tbody>\n",
       "    <tr>\n",
       "      <th>0</th>\n",
       "      <td>2023-01-02</td>\n",
       "      <td>43203.101562</td>\n",
       "      <td>43425.250000</td>\n",
       "      <td>56770323.0</td>\n",
       "      <td>0.965700</td>\n",
       "      <td>313.00</td>\n",
       "      <td>233.15</td>\n",
       "    </tr>\n",
       "    <tr>\n",
       "      <th>1</th>\n",
       "      <td>2023-01-03</td>\n",
       "      <td>43425.250000</td>\n",
       "      <td>42958.800781</td>\n",
       "      <td>62232533.0</td>\n",
       "      <td>0.892912</td>\n",
       "      <td>0.00</td>\n",
       "      <td>176.30</td>\n",
       "    </tr>\n",
       "    <tr>\n",
       "      <th>2</th>\n",
       "      <td>2023-01-04</td>\n",
       "      <td>42958.800781</td>\n",
       "      <td>42608.699219</td>\n",
       "      <td>121250162.0</td>\n",
       "      <td>1.122982</td>\n",
       "      <td>1603.15</td>\n",
       "      <td>1152.35</td>\n",
       "    </tr>\n",
       "  </tbody>\n",
       "</table>\n",
       "</div>"
      ],
      "text/plain": [
       "        Date    spot_price  target_spot_price  total_volume  pcr_volume  \\\n",
       "0 2023-01-02  43203.101562       43425.250000    56770323.0    0.965700   \n",
       "1 2023-01-03  43425.250000       42958.800781    62232533.0    0.892912   \n",
       "2 2023-01-04  42958.800781       42608.699219   121250162.0    1.122982   \n",
       "\n",
       "   call_atm_ltp  put_atm_ltp  \n",
       "0        313.00       233.15  \n",
       "1          0.00       176.30  \n",
       "2       1603.15      1152.35  "
      ]
     },
     "metadata": {},
     "output_type": "display_data"
    },
    {
     "name": "stdout",
     "output_type": "stream",
     "text": [
      "\n",
      "💾 FEATURES SAVED TO CSV\n",
      "-------------------------\n",
      "📁 File: c:\\Users\\91894\\Projects\\market-data\\data\\engineered_features.csv\n",
      "📊 Records saved: 628\n",
      "🔧 Features saved: 19\n",
      "\n",
      "📋 FEATURE SUMMARY\n",
      "--------------------\n",
      " 1. spot_price          : Avg = 48051.79\n",
      " 2. call_total_volume   : Avg = 72625409.92\n",
      " 3. call_total_oi       : Avg = 54103409.91\n",
      " 4. call_avg_ltp        : Avg =  1059.17\n",
      " 5. call_max_ltp        : Avg = 10914.98\n",
      " 6. call_count          : Avg =   620.27\n",
      " 7. put_total_volume    : Avg = 67767719.41\n",
      " 8. put_total_oi        : Avg = 46857108.48\n",
      " 9. put_avg_ltp         : Avg =   702.83\n",
      "10. put_max_ltp         : Avg =  8300.36\n",
      "11. put_count           : Avg =   620.63\n",
      "12. total_volume        : Avg = 140393129.32\n",
      "13. total_oi            : Avg = 100960518.39\n",
      "14. pcr_volume          : Avg =     0.94\n",
      "15. pcr_oi              : Avg =     0.90\n",
      "16. call_atm_ltp        : Avg =   688.15\n",
      "17. put_atm_ltp         : Avg =   513.34\n",
      "\n",
      "✅ Feature engineering completed successfully!\n",
      "💡 You can now use 'features_df' variable for modeling\n",
      "📄 CSV file saved for future use: engineered_features.csv\n"
     ]
    }
   ],
   "source": [
    "# 🔧 SIMPLE FEATURE ENGINEERING\n",
    "# Create features from options data and save to CSV file\n",
    "\n",
    "import pandas as pd\n",
    "import numpy as np\n",
    "import os\n",
    "\n",
    "print(\"🔧 SIMPLE FEATURE ENGINEERING\")\n",
    "print(\"=\" * 40)\n",
    "\n",
    "# Check if data is available\n",
    "if 'df_call' not in globals() or 'df_put' not in globals() or 'bank_nifty' not in globals():\n",
    "    print(\"❌ Required data not found. Please run the data loading cells first.\")\n",
    "else:\n",
    "    if df_call.empty or df_put.empty or bank_nifty.empty:\n",
    "        print(\"❌ Data is empty. Please check the data loading process.\")\n",
    "    else:\n",
    "        print(\"✅ Data available. Starting feature engineering...\")\n",
    "        \n",
    "        # Create features by date\n",
    "        features_list = []\n",
    "        \n",
    "        # Get unique dates from options data\n",
    "        all_dates = sorted(set(df_call['Date'].unique()) & set(df_put['Date'].unique()))\n",
    "        print(f\"📅 Processing {len(all_dates)} dates...\")\n",
    "        \n",
    "        for date in all_dates:\n",
    "            # Get options data for this date\n",
    "            calls_today = df_call[df_call['Date'] == date].copy()\n",
    "            puts_today = df_put[df_put['Date'] == date].copy()\n",
    "            \n",
    "            # Get Bank Nifty spot price for this date\n",
    "            spot_today = bank_nifty[bank_nifty['Date'] == date]\n",
    "            \n",
    "            if spot_today.empty:\n",
    "                continue  # Skip if no spot data for this date\n",
    "            \n",
    "            spot_price = spot_today['Close'].iloc[0]\n",
    "            \n",
    "            # Clean and convert data types to handle mixed data\n",
    "            calls_today = calls_today.copy()\n",
    "            puts_today = puts_today.copy()\n",
    "            \n",
    "            # Convert LTP columns to numeric, handling any non-numeric values\n",
    "            calls_today['LTP'] = pd.to_numeric(calls_today['LTP'], errors='coerce').fillna(0)\n",
    "            puts_today['LTP'] = pd.to_numeric(puts_today['LTP'], errors='coerce').fillna(0)\n",
    "            \n",
    "            # Convert volume and OI columns to numeric\n",
    "            calls_today['No. of contracts'] = pd.to_numeric(calls_today['No. of contracts'], errors='coerce').fillna(0)\n",
    "            puts_today['No. of contracts'] = pd.to_numeric(puts_today['No. of contracts'], errors='coerce').fillna(0)\n",
    "            calls_today['Open Int'] = pd.to_numeric(calls_today['Open Int'], errors='coerce').fillna(0)\n",
    "            puts_today['Open Int'] = pd.to_numeric(puts_today['Open Int'], errors='coerce').fillna(0)\n",
    "            calls_today['Strike Price'] = pd.to_numeric(calls_today['Strike Price'], errors='coerce').fillna(0)\n",
    "            puts_today['Strike Price'] = pd.to_numeric(puts_today['Strike Price'], errors='coerce').fillna(0)\n",
    "            \n",
    "            # Calculate basic features with proper error handling\n",
    "            try:\n",
    "                call_volume_sum = calls_today['No. of contracts'].sum()\n",
    "                call_oi_sum = calls_today['Open Int'].sum()\n",
    "                call_ltp_mean = calls_today['LTP'].mean() if len(calls_today) > 0 else 0\n",
    "                call_ltp_max = calls_today['LTP'].max() if len(calls_today) > 0 else 0\n",
    "                \n",
    "                put_volume_sum = puts_today['No. of contracts'].sum()\n",
    "                put_oi_sum = puts_today['Open Int'].sum()\n",
    "                put_ltp_mean = puts_today['LTP'].mean() if len(puts_today) > 0 else 0\n",
    "                put_ltp_max = puts_today['LTP'].max() if len(puts_today) > 0 else 0\n",
    "                \n",
    "                # ATM options calculation with error handling\n",
    "                call_atm_ltp = 0\n",
    "                put_atm_ltp = 0\n",
    "                \n",
    "                if not calls_today.empty and len(calls_today) > 0:\n",
    "                    try:\n",
    "                        closest_call_idx = (calls_today['Strike Price'] - spot_price).abs().argsort().iloc[0]\n",
    "                        call_atm_ltp = calls_today.iloc[closest_call_idx]['LTP']\n",
    "                    except:\n",
    "                        call_atm_ltp = 0\n",
    "                \n",
    "                if not puts_today.empty and len(puts_today) > 0:\n",
    "                    try:\n",
    "                        closest_put_idx = (puts_today['Strike Price'] - spot_price).abs().argsort().iloc[0]\n",
    "                        put_atm_ltp = puts_today.iloc[closest_put_idx]['LTP']\n",
    "                    except:\n",
    "                        put_atm_ltp = 0\n",
    "                \n",
    "                features = {\n",
    "                    'Date': date,\n",
    "                    'spot_price': spot_price,\n",
    "                    \n",
    "                    # Call features\n",
    "                    'call_total_volume': call_volume_sum,\n",
    "                    'call_total_oi': call_oi_sum,\n",
    "                    'call_avg_ltp': call_ltp_mean,\n",
    "                    'call_max_ltp': call_ltp_max,\n",
    "                    'call_count': len(calls_today),\n",
    "                    \n",
    "                    # Put features  \n",
    "                    'put_total_volume': put_volume_sum,\n",
    "                    'put_total_oi': put_oi_sum,\n",
    "                    'put_avg_ltp': put_ltp_mean,\n",
    "                    'put_max_ltp': put_ltp_max,\n",
    "                    'put_count': len(puts_today),\n",
    "                    \n",
    "                    # Combined features\n",
    "                    'total_volume': call_volume_sum + put_volume_sum,\n",
    "                    'total_oi': call_oi_sum + put_oi_sum,\n",
    "                    \n",
    "                    # Put-Call Ratios\n",
    "                    'pcr_volume': put_volume_sum / max(call_volume_sum, 1),\n",
    "                    'pcr_oi': put_oi_sum / max(call_oi_sum, 1),\n",
    "                    \n",
    "                    # ATM options\n",
    "                    'call_atm_ltp': call_atm_ltp,\n",
    "                    'put_atm_ltp': put_atm_ltp,\n",
    "                }\n",
    "                \n",
    "            except Exception as e:\n",
    "                print(f\"⚠️ Error processing date {date}: {str(e)}\")\n",
    "                continue\n",
    "            \n",
    "            features_list.append(features)\n",
    "        \n",
    "        # Create features DataFrame\n",
    "        features_df = pd.DataFrame(features_list)\n",
    "        \n",
    "        if not features_df.empty:\n",
    "            # Sort by date\n",
    "            features_df = features_df.sort_values('Date').reset_index(drop=True)\n",
    "            \n",
    "            # Add target variable (next day's spot price)\n",
    "            features_df['target_spot_price'] = features_df['spot_price'].shift(-1)\n",
    "            \n",
    "            # Remove last row (no target available)\n",
    "            features_df = features_df.dropna()\n",
    "            \n",
    "            print(f\"\\n✅ FEATURE ENGINEERING COMPLETED\")\n",
    "            print(\"-\" * 35)\n",
    "            print(f\"📊 Total records: {len(features_df)}\")\n",
    "            print(f\"🔧 Total features: {len(features_df.columns) - 2}\")  # Exclude Date and target\n",
    "            print(f\"📅 Date range: {features_df['Date'].min()} to {features_df['Date'].max()}\")\n",
    "            \n",
    "            # Display sample features\n",
    "            print(f\"\\n🔍 SAMPLE FEATURES (First 3 rows):\")\n",
    "            print(\"-\" * 35)\n",
    "            display_cols = ['Date', 'spot_price', 'target_spot_price', 'total_volume', 'pcr_volume', 'call_atm_ltp', 'put_atm_ltp']\n",
    "            display(features_df[display_cols].head(3))\n",
    "            \n",
    "            # Save to CSV file\n",
    "            output_file = os.path.join(project_root, 'data', 'engineered_features.csv')\n",
    "            features_df.to_csv(output_file, index=False)\n",
    "            \n",
    "            print(f\"\\n💾 FEATURES SAVED TO CSV\")\n",
    "            print(\"-\" * 25)\n",
    "            print(f\"📁 File: {output_file}\")\n",
    "            print(f\"📊 Records saved: {len(features_df)}\")\n",
    "            print(f\"🔧 Features saved: {len(features_df.columns)}\")\n",
    "            \n",
    "            # Feature summary\n",
    "            print(f\"\\n📋 FEATURE SUMMARY\")\n",
    "            print(\"-\" * 20)\n",
    "            feature_cols = [col for col in features_df.columns if col not in ['Date', 'target_spot_price']]\n",
    "            \n",
    "            for i, feature in enumerate(feature_cols, 1):\n",
    "                avg_val = features_df[feature].mean()\n",
    "                print(f\"{i:2d}. {feature:<20}: Avg = {avg_val:>8.2f}\")\n",
    "            \n",
    "            print(f\"\\n✅ Feature engineering completed successfully!\")\n",
    "            print(\"💡 You can now use 'features_df' variable for modeling\")\n",
    "            print(f\"📄 CSV file saved for future use: engineered_features.csv\")\n",
    "            \n",
    "        else:\n",
    "            print(\"❌ No features could be created. Check your data.\")"
   ]
  },
  {
   "cell_type": "code",
   "execution_count": 5,
   "id": "fb7d1cec",
   "metadata": {},
   "outputs": [
    {
     "name": "stdout",
     "output_type": "stream",
     "text": [
      "📊 NEW PREVIOUS DAY FEATURES ADDED TO XGBOOST MODEL\n",
      "============================================================\n",
      "✅ TOTAL NEW LAG FEATURES ADDED: 0\n",
      "---------------------------------------------\n",
      "💰 PRICE-BASED LAG FEATURES:\n",
      "\n",
      "📊 VOLUME-BASED LAG FEATURES:\n",
      "\n",
      "📈 MOMENTUM & CHANGE FEATURES:\n",
      "\n",
      "🔧 TECHNICAL ANALYSIS FEATURES:\n",
      "\n",
      "🔍 SAMPLE VALUES FOR KEY NEW FEATURES (First 3 records):\n",
      "-------------------------------------------------------\n",
      "\n",
      "📊 STATISTICS FOR NEW LAG FEATURES:\n",
      "----------------------------------------\n",
      "\n",
      "🎯 BENEFITS OF THESE NEW FEATURES:\n",
      "-----------------------------------\n",
      "   ✅ Price momentum detection (price_change_pct, momentum_2day)\n",
      "   ✅ Volume trend analysis (volume_ratio, volume_vs_ma5)\n",
      "   ✅ Gap up/down identification (gap_up_down)\n",
      "   ✅ Moving average signals (price_vs_ma5, ma5_close)\n",
      "   ✅ Technical patterns (prev_range, prev_body, shadows)\n",
      "   ✅ Multi-day trend analysis (2day features)\n",
      "\n",
      "💡 EXPECTED MODEL IMPROVEMENTS:\n",
      "   🚀 Better trend continuation/reversal detection\n",
      "   📊 Enhanced volume-price relationship modeling\n",
      "   🎯 Improved intraday gap prediction\n",
      "   📈 Better handling of market momentum\n",
      "\n",
      "✅ Ready to retrain XGBoost model with enhanced features!\n"
     ]
    }
   ],
   "source": [
    "# 📊 NEW FEATURES SUMMARY: Previous Day Spot Price & Volume Features\n",
    "# Display the new lag features that have been added to improve model performance\n",
    "\n",
    "print(\"📊 NEW PREVIOUS DAY FEATURES ADDED TO XGBOOST MODEL\")\n",
    "print(\"=\" * 60)\n",
    "\n",
    "if 'features_df' in locals() and not features_df.empty:\n",
    "    # List all the new previous day features\n",
    "    lag_features = [col for col in features_df.columns if any(keyword in col.lower() \n",
    "                   for keyword in ['prev', 'ma5', 'momentum', 'gap', 'change_pct', 'volume_ratio'])]\n",
    "    \n",
    "    print(f\"✅ TOTAL NEW LAG FEATURES ADDED: {len(lag_features)}\")\n",
    "    print(\"-\" * 45)\n",
    "    \n",
    "    # Categorize the features\n",
    "    price_features = [f for f in lag_features if any(p in f for p in ['prev_close', 'prev_high', 'prev_low', 'prev_open', 'ma5_close'])]\n",
    "    volume_features = [f for f in lag_features if 'volume' in f]\n",
    "    momentum_features = [f for f in lag_features if any(m in f for m in ['change_pct', 'momentum', 'gap'])]\n",
    "    technical_features = [f for f in lag_features if any(t in f for t in ['range', 'body', 'shadow', 'vs_ma5'])]\n",
    "    \n",
    "    print(\"💰 PRICE-BASED LAG FEATURES:\")\n",
    "    for i, feature in enumerate(price_features, 1):\n",
    "        print(f\"   {i:2d}. {feature}\")\n",
    "    \n",
    "    print(f\"\\n📊 VOLUME-BASED LAG FEATURES:\")\n",
    "    for i, feature in enumerate(volume_features, 1):\n",
    "        print(f\"   {i:2d}. {feature}\")\n",
    "    \n",
    "    print(f\"\\n📈 MOMENTUM & CHANGE FEATURES:\")\n",
    "    for i, feature in enumerate(momentum_features, 1):\n",
    "        print(f\"   {i:2d}. {feature}\")\n",
    "    \n",
    "    print(f\"\\n🔧 TECHNICAL ANALYSIS FEATURES:\")\n",
    "    for i, feature in enumerate(technical_features, 1):\n",
    "        print(f\"   {i:2d}. {feature}\")\n",
    "    \n",
    "    # Show sample values for key new features\n",
    "    print(f\"\\n🔍 SAMPLE VALUES FOR KEY NEW FEATURES (First 3 records):\")\n",
    "    print(\"-\" * 55)\n",
    "    \n",
    "    key_features = ['prev_close', 'prev_volume', 'price_change_pct', 'volume_ratio', 'gap_up_down', 'ma5_close']\n",
    "    available_key_features = [f for f in key_features if f in features_df.columns]\n",
    "    \n",
    "    if available_key_features:\n",
    "        sample_data = features_df[['Date'] + available_key_features].head(3)\n",
    "        display(sample_data)\n",
    "    \n",
    "    # Show statistics for the new features\n",
    "    print(f\"\\n📊 STATISTICS FOR NEW LAG FEATURES:\")\n",
    "    print(\"-\" * 40)\n",
    "    \n",
    "    if 'price_change_pct' in features_df.columns:\n",
    "        price_changes = features_df['price_change_pct']\n",
    "        print(f\"💰 Daily Price Changes:\")\n",
    "        print(f\"   Mean: {price_changes.mean():.2f}%\")\n",
    "        print(f\"   Std:  {price_changes.std():.2f}%\")\n",
    "        print(f\"   Min:  {price_changes.min():.2f}%\")\n",
    "        print(f\"   Max:  {price_changes.max():.2f}%\")\n",
    "    \n",
    "    if 'volume_ratio' in features_df.columns:\n",
    "        volume_ratios = features_df['volume_ratio']\n",
    "        print(f\"\\n📈 Volume Ratios (in millions):\")\n",
    "        print(f\"   Mean: {volume_ratios.mean():.2f}M\")\n",
    "        print(f\"   Std:  {volume_ratios.std():.2f}M\")\n",
    "        print(f\"   Min:  {volume_ratios.min():.2f}M\") \n",
    "        print(f\"   Max:  {volume_ratios.max():.2f}M\")\n",
    "    \n",
    "    print(f\"\\n🎯 BENEFITS OF THESE NEW FEATURES:\")\n",
    "    print(\"-\" * 35)\n",
    "    print(\"   ✅ Price momentum detection (price_change_pct, momentum_2day)\")\n",
    "    print(\"   ✅ Volume trend analysis (volume_ratio, volume_vs_ma5)\")\n",
    "    print(\"   ✅ Gap up/down identification (gap_up_down)\")\n",
    "    print(\"   ✅ Moving average signals (price_vs_ma5, ma5_close)\")\n",
    "    print(\"   ✅ Technical patterns (prev_range, prev_body, shadows)\")\n",
    "    print(\"   ✅ Multi-day trend analysis (2day features)\")\n",
    "    \n",
    "    print(f\"\\n💡 EXPECTED MODEL IMPROVEMENTS:\")\n",
    "    print(\"   🚀 Better trend continuation/reversal detection\")\n",
    "    print(\"   📊 Enhanced volume-price relationship modeling\")\n",
    "    print(\"   🎯 Improved intraday gap prediction\")\n",
    "    print(\"   📈 Better handling of market momentum\")\n",
    "    \n",
    "    print(f\"\\n✅ Ready to retrain XGBoost model with enhanced features!\")\n",
    "    \n",
    "else:\n",
    "    print(\"❌ No features data available. Please run the feature engineering cell first.\")"
   ]
  },
  {
   "cell_type": "code",
   "execution_count": 6,
   "id": "8446a591",
   "metadata": {},
   "outputs": [
    {
     "name": "stdout",
     "output_type": "stream",
     "text": [
      "\n",
      "🚀 XGBOOST MODEL TRAINING PIPELINE\n",
      "=============================================\n",
      "📊 PREPARING DATA FOR MODELING\n",
      "-----------------------------------\n",
      "   ✅ Features prepared: (628, 17)\n",
      "   🎯 Target samples: 628\n",
      "   📊 Feature columns: 17\n",
      "   📚 Training samples: 502 (up to 20-Jan-2025)\n",
      "   🧪 Testing samples: 126 (from 21-Jan-2025)\n",
      "\n",
      "🤖 TRAINING XGBOOST MODEL\n",
      "------------------------------\n",
      "   ✅ XGBoost model trained successfully!\n",
      "\n",
      "📊 MODEL PERFORMANCE EVALUATION\n",
      "-----------------------------------\n",
      "🏋️ TRAINING PERFORMANCE:\n",
      "   RMSE: ₹54.98\n",
      "   MAE:  ₹41.55\n",
      "   R²:   0.9998\n",
      "   MAPE: 0.09%\n",
      "\n",
      "🧪 TESTING PERFORMANCE:\n",
      "   RMSE: ₹2,423.74\n",
      "   MAE:  ₹1,932.37\n",
      "   R²:   0.4611\n",
      "   MAPE: 3.50%\n",
      "\n",
      "🔍 FEATURE IMPORTANCE ANALYSIS\n",
      "-----------------------------------\n",
      "🏆 TOP 10 MOST IMPORTANT FEATURES:\n",
      "    1. spot_price                (0.3328)\n",
      "    2. call_count                (0.2439)\n",
      "    3. call_max_ltp              (0.0988)\n",
      "    4. put_count                 (0.0930)\n",
      "    5. put_max_ltp               (0.0818)\n",
      "    6. call_avg_ltp              (0.0744)\n",
      "    7. put_avg_ltp               (0.0411)\n",
      "    8. call_atm_ltp              (0.0122)\n",
      "    9. call_total_volume         (0.0091)\n",
      "   10. pcr_volume                (0.0021)\n",
      "\n",
      "📈 CREATING PREDICTION VISUALIZATIONS\n",
      "----------------------------------------\n"
     ]
    },
    {
     "data": {
      "application/vnd.plotly.v1+json": {
       "config": {
        "plotlyServerURL": "https://plot.ly"
       },
       "data": [
        {
         "hovertemplate": "Actual: ₹%{x:,.0f}<br>Predicted: ₹%{y:,.0f}<extra></extra>",
         "marker": {
          "color": "blue",
          "opacity": 0.6,
          "size": 6
         },
         "mode": "markers",
         "name": "Training",
         "type": "scatter",
         "x": {
          "bdata": "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",
          "dtype": "f8"
         },
         "xaxis": "x",
         "y": {
          "bdata": "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",
          "dtype": "f4"
         },
         "yaxis": "y"
        },
        {
         "line": {
          "color": "red",
          "dash": "dash"
         },
         "mode": "lines",
         "name": "Perfect Prediction",
         "showlegend": false,
         "type": "scatter",
         "x": [
          39051.5,
          54375.3515625
         ],
         "xaxis": "x",
         "y": [
          39051.5,
          54375.3515625
         ],
         "yaxis": "y"
        },
        {
         "hovertemplate": "Actual: ₹%{x:,.0f}<br>Predicted: ₹%{y:,.0f}<extra></extra>",
         "marker": {
          "color": "green",
          "opacity": 0.7,
          "size": 8
         },
         "mode": "markers",
         "name": "Testing",
         "type": "scatter",
         "x": {
          "bdata": "AAAAwIzK50AAAAAAoLnnQAAAAKD5nedAAAAAwBR450AAAABAW9znQAAAAGC+AehAAAAAYP4T6EAAAABgZjboQAAAAKBRB+hAAAAAYL596EAAAACg4ZToQAAAAEDDmehAAAAAQNt96EAAAAAAoGfoQAAAAMBsH+hAAAAAYO4o6EAAAABA+xnoQAAAAGBu+edAAAAAwFwN6EAAAACg6ffnQAAAAEBDNOhAAAAAoNEW6EAAAABgpurnQAAAAGB+wedAAAAAQAu850AAAACg+cznQAAAAGAWm+dAAAAAoEl+50AAAABgpo7nQAAAAGA+redAAAAAYHa+50AAAAAAMK7nQAAAAKAZi+dAAAAAYL5d50AAAADAFHfnQAAAAMCMd+dAAAAAwESc50AAAAAAUBToQAAAAEDTROhAAAAAQNtx6EAAAACgMbToQAAAAGAeP+lAAAAAYP4y6UAAAAAAIAHpQAAAAED7LulAAAAAQJst6UAAAAAAcNHoQAAAAKCBEulAAAAAQKsx6UAAAABg1iXpQAAAAECDWOhAAAAAAOCp6EAAAADABIjoQAAAAEBL5+hAAAAAAHCT6UAAAAAAuO/pQAAAAGBGgupAAAAAABAB60AAAABg5ivrQAAAAKBBCetAAAAAwCz06kAAAACgAbHqQAAAAKAZEetAAAAAAOgL60AAAADA5OXqQAAAAEBr6epAAAAAAPDQ6kAAAADA7H/qQAAAAMBcqupAAAAAwLSL6kAAAAAAaCvqQAAAAEDbCutAAAAAQJvT6kAAAACgKcLqQAAAAEBzB+tAAAAAwFwH60AAAABglg/rQAAAAECry+pAAAAAQGPk6kAAAACgqdPqQAAAAADIDOtAAAAAAIAi60AAAACgGQfrQAAAAAAgD+tAAAAAoEEf60AAAABgtjjrQAAAAMDsS+tAAAAAYP4l60AAAABAmy/rQAAAAEAbOutAAAAAwEyg60AAAABA88DrQAAAAECjputAAAAAAHiR60AAAACgUWLrQAAAAEDrHOtAAAAAwBxR60AAAADARDTrQAAAAACYQutAAAAAYC4j60AAAABAm3frQAAAAEBrX+tAAAAAwLyR60AAAADApKXrQAAAAGDW7utAAAAAwHwM7EAAAAAAGPzrQAAAAGBuDuxAAAAAYObU60AAAABg/rrrQAAAAMD82OtAAAAAYKbO60AAAACgCfXrQAAAAKCx7+tAAAAAAIDP60AAAABgVrbrQAAAAECrt+tAAAAAwNTV60AAAABgHurrQAAAAKCZv+tAAAAAAGB760AAAAAAGM/rQAAAAACAtutAAAAAYE7v60AAAACgQd3rQAAAAMAcmutA",
          "dtype": "f8"
         },
         "xaxis": "x2",
         "y": {
          "bdata": "rxBAR4HMP0e+sz5HXVU+R+NTPUdduj9HGdlBR7gsQEf37UNHvqJDR3ONRUd9FEZH1UJIR2Z3RkdjVkZHfBFERxW5REcfH0RHXexCR0y5Qke+bUJHW1xCR/rvQUc0kEJH6EhBR4jdQUfmt0BHlYo9R/hbO0c3KD5H4QI+RxWgPkf6hj5H3ro/R2AIPUf1UD1HOMM9R4r6P0doOEJHNWBDR/4rRUc+9UZHMGNJRzltSkeKjklHetBIR41cSkeBVkhHwx5KRymxSkdquUlHTllDR9g7Rkd7dkZHtopFRzvcSEfF3U5HwCNOR2c2SUf9NUtHqhNKR6G0TEdyoU5HAARQR/E6T0d+GU9HV45PR4iPT0fi9k9H0+VPR5jcTkeza05H4x5QRwCnT0etx05HlqRPRx68T0c32k9HZehPR2ncT0eXKk9H6whQR9fsT0fQJU5Ho01OR+4HTkderE5HxYFOR79GTkeMpE5HLMVOR6w+TUfPgUxHrQlPR1TiTkeXnk5HkmxPR85HT0cz105HSIBPR7ICT0dRYE9HlB9PRyauT0fdKU9Hpi9QR2fZTkd/WE9Hu05PRx61TUfER01HmndOR0gATkd5lU9HLh9ORyaHTkdNOU1HPqdNR3+0TkdAI05HKQRORyDpTkfRSk9HdVpPR7VpT0eFZ09H",
          "dtype": "f4"
         },
         "yaxis": "y2"
        },
        {
         "line": {
          "color": "red",
          "dash": "dash"
         },
         "mode": "lines",
         "name": "Perfect Prediction",
         "showlegend": false,
         "type": "scatter",
         "x": [
          47853.94921875,
          57459.44921875
         ],
         "xaxis": "x2",
         "y": [
          47853.94921875,
          57459.44921875
         ],
         "yaxis": "y2"
        },
        {
         "line": {
          "color": "blue",
          "width": 2
         },
         "marker": {
          "size": 4
         },
         "mode": "lines+markers",
         "name": "Actual Spot Price",
         "type": "scatter",
         "x": [
          "2023-01-02T00:00:00",
          "2023-01-03T00:00:00",
          "2023-01-04T00:00:00",
          "2023-01-05T00:00:00",
          "2023-01-06T00:00:00",
          "2023-01-09T00:00:00",
          "2023-01-10T00:00:00",
          "2023-01-11T00:00:00",
          "2023-01-12T00:00:00",
          "2023-01-13T00:00:00",
          "2023-01-16T00:00:00",
          "2023-01-17T00:00:00",
          "2023-01-18T00:00:00",
          "2023-01-19T00:00:00",
          "2023-01-20T00:00:00",
          "2023-01-23T00:00:00",
          "2023-01-24T00:00:00",
          "2023-01-25T00:00:00",
          "2023-01-27T00:00:00",
          "2023-01-30T00:00:00",
          "2023-01-31T00:00:00",
          "2023-02-01T00:00:00",
          "2023-02-02T00:00:00",
          "2023-02-03T00:00:00",
          "2023-02-06T00:00:00",
          "2023-02-07T00:00:00",
          "2023-02-08T00:00:00",
          "2023-02-09T00:00:00",
          "2023-02-10T00:00:00",
          "2023-02-13T00:00:00",
          "2023-02-14T00:00:00",
          "2023-02-15T00:00:00",
          "2023-02-16T00:00:00",
          "2023-02-17T00:00:00",
          "2023-02-20T00:00:00",
          "2023-02-21T00:00:00",
          "2023-02-22T00:00:00",
          "2023-02-23T00:00:00",
          "2023-02-24T00:00:00",
          "2023-02-27T00:00:00",
          "2023-02-28T00:00:00",
          "2023-03-01T00:00:00",
          "2023-03-02T00:00:00",
          "2023-03-03T00:00:00",
          "2023-03-06T00:00:00",
          "2023-03-08T00:00:00",
          "2023-03-09T00:00:00",
          "2023-03-10T00:00:00",
          "2023-03-13T00:00:00",
          "2023-03-14T00:00:00",
          "2023-03-15T00:00:00",
          "2023-03-16T00:00:00",
          "2023-03-17T00:00:00",
          "2023-03-20T00:00:00",
          "2023-03-21T00:00:00",
          "2023-03-22T00:00:00",
          "2023-03-23T00:00:00",
          "2023-03-24T00:00:00",
          "2023-03-27T00:00:00",
          "2023-03-28T00:00:00",
          "2023-03-29T00:00:00",
          "2023-03-31T00:00:00",
          "2023-04-03T00:00:00",
          "2023-04-05T00:00:00",
          "2023-04-06T00:00:00",
          "2023-04-10T00:00:00",
          "2023-04-11T00:00:00",
          "2023-04-12T00:00:00",
          "2023-04-13T00:00:00",
          "2023-04-17T00:00:00",
          "2023-04-18T00:00:00",
          "2023-04-19T00:00:00",
          "2023-04-20T00:00:00",
          "2023-04-21T00:00:00",
          "2023-04-24T00:00:00",
          "2023-04-25T00:00:00",
          "2023-04-26T00:00:00",
          "2023-04-27T00:00:00",
          "2023-04-28T00:00:00",
          "2023-05-02T00:00:00",
          "2023-05-03T00:00:00",
          "2023-05-04T00:00:00",
          "2023-05-05T00:00:00",
          "2023-05-08T00:00:00",
          "2023-05-09T00:00:00",
          "2023-05-10T00:00:00",
          "2023-05-11T00:00:00",
          "2023-05-12T00:00:00",
          "2023-05-15T00:00:00",
          "2023-05-16T00:00:00",
          "2023-05-17T00:00:00",
          "2023-05-18T00:00:00",
          "2023-05-19T00:00:00",
          "2023-05-22T00:00:00",
          "2023-05-23T00:00:00",
          "2023-05-24T00:00:00",
          "2023-05-25T00:00:00",
          "2023-05-26T00:00:00",
          "2023-05-29T00:00:00",
          "2023-05-30T00:00:00",
          "2023-05-31T00:00:00",
          "2023-06-01T00:00:00",
          "2023-06-02T00:00:00",
          "2023-06-05T00:00:00",
          "2023-06-06T00:00:00",
          "2023-06-07T00:00:00",
          "2023-06-08T00:00:00",
          "2023-06-09T00:00:00",
          "2023-06-12T00:00:00",
          "2023-06-13T00:00:00",
          "2023-06-14T00:00:00",
          "2023-06-15T00:00:00",
          "2023-06-16T00:00:00",
          "2023-06-19T00:00:00",
          "2023-06-20T00:00:00",
          "2023-06-21T00:00:00",
          "2023-06-22T00:00:00",
          "2023-06-23T00:00:00",
          "2023-06-26T00:00:00",
          "2023-06-27T00:00:00",
          "2023-06-28T00:00:00",
          "2023-06-30T00:00:00",
          "2023-07-03T00:00:00",
          "2023-07-04T00:00:00",
          "2023-07-05T00:00:00",
          "2023-07-06T00:00:00",
          "2023-07-07T00:00:00",
          "2023-07-10T00:00:00",
          "2023-07-11T00:00:00",
          "2023-07-12T00:00:00",
          "2023-07-13T00:00:00",
          "2023-07-14T00:00:00",
          "2023-07-17T00:00:00",
          "2023-07-18T00:00:00",
          "2023-07-19T00:00:00",
          "2023-07-20T00:00:00",
          "2023-07-21T00:00:00",
          "2023-07-24T00:00:00",
          "2023-07-25T00:00:00",
          "2023-07-26T00:00:00",
          "2023-07-27T00:00:00",
          "2023-07-28T00:00:00",
          "2023-07-31T00:00:00",
          "2023-08-01T00:00:00",
          "2023-08-02T00:00:00",
          "2023-08-03T00:00:00",
          "2023-08-04T00:00:00",
          "2023-08-07T00:00:00",
          "2023-08-08T00:00:00",
          "2023-08-09T00:00:00",
          "2023-08-10T00:00:00",
          "2023-08-11T00:00:00",
          "2023-08-14T00:00:00",
          "2023-08-16T00:00:00",
          "2023-08-17T00:00:00",
          "2023-08-18T00:00:00",
          "2023-08-21T00:00:00",
          "2023-08-22T00:00:00",
          "2023-08-23T00:00:00",
          "2023-08-24T00:00:00",
          "2023-08-25T00:00:00",
          "2023-08-28T00:00:00",
          "2023-08-29T00:00:00",
          "2023-08-30T00:00:00",
          "2023-08-31T00:00:00",
          "2023-09-01T00:00:00",
          "2023-09-04T00:00:00",
          "2023-09-05T00:00:00",
          "2023-09-06T00:00:00",
          "2023-09-07T00:00:00",
          "2023-09-08T00:00:00",
          "2023-09-11T00:00:00",
          "2023-09-12T00:00:00",
          "2023-09-13T00:00:00",
          "2023-09-14T00:00:00",
          "2023-09-15T00:00:00",
          "2023-09-18T00:00:00",
          "2023-09-20T00:00:00",
          "2023-09-21T00:00:00",
          "2023-09-22T00:00:00",
          "2023-09-25T00:00:00",
          "2023-09-26T00:00:00",
          "2023-09-27T00:00:00",
          "2023-09-28T00:00:00",
          "2023-09-29T00:00:00",
          "2023-10-03T00:00:00",
          "2023-10-04T00:00:00",
          "2023-10-05T00:00:00",
          "2023-10-06T00:00:00",
          "2023-10-09T00:00:00",
          "2023-10-10T00:00:00",
          "2023-10-11T00:00:00",
          "2023-10-12T00:00:00",
          "2023-10-13T00:00:00",
          "2023-10-16T00:00:00",
          "2023-10-17T00:00:00",
          "2023-10-18T00:00:00",
          "2023-10-19T00:00:00",
          "2023-10-20T00:00:00",
          "2023-10-23T00:00:00",
          "2023-10-25T00:00:00",
          "2023-10-26T00:00:00",
          "2023-10-27T00:00:00",
          "2023-10-30T00:00:00",
          "2023-10-31T00:00:00",
          "2023-11-01T00:00:00",
          "2023-11-02T00:00:00",
          "2023-11-03T00:00:00",
          "2023-11-06T00:00:00",
          "2023-11-07T00:00:00",
          "2023-11-08T00:00:00",
          "2023-11-09T00:00:00",
          "2023-11-10T00:00:00",
          "2023-11-13T00:00:00",
          "2023-11-15T00:00:00",
          "2023-11-16T00:00:00",
          "2023-11-17T00:00:00",
          "2023-11-20T00:00:00",
          "2023-11-21T00:00:00",
          "2023-11-22T00:00:00",
          "2023-11-23T00:00:00",
          "2023-11-24T00:00:00",
          "2023-11-28T00:00:00",
          "2023-11-29T00:00:00",
          "2023-11-30T00:00:00",
          "2023-12-01T00:00:00",
          "2023-12-04T00:00:00",
          "2023-12-05T00:00:00",
          "2023-12-06T00:00:00",
          "2023-12-07T00:00:00",
          "2023-12-08T00:00:00",
          "2023-12-11T00:00:00",
          "2023-12-12T00:00:00",
          "2023-12-13T00:00:00",
          "2023-12-14T00:00:00",
          "2023-12-15T00:00:00",
          "2023-12-18T00:00:00",
          "2023-12-19T00:00:00",
          "2023-12-20T00:00:00",
          "2023-12-21T00:00:00",
          "2023-12-22T00:00:00",
          "2023-12-26T00:00:00",
          "2023-12-27T00:00:00",
          "2023-12-28T00:00:00",
          "2023-12-29T00:00:00",
          "2024-01-02T00:00:00",
          "2024-01-03T00:00:00",
          "2024-01-04T00:00:00",
          "2024-01-05T00:00:00",
          "2024-01-08T00:00:00",
          "2024-01-09T00:00:00",
          "2024-01-10T00:00:00",
          "2024-01-11T00:00:00",
          "2024-01-12T00:00:00",
          "2024-01-15T00:00:00",
          "2024-01-16T00:00:00",
          "2024-01-17T00:00:00",
          "2024-01-18T00:00:00",
          "2024-01-19T00:00:00",
          "2024-01-23T00:00:00",
          "2024-01-24T00:00:00",
          "2024-01-25T00:00:00",
          "2024-01-29T00:00:00",
          "2024-01-30T00:00:00",
          "2024-01-31T00:00:00",
          "2024-02-01T00:00:00",
          "2024-02-02T00:00:00",
          "2024-02-05T00:00:00",
          "2024-02-06T00:00:00",
          "2024-02-07T00:00:00",
          "2024-02-08T00:00:00",
          "2024-02-09T00:00:00",
          "2024-02-12T00:00:00",
          "2024-02-13T00:00:00",
          "2024-02-14T00:00:00",
          "2024-02-15T00:00:00",
          "2024-02-16T00:00:00",
          "2024-02-20T00:00:00",
          "2024-02-21T00:00:00",
          "2024-02-22T00:00:00",
          "2024-02-23T00:00:00",
          "2024-02-26T00:00:00",
          "2024-02-27T00:00:00",
          "2024-02-28T00:00:00",
          "2024-02-29T00:00:00",
          "2024-03-01T00:00:00",
          "2024-03-04T00:00:00",
          "2024-03-05T00:00:00",
          "2024-03-06T00:00:00",
          "2024-03-07T00:00:00",
          "2024-03-11T00:00:00",
          "2024-03-12T00:00:00",
          "2024-03-13T00:00:00",
          "2024-03-14T00:00:00",
          "2024-03-15T00:00:00",
          "2024-03-18T00:00:00",
          "2024-03-19T00:00:00",
          "2024-03-20T00:00:00",
          "2024-03-21T00:00:00",
          "2024-03-22T00:00:00",
          "2024-03-26T00:00:00",
          "2024-03-27T00:00:00",
          "2024-03-28T00:00:00",
          "2024-04-01T00:00:00",
          "2024-04-02T00:00:00",
          "2024-04-03T00:00:00",
          "2024-04-04T00:00:00",
          "2024-04-05T00:00:00",
          "2024-04-08T00:00:00",
          "2024-04-09T00:00:00",
          "2024-04-10T00:00:00",
          "2024-04-12T00:00:00",
          "2024-04-15T00:00:00",
          "2024-04-16T00:00:00",
          "2024-04-18T00:00:00",
          "2024-04-19T00:00:00",
          "2024-04-22T00:00:00",
          "2024-04-23T00:00:00",
          "2024-04-24T00:00:00",
          "2024-04-25T00:00:00",
          "2024-04-26T00:00:00",
          "2024-04-29T00:00:00",
          "2024-04-30T00:00:00",
          "2024-05-02T00:00:00",
          "2024-05-03T00:00:00",
          "2024-05-06T00:00:00",
          "2024-05-07T00:00:00",
          "2024-05-08T00:00:00",
          "2024-05-09T00:00:00",
          "2024-05-10T00:00:00",
          "2024-05-13T00:00:00",
          "2024-05-14T00:00:00",
          "2024-05-15T00:00:00",
          "2024-05-16T00:00:00",
          "2024-05-17T00:00:00",
          "2024-05-21T00:00:00",
          "2024-05-22T00:00:00",
          "2024-05-23T00:00:00",
          "2024-05-24T00:00:00",
          "2024-05-27T00:00:00",
          "2024-05-28T00:00:00",
          "2024-05-29T00:00:00",
          "2024-05-30T00:00:00",
          "2024-05-31T00:00:00",
          "2024-06-03T00:00:00",
          "2024-06-04T00:00:00",
          "2024-06-05T00:00:00",
          "2024-06-06T00:00:00",
          "2024-06-07T00:00:00",
          "2024-06-10T00:00:00",
          "2024-06-11T00:00:00",
          "2024-06-12T00:00:00",
          "2024-06-13T00:00:00",
          "2024-06-14T00:00:00",
          "2024-06-18T00:00:00",
          "2024-06-19T00:00:00",
          "2024-06-20T00:00:00",
          "2024-06-21T00:00:00",
          "2024-06-24T00:00:00",
          "2024-06-25T00:00:00",
          "2024-06-26T00:00:00",
          "2024-06-27T00:00:00",
          "2024-06-28T00:00:00",
          "2024-07-01T00:00:00",
          "2024-07-02T00:00:00",
          "2024-07-03T00:00:00",
          "2024-07-04T00:00:00",
          "2024-07-05T00:00:00",
          "2024-07-08T00:00:00",
          "2024-07-09T00:00:00",
          "2024-07-10T00:00:00",
          "2024-07-11T00:00:00",
          "2024-07-12T00:00:00",
          "2024-07-15T00:00:00",
          "2024-07-16T00:00:00",
          "2024-07-18T00:00:00",
          "2024-07-19T00:00:00",
          "2024-07-22T00:00:00",
          "2024-07-23T00:00:00",
          "2024-07-24T00:00:00",
          "2024-07-25T00:00:00",
          "2024-07-26T00:00:00",
          "2024-07-29T00:00:00",
          "2024-07-30T00:00:00",
          "2024-07-31T00:00:00",
          "2024-08-01T00:00:00",
          "2024-08-02T00:00:00",
          "2024-08-05T00:00:00",
          "2024-08-06T00:00:00",
          "2024-08-07T00:00:00",
          "2024-08-08T00:00:00",
          "2024-08-09T00:00:00",
          "2024-08-12T00:00:00",
          "2024-08-13T00:00:00",
          "2024-08-14T00:00:00",
          "2024-08-16T00:00:00",
          "2024-08-19T00:00:00",
          "2024-08-20T00:00:00",
          "2024-08-21T00:00:00",
          "2024-08-22T00:00:00",
          "2024-08-23T00:00:00",
          "2024-08-26T00:00:00",
          "2024-08-27T00:00:00",
          "2024-08-28T00:00:00",
          "2024-08-29T00:00:00",
          "2024-08-30T00:00:00",
          "2024-09-02T00:00:00",
          "2024-09-03T00:00:00",
          "2024-09-04T00:00:00",
          "2024-09-05T00:00:00",
          "2024-09-06T00:00:00",
          "2024-09-09T00:00:00",
          "2024-09-10T00:00:00",
          "2024-09-11T00:00:00",
          "2024-09-12T00:00:00",
          "2024-09-13T00:00:00",
          "2024-09-16T00:00:00",
          "2024-09-17T00:00:00",
          "2024-09-18T00:00:00",
          "2024-09-19T00:00:00",
          "2024-09-20T00:00:00",
          "2024-09-23T00:00:00",
          "2024-09-24T00:00:00",
          "2024-09-25T00:00:00",
          "2024-09-26T00:00:00",
          "2024-09-27T00:00:00",
          "2024-09-30T00:00:00",
          "2024-10-01T00:00:00",
          "2024-10-03T00:00:00",
          "2024-10-04T00:00:00",
          "2024-10-07T00:00:00",
          "2024-10-08T00:00:00",
          "2024-10-09T00:00:00",
          "2024-10-10T00:00:00",
          "2024-10-11T00:00:00",
          "2024-10-14T00:00:00",
          "2024-10-15T00:00:00",
          "2024-10-16T00:00:00",
          "2024-10-17T00:00:00",
          "2024-10-18T00:00:00",
          "2024-10-21T00:00:00",
          "2024-10-22T00:00:00",
          "2024-10-23T00:00:00",
          "2024-10-24T00:00:00",
          "2024-10-25T00:00:00",
          "2024-10-28T00:00:00",
          "2024-10-29T00:00:00",
          "2024-10-30T00:00:00",
          "2024-10-31T00:00:00",
          "2024-11-01T00:00:00",
          "2024-11-04T00:00:00",
          "2024-11-05T00:00:00",
          "2024-11-06T00:00:00",
          "2024-11-07T00:00:00",
          "2024-11-08T00:00:00",
          "2024-11-11T00:00:00",
          "2024-11-12T00:00:00",
          "2024-11-13T00:00:00",
          "2024-11-14T00:00:00",
          "2024-11-18T00:00:00",
          "2024-11-19T00:00:00",
          "2024-11-21T00:00:00",
          "2024-11-22T00:00:00",
          "2024-11-25T00:00:00",
          "2024-11-26T00:00:00",
          "2024-11-27T00:00:00",
          "2024-11-28T00:00:00",
          "2024-11-29T00:00:00",
          "2024-12-02T00:00:00",
          "2024-12-03T00:00:00",
          "2024-12-04T00:00:00",
          "2024-12-05T00:00:00",
          "2024-12-06T00:00:00",
          "2024-12-09T00:00:00",
          "2024-12-10T00:00:00",
          "2024-12-11T00:00:00",
          "2024-12-12T00:00:00",
          "2024-12-13T00:00:00",
          "2024-12-16T00:00:00",
          "2024-12-17T00:00:00",
          "2024-12-18T00:00:00",
          "2024-12-19T00:00:00",
          "2024-12-20T00:00:00",
          "2024-12-23T00:00:00",
          "2024-12-24T00:00:00",
          "2024-12-26T00:00:00",
          "2024-12-27T00:00:00",
          "2024-12-30T00:00:00",
          "2024-12-31T00:00:00",
          "2025-01-02T00:00:00",
          "2025-01-03T00:00:00",
          "2025-01-06T00:00:00",
          "2025-01-07T00:00:00",
          "2025-01-08T00:00:00",
          "2025-01-09T00:00:00",
          "2025-01-10T00:00:00",
          "2025-01-13T00:00:00",
          "2025-01-14T00:00:00",
          "2025-01-15T00:00:00",
          "2025-01-16T00:00:00",
          "2025-01-17T00:00:00",
          "2025-01-20T00:00:00",
          "2025-01-21T00:00:00",
          "2025-01-22T00:00:00",
          "2025-01-23T00:00:00",
          "2025-01-24T00:00:00",
          "2025-01-27T00:00:00",
          "2025-01-28T00:00:00",
          "2025-01-29T00:00:00",
          "2025-01-30T00:00:00",
          "2025-01-31T00:00:00",
          "2025-02-03T00:00:00",
          "2025-02-04T00:00:00",
          "2025-02-05T00:00:00",
          "2025-02-06T00:00:00",
          "2025-02-07T00:00:00",
          "2025-02-10T00:00:00",
          "2025-02-11T00:00:00",
          "2025-02-12T00:00:00",
          "2025-02-13T00:00:00",
          "2025-02-14T00:00:00",
          "2025-02-17T00:00:00",
          "2025-02-18T00:00:00",
          "2025-02-19T00:00:00",
          "2025-02-20T00:00:00",
          "2025-02-21T00:00:00",
          "2025-02-24T00:00:00",
          "2025-02-25T00:00:00",
          "2025-02-27T00:00:00",
          "2025-02-28T00:00:00",
          "2025-03-03T00:00:00",
          "2025-03-04T00:00:00",
          "2025-03-05T00:00:00",
          "2025-03-06T00:00:00",
          "2025-03-07T00:00:00",
          "2025-03-10T00:00:00",
          "2025-03-11T00:00:00",
          "2025-03-12T00:00:00",
          "2025-03-13T00:00:00",
          "2025-03-17T00:00:00",
          "2025-03-18T00:00:00",
          "2025-03-19T00:00:00",
          "2025-03-20T00:00:00",
          "2025-03-21T00:00:00",
          "2025-03-24T00:00:00",
          "2025-03-25T00:00:00",
          "2025-03-26T00:00:00",
          "2025-03-27T00:00:00",
          "2025-03-28T00:00:00",
          "2025-04-01T00:00:00",
          "2025-04-02T00:00:00",
          "2025-04-03T00:00:00",
          "2025-04-04T00:00:00",
          "2025-04-07T00:00:00",
          "2025-04-08T00:00:00",
          "2025-04-09T00:00:00",
          "2025-04-11T00:00:00",
          "2025-04-15T00:00:00",
          "2025-04-16T00:00:00",
          "2025-04-17T00:00:00",
          "2025-04-21T00:00:00",
          "2025-04-22T00:00:00",
          "2025-04-23T00:00:00",
          "2025-04-24T00:00:00",
          "2025-04-25T00:00:00",
          "2025-04-28T00:00:00",
          "2025-04-29T00:00:00",
          "2025-04-30T00:00:00",
          "2025-05-02T00:00:00",
          "2025-05-05T00:00:00",
          "2025-05-06T00:00:00",
          "2025-05-07T00:00:00",
          "2025-05-08T00:00:00",
          "2025-05-09T00:00:00",
          "2025-05-12T00:00:00",
          "2025-05-13T00:00:00",
          "2025-05-14T00:00:00",
          "2025-05-15T00:00:00",
          "2025-05-16T00:00:00",
          "2025-05-19T00:00:00",
          "2025-05-20T00:00:00",
          "2025-05-21T00:00:00",
          "2025-05-22T00:00:00",
          "2025-05-23T00:00:00",
          "2025-05-26T00:00:00",
          "2025-05-27T00:00:00",
          "2025-05-28T00:00:00",
          "2025-05-29T00:00:00",
          "2025-05-30T00:00:00",
          "2025-06-02T00:00:00",
          "2025-06-03T00:00:00",
          "2025-06-04T00:00:00",
          "2025-06-05T00:00:00",
          "2025-06-06T00:00:00",
          "2025-06-09T00:00:00",
          "2025-06-10T00:00:00",
          "2025-06-11T00:00:00",
          "2025-06-12T00:00:00",
          "2025-06-13T00:00:00",
          "2025-06-16T00:00:00",
          "2025-06-17T00:00:00",
          "2025-06-18T00:00:00",
          "2025-06-19T00:00:00",
          "2025-06-20T00:00:00",
          "2025-06-23T00:00:00",
          "2025-06-24T00:00:00",
          "2025-06-25T00:00:00",
          "2025-06-26T00:00:00",
          "2025-06-27T00:00:00",
          "2025-06-30T00:00:00",
          "2025-07-01T00:00:00",
          "2025-07-02T00:00:00",
          "2025-07-03T00:00:00",
          "2025-07-04T00:00:00",
          "2025-07-07T00:00:00",
          "2025-07-08T00:00:00",
          "2025-07-09T00:00:00",
          "2025-07-10T00:00:00",
          "2025-07-11T00:00:00",
          "2025-07-14T00:00:00",
          "2025-07-15T00:00:00",
          "2025-07-16T00:00:00",
          "2025-07-17T00:00:00",
          "2025-07-18T00:00:00",
          "2025-07-21T00:00:00",
          "2025-07-22T00:00:00",
          "2025-07-23T00:00:00",
          "2025-07-24T00:00:00"
         ],
         "xaxis": "x3",
         "y": {
          "bdata": "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",
          "dtype": "f8"
         },
         "yaxis": "y3"
        },
        {
         "line": {
          "color": "red",
          "dash": "dot",
          "width": 2
         },
         "marker": {
          "size": 4
         },
         "mode": "lines+markers",
         "name": "Predicted Spot Price",
         "type": "scatter",
         "x": [
          "2023-01-02T00:00:00",
          "2023-01-03T00:00:00",
          "2023-01-04T00:00:00",
          "2023-01-05T00:00:00",
          "2023-01-06T00:00:00",
          "2023-01-09T00:00:00",
          "2023-01-10T00:00:00",
          "2023-01-11T00:00:00",
          "2023-01-12T00:00:00",
          "2023-01-13T00:00:00",
          "2023-01-16T00:00:00",
          "2023-01-17T00:00:00",
          "2023-01-18T00:00:00",
          "2023-01-19T00:00:00",
          "2023-01-20T00:00:00",
          "2023-01-23T00:00:00",
          "2023-01-24T00:00:00",
          "2023-01-25T00:00:00",
          "2023-01-27T00:00:00",
          "2023-01-30T00:00:00",
          "2023-01-31T00:00:00",
          "2023-02-01T00:00:00",
          "2023-02-02T00:00:00",
          "2023-02-03T00:00:00",
          "2023-02-06T00:00:00",
          "2023-02-07T00:00:00",
          "2023-02-08T00:00:00",
          "2023-02-09T00:00:00",
          "2023-02-10T00:00:00",
          "2023-02-13T00:00:00",
          "2023-02-14T00:00:00",
          "2023-02-15T00:00:00",
          "2023-02-16T00:00:00",
          "2023-02-17T00:00:00",
          "2023-02-20T00:00:00",
          "2023-02-21T00:00:00",
          "2023-02-22T00:00:00",
          "2023-02-23T00:00:00",
          "2023-02-24T00:00:00",
          "2023-02-27T00:00:00",
          "2023-02-28T00:00:00",
          "2023-03-01T00:00:00",
          "2023-03-02T00:00:00",
          "2023-03-03T00:00:00",
          "2023-03-06T00:00:00",
          "2023-03-08T00:00:00",
          "2023-03-09T00:00:00",
          "2023-03-10T00:00:00",
          "2023-03-13T00:00:00",
          "2023-03-14T00:00:00",
          "2023-03-15T00:00:00",
          "2023-03-16T00:00:00",
          "2023-03-17T00:00:00",
          "2023-03-20T00:00:00",
          "2023-03-21T00:00:00",
          "2023-03-22T00:00:00",
          "2023-03-23T00:00:00",
          "2023-03-24T00:00:00",
          "2023-03-27T00:00:00",
          "2023-03-28T00:00:00",
          "2023-03-29T00:00:00",
          "2023-03-31T00:00:00",
          "2023-04-03T00:00:00",
          "2023-04-05T00:00:00",
          "2023-04-06T00:00:00",
          "2023-04-10T00:00:00",
          "2023-04-11T00:00:00",
          "2023-04-12T00:00:00",
          "2023-04-13T00:00:00",
          "2023-04-17T00:00:00",
          "2023-04-18T00:00:00",
          "2023-04-19T00:00:00",
          "2023-04-20T00:00:00",
          "2023-04-21T00:00:00",
          "2023-04-24T00:00:00",
          "2023-04-25T00:00:00",
          "2023-04-26T00:00:00",
          "2023-04-27T00:00:00",
          "2023-04-28T00:00:00",
          "2023-05-02T00:00:00",
          "2023-05-03T00:00:00",
          "2023-05-04T00:00:00",
          "2023-05-05T00:00:00",
          "2023-05-08T00:00:00",
          "2023-05-09T00:00:00",
          "2023-05-10T00:00:00",
          "2023-05-11T00:00:00",
          "2023-05-12T00:00:00",
          "2023-05-15T00:00:00",
          "2023-05-16T00:00:00",
          "2023-05-17T00:00:00",
          "2023-05-18T00:00:00",
          "2023-05-19T00:00:00",
          "2023-05-22T00:00:00",
          "2023-05-23T00:00:00",
          "2023-05-24T00:00:00",
          "2023-05-25T00:00:00",
          "2023-05-26T00:00:00",
          "2023-05-29T00:00:00",
          "2023-05-30T00:00:00",
          "2023-05-31T00:00:00",
          "2023-06-01T00:00:00",
          "2023-06-02T00:00:00",
          "2023-06-05T00:00:00",
          "2023-06-06T00:00:00",
          "2023-06-07T00:00:00",
          "2023-06-08T00:00:00",
          "2023-06-09T00:00:00",
          "2023-06-12T00:00:00",
          "2023-06-13T00:00:00",
          "2023-06-14T00:00:00",
          "2023-06-15T00:00:00",
          "2023-06-16T00:00:00",
          "2023-06-19T00:00:00",
          "2023-06-20T00:00:00",
          "2023-06-21T00:00:00",
          "2023-06-22T00:00:00",
          "2023-06-23T00:00:00",
          "2023-06-26T00:00:00",
          "2023-06-27T00:00:00",
          "2023-06-28T00:00:00",
          "2023-06-30T00:00:00",
          "2023-07-03T00:00:00",
          "2023-07-04T00:00:00",
          "2023-07-05T00:00:00",
          "2023-07-06T00:00:00",
          "2023-07-07T00:00:00",
          "2023-07-10T00:00:00",
          "2023-07-11T00:00:00",
          "2023-07-12T00:00:00",
          "2023-07-13T00:00:00",
          "2023-07-14T00:00:00",
          "2023-07-17T00:00:00",
          "2023-07-18T00:00:00",
          "2023-07-19T00:00:00",
          "2023-07-20T00:00:00",
          "2023-07-21T00:00:00",
          "2023-07-24T00:00:00",
          "2023-07-25T00:00:00",
          "2023-07-26T00:00:00",
          "2023-07-27T00:00:00",
          "2023-07-28T00:00:00",
          "2023-07-31T00:00:00",
          "2023-08-01T00:00:00",
          "2023-08-02T00:00:00",
          "2023-08-03T00:00:00",
          "2023-08-04T00:00:00",
          "2023-08-07T00:00:00",
          "2023-08-08T00:00:00",
          "2023-08-09T00:00:00",
          "2023-08-10T00:00:00",
          "2023-08-11T00:00:00",
          "2023-08-14T00:00:00",
          "2023-08-16T00:00:00",
          "2023-08-17T00:00:00",
          "2023-08-18T00:00:00",
          "2023-08-21T00:00:00",
          "2023-08-22T00:00:00",
          "2023-08-23T00:00:00",
          "2023-08-24T00:00:00",
          "2023-08-25T00:00:00",
          "2023-08-28T00:00:00",
          "2023-08-29T00:00:00",
          "2023-08-30T00:00:00",
          "2023-08-31T00:00:00",
          "2023-09-01T00:00:00",
          "2023-09-04T00:00:00",
          "2023-09-05T00:00:00",
          "2023-09-06T00:00:00",
          "2023-09-07T00:00:00",
          "2023-09-08T00:00:00",
          "2023-09-11T00:00:00",
          "2023-09-12T00:00:00",
          "2023-09-13T00:00:00",
          "2023-09-14T00:00:00",
          "2023-09-15T00:00:00",
          "2023-09-18T00:00:00",
          "2023-09-20T00:00:00",
          "2023-09-21T00:00:00",
          "2023-09-22T00:00:00",
          "2023-09-25T00:00:00",
          "2023-09-26T00:00:00",
          "2023-09-27T00:00:00",
          "2023-09-28T00:00:00",
          "2023-09-29T00:00:00",
          "2023-10-03T00:00:00",
          "2023-10-04T00:00:00",
          "2023-10-05T00:00:00",
          "2023-10-06T00:00:00",
          "2023-10-09T00:00:00",
          "2023-10-10T00:00:00",
          "2023-10-11T00:00:00",
          "2023-10-12T00:00:00",
          "2023-10-13T00:00:00",
          "2023-10-16T00:00:00",
          "2023-10-17T00:00:00",
          "2023-10-18T00:00:00",
          "2023-10-19T00:00:00",
          "2023-10-20T00:00:00",
          "2023-10-23T00:00:00",
          "2023-10-25T00:00:00",
          "2023-10-26T00:00:00",
          "2023-10-27T00:00:00",
          "2023-10-30T00:00:00",
          "2023-10-31T00:00:00",
          "2023-11-01T00:00:00",
          "2023-11-02T00:00:00",
          "2023-11-03T00:00:00",
          "2023-11-06T00:00:00",
          "2023-11-07T00:00:00",
          "2023-11-08T00:00:00",
          "2023-11-09T00:00:00",
          "2023-11-10T00:00:00",
          "2023-11-13T00:00:00",
          "2023-11-15T00:00:00",
          "2023-11-16T00:00:00",
          "2023-11-17T00:00:00",
          "2023-11-20T00:00:00",
          "2023-11-21T00:00:00",
          "2023-11-22T00:00:00",
          "2023-11-23T00:00:00",
          "2023-11-24T00:00:00",
          "2023-11-28T00:00:00",
          "2023-11-29T00:00:00",
          "2023-11-30T00:00:00",
          "2023-12-01T00:00:00",
          "2023-12-04T00:00:00",
          "2023-12-05T00:00:00",
          "2023-12-06T00:00:00",
          "2023-12-07T00:00:00",
          "2023-12-08T00:00:00",
          "2023-12-11T00:00:00",
          "2023-12-12T00:00:00",
          "2023-12-13T00:00:00",
          "2023-12-14T00:00:00",
          "2023-12-15T00:00:00",
          "2023-12-18T00:00:00",
          "2023-12-19T00:00:00",
          "2023-12-20T00:00:00",
          "2023-12-21T00:00:00",
          "2023-12-22T00:00:00",
          "2023-12-26T00:00:00",
          "2023-12-27T00:00:00",
          "2023-12-28T00:00:00",
          "2023-12-29T00:00:00",
          "2024-01-02T00:00:00",
          "2024-01-03T00:00:00",
          "2024-01-04T00:00:00",
          "2024-01-05T00:00:00",
          "2024-01-08T00:00:00",
          "2024-01-09T00:00:00",
          "2024-01-10T00:00:00",
          "2024-01-11T00:00:00",
          "2024-01-12T00:00:00",
          "2024-01-15T00:00:00",
          "2024-01-16T00:00:00",
          "2024-01-17T00:00:00",
          "2024-01-18T00:00:00",
          "2024-01-19T00:00:00",
          "2024-01-23T00:00:00",
          "2024-01-24T00:00:00",
          "2024-01-25T00:00:00",
          "2024-01-29T00:00:00",
          "2024-01-30T00:00:00",
          "2024-01-31T00:00:00",
          "2024-02-01T00:00:00",
          "2024-02-02T00:00:00",
          "2024-02-05T00:00:00",
          "2024-02-06T00:00:00",
          "2024-02-07T00:00:00",
          "2024-02-08T00:00:00",
          "2024-02-09T00:00:00",
          "2024-02-12T00:00:00",
          "2024-02-13T00:00:00",
          "2024-02-14T00:00:00",
          "2024-02-15T00:00:00",
          "2024-02-16T00:00:00",
          "2024-02-20T00:00:00",
          "2024-02-21T00:00:00",
          "2024-02-22T00:00:00",
          "2024-02-23T00:00:00",
          "2024-02-26T00:00:00",
          "2024-02-27T00:00:00",
          "2024-02-28T00:00:00",
          "2024-02-29T00:00:00",
          "2024-03-01T00:00:00",
          "2024-03-04T00:00:00",
          "2024-03-05T00:00:00",
          "2024-03-06T00:00:00",
          "2024-03-07T00:00:00",
          "2024-03-11T00:00:00",
          "2024-03-12T00:00:00",
          "2024-03-13T00:00:00",
          "2024-03-14T00:00:00",
          "2024-03-15T00:00:00",
          "2024-03-18T00:00:00",
          "2024-03-19T00:00:00",
          "2024-03-20T00:00:00",
          "2024-03-21T00:00:00",
          "2024-03-22T00:00:00",
          "2024-03-26T00:00:00",
          "2024-03-27T00:00:00",
          "2024-03-28T00:00:00",
          "2024-04-01T00:00:00",
          "2024-04-02T00:00:00",
          "2024-04-03T00:00:00",
          "2024-04-04T00:00:00",
          "2024-04-05T00:00:00",
          "2024-04-08T00:00:00",
          "2024-04-09T00:00:00",
          "2024-04-10T00:00:00",
          "2024-04-12T00:00:00",
          "2024-04-15T00:00:00",
          "2024-04-16T00:00:00",
          "2024-04-18T00:00:00",
          "2024-04-19T00:00:00",
          "2024-04-22T00:00:00",
          "2024-04-23T00:00:00",
          "2024-04-24T00:00:00",
          "2024-04-25T00:00:00",
          "2024-04-26T00:00:00",
          "2024-04-29T00:00:00",
          "2024-04-30T00:00:00",
          "2024-05-02T00:00:00",
          "2024-05-03T00:00:00",
          "2024-05-06T00:00:00",
          "2024-05-07T00:00:00",
          "2024-05-08T00:00:00",
          "2024-05-09T00:00:00",
          "2024-05-10T00:00:00",
          "2024-05-13T00:00:00",
          "2024-05-14T00:00:00",
          "2024-05-15T00:00:00",
          "2024-05-16T00:00:00",
          "2024-05-17T00:00:00",
          "2024-05-21T00:00:00",
          "2024-05-22T00:00:00",
          "2024-05-23T00:00:00",
          "2024-05-24T00:00:00",
          "2024-05-27T00:00:00",
          "2024-05-28T00:00:00",
          "2024-05-29T00:00:00",
          "2024-05-30T00:00:00",
          "2024-05-31T00:00:00",
          "2024-06-03T00:00:00",
          "2024-06-04T00:00:00",
          "2024-06-05T00:00:00",
          "2024-06-06T00:00:00",
          "2024-06-07T00:00:00",
          "2024-06-10T00:00:00",
          "2024-06-11T00:00:00",
          "2024-06-12T00:00:00",
          "2024-06-13T00:00:00",
          "2024-06-14T00:00:00",
          "2024-06-18T00:00:00",
          "2024-06-19T00:00:00",
          "2024-06-20T00:00:00",
          "2024-06-21T00:00:00",
          "2024-06-24T00:00:00",
          "2024-06-25T00:00:00",
          "2024-06-26T00:00:00",
          "2024-06-27T00:00:00",
          "2024-06-28T00:00:00",
          "2024-07-01T00:00:00",
          "2024-07-02T00:00:00",
          "2024-07-03T00:00:00",
          "2024-07-04T00:00:00",
          "2024-07-05T00:00:00",
          "2024-07-08T00:00:00",
          "2024-07-09T00:00:00",
          "2024-07-10T00:00:00",
          "2024-07-11T00:00:00",
          "2024-07-12T00:00:00",
          "2024-07-15T00:00:00",
          "2024-07-16T00:00:00",
          "2024-07-18T00:00:00",
          "2024-07-19T00:00:00",
          "2024-07-22T00:00:00",
          "2024-07-23T00:00:00",
          "2024-07-24T00:00:00",
          "2024-07-25T00:00:00",
          "2024-07-26T00:00:00",
          "2024-07-29T00:00:00",
          "2024-07-30T00:00:00",
          "2024-07-31T00:00:00",
          "2024-08-01T00:00:00",
          "2024-08-02T00:00:00",
          "2024-08-05T00:00:00",
          "2024-08-06T00:00:00",
          "2024-08-07T00:00:00",
          "2024-08-08T00:00:00",
          "2024-08-09T00:00:00",
          "2024-08-12T00:00:00",
          "2024-08-13T00:00:00",
          "2024-08-14T00:00:00",
          "2024-08-16T00:00:00",
          "2024-08-19T00:00:00",
          "2024-08-20T00:00:00",
          "2024-08-21T00:00:00",
          "2024-08-22T00:00:00",
          "2024-08-23T00:00:00",
          "2024-08-26T00:00:00",
          "2024-08-27T00:00:00",
          "2024-08-28T00:00:00",
          "2024-08-29T00:00:00",
          "2024-08-30T00:00:00",
          "2024-09-02T00:00:00",
          "2024-09-03T00:00:00",
          "2024-09-04T00:00:00",
          "2024-09-05T00:00:00",
          "2024-09-06T00:00:00",
          "2024-09-09T00:00:00",
          "2024-09-10T00:00:00",
          "2024-09-11T00:00:00",
          "2024-09-12T00:00:00",
          "2024-09-13T00:00:00",
          "2024-09-16T00:00:00",
          "2024-09-17T00:00:00",
          "2024-09-18T00:00:00",
          "2024-09-19T00:00:00",
          "2024-09-20T00:00:00",
          "2024-09-23T00:00:00",
          "2024-09-24T00:00:00",
          "2024-09-25T00:00:00",
          "2024-09-26T00:00:00",
          "2024-09-27T00:00:00",
          "2024-09-30T00:00:00",
          "2024-10-01T00:00:00",
          "2024-10-03T00:00:00",
          "2024-10-04T00:00:00",
          "2024-10-07T00:00:00",
          "2024-10-08T00:00:00",
          "2024-10-09T00:00:00",
          "2024-10-10T00:00:00",
          "2024-10-11T00:00:00",
          "2024-10-14T00:00:00",
          "2024-10-15T00:00:00",
          "2024-10-16T00:00:00",
          "2024-10-17T00:00:00",
          "2024-10-18T00:00:00",
          "2024-10-21T00:00:00",
          "2024-10-22T00:00:00",
          "2024-10-23T00:00:00",
          "2024-10-24T00:00:00",
          "2024-10-25T00:00:00",
          "2024-10-28T00:00:00",
          "2024-10-29T00:00:00",
          "2024-10-30T00:00:00",
          "2024-10-31T00:00:00",
          "2024-11-01T00:00:00",
          "2024-11-04T00:00:00",
          "2024-11-05T00:00:00",
          "2024-11-06T00:00:00",
          "2024-11-07T00:00:00",
          "2024-11-08T00:00:00",
          "2024-11-11T00:00:00",
          "2024-11-12T00:00:00",
          "2024-11-13T00:00:00",
          "2024-11-14T00:00:00",
          "2024-11-18T00:00:00",
          "2024-11-19T00:00:00",
          "2024-11-21T00:00:00",
          "2024-11-22T00:00:00",
          "2024-11-25T00:00:00",
          "2024-11-26T00:00:00",
          "2024-11-27T00:00:00",
          "2024-11-28T00:00:00",
          "2024-11-29T00:00:00",
          "2024-12-02T00:00:00",
          "2024-12-03T00:00:00",
          "2024-12-04T00:00:00",
          "2024-12-05T00:00:00",
          "2024-12-06T00:00:00",
          "2024-12-09T00:00:00",
          "2024-12-10T00:00:00",
          "2024-12-11T00:00:00",
          "2024-12-12T00:00:00",
          "2024-12-13T00:00:00",
          "2024-12-16T00:00:00",
          "2024-12-17T00:00:00",
          "2024-12-18T00:00:00",
          "2024-12-19T00:00:00",
          "2024-12-20T00:00:00",
          "2024-12-23T00:00:00",
          "2024-12-24T00:00:00",
          "2024-12-26T00:00:00",
          "2024-12-27T00:00:00",
          "2024-12-30T00:00:00",
          "2024-12-31T00:00:00",
          "2025-01-02T00:00:00",
          "2025-01-03T00:00:00",
          "2025-01-06T00:00:00",
          "2025-01-07T00:00:00",
          "2025-01-08T00:00:00",
          "2025-01-09T00:00:00",
          "2025-01-10T00:00:00",
          "2025-01-13T00:00:00",
          "2025-01-14T00:00:00",
          "2025-01-15T00:00:00",
          "2025-01-16T00:00:00",
          "2025-01-17T00:00:00",
          "2025-01-20T00:00:00",
          "2025-01-21T00:00:00",
          "2025-01-22T00:00:00",
          "2025-01-23T00:00:00",
          "2025-01-24T00:00:00",
          "2025-01-27T00:00:00",
          "2025-01-28T00:00:00",
          "2025-01-29T00:00:00",
          "2025-01-30T00:00:00",
          "2025-01-31T00:00:00",
          "2025-02-03T00:00:00",
          "2025-02-04T00:00:00",
          "2025-02-05T00:00:00",
          "2025-02-06T00:00:00",
          "2025-02-07T00:00:00",
          "2025-02-10T00:00:00",
          "2025-02-11T00:00:00",
          "2025-02-12T00:00:00",
          "2025-02-13T00:00:00",
          "2025-02-14T00:00:00",
          "2025-02-17T00:00:00",
          "2025-02-18T00:00:00",
          "2025-02-19T00:00:00",
          "2025-02-20T00:00:00",
          "2025-02-21T00:00:00",
          "2025-02-24T00:00:00",
          "2025-02-25T00:00:00",
          "2025-02-27T00:00:00",
          "2025-02-28T00:00:00",
          "2025-03-03T00:00:00",
          "2025-03-04T00:00:00",
          "2025-03-05T00:00:00",
          "2025-03-06T00:00:00",
          "2025-03-07T00:00:00",
          "2025-03-10T00:00:00",
          "2025-03-11T00:00:00",
          "2025-03-12T00:00:00",
          "2025-03-13T00:00:00",
          "2025-03-17T00:00:00",
          "2025-03-18T00:00:00",
          "2025-03-19T00:00:00",
          "2025-03-20T00:00:00",
          "2025-03-21T00:00:00",
          "2025-03-24T00:00:00",
          "2025-03-25T00:00:00",
          "2025-03-26T00:00:00",
          "2025-03-27T00:00:00",
          "2025-03-28T00:00:00",
          "2025-04-01T00:00:00",
          "2025-04-02T00:00:00",
          "2025-04-03T00:00:00",
          "2025-04-04T00:00:00",
          "2025-04-07T00:00:00",
          "2025-04-08T00:00:00",
          "2025-04-09T00:00:00",
          "2025-04-11T00:00:00",
          "2025-04-15T00:00:00",
          "2025-04-16T00:00:00",
          "2025-04-17T00:00:00",
          "2025-04-21T00:00:00",
          "2025-04-22T00:00:00",
          "2025-04-23T00:00:00",
          "2025-04-24T00:00:00",
          "2025-04-25T00:00:00",
          "2025-04-28T00:00:00",
          "2025-04-29T00:00:00",
          "2025-04-30T00:00:00",
          "2025-05-02T00:00:00",
          "2025-05-05T00:00:00",
          "2025-05-06T00:00:00",
          "2025-05-07T00:00:00",
          "2025-05-08T00:00:00",
          "2025-05-09T00:00:00",
          "2025-05-12T00:00:00",
          "2025-05-13T00:00:00",
          "2025-05-14T00:00:00",
          "2025-05-15T00:00:00",
          "2025-05-16T00:00:00",
          "2025-05-19T00:00:00",
          "2025-05-20T00:00:00",
          "2025-05-21T00:00:00",
          "2025-05-22T00:00:00",
          "2025-05-23T00:00:00",
          "2025-05-26T00:00:00",
          "2025-05-27T00:00:00",
          "2025-05-28T00:00:00",
          "2025-05-29T00:00:00",
          "2025-05-30T00:00:00",
          "2025-06-02T00:00:00",
          "2025-06-03T00:00:00",
          "2025-06-04T00:00:00",
          "2025-06-05T00:00:00",
          "2025-06-06T00:00:00",
          "2025-06-09T00:00:00",
          "2025-06-10T00:00:00",
          "2025-06-11T00:00:00",
          "2025-06-12T00:00:00",
          "2025-06-13T00:00:00",
          "2025-06-16T00:00:00",
          "2025-06-17T00:00:00",
          "2025-06-18T00:00:00",
          "2025-06-19T00:00:00",
          "2025-06-20T00:00:00",
          "2025-06-23T00:00:00",
          "2025-06-24T00:00:00",
          "2025-06-25T00:00:00",
          "2025-06-26T00:00:00",
          "2025-06-27T00:00:00",
          "2025-06-30T00:00:00",
          "2025-07-01T00:00:00",
          "2025-07-02T00:00:00",
          "2025-07-03T00:00:00",
          "2025-07-04T00:00:00",
          "2025-07-07T00:00:00",
          "2025-07-08T00:00:00",
          "2025-07-09T00:00:00",
          "2025-07-10T00:00:00",
          "2025-07-11T00:00:00",
          "2025-07-14T00:00:00",
          "2025-07-15T00:00:00",
          "2025-07-16T00:00:00",
          "2025-07-17T00:00:00",
          "2025-07-18T00:00:00",
          "2025-07-21T00:00:00",
          "2025-07-22T00:00:00",
          "2025-07-23T00:00:00",
          "2025-07-24T00:00:00"
         ],
         "xaxis": "x3",
         "y": {
          "bdata": "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",
          "dtype": "f4"
         },
         "yaxis": "y3"
        }
       ],
       "layout": {
        "annotations": [
         {
          "font": {
           "size": 16
          },
          "showarrow": false,
          "text": "Actual vs Predicted (Training)",
          "x": 0.225,
          "xanchor": "center",
          "xref": "paper",
          "y": 1,
          "yanchor": "bottom",
          "yref": "paper"
         },
         {
          "font": {
           "size": 16
          },
          "showarrow": false,
          "text": "Actual vs Predicted (Testing)",
          "x": 0.775,
          "xanchor": "center",
          "xref": "paper",
          "y": 1,
          "yanchor": "bottom",
          "yref": "paper"
         },
         {
          "font": {
           "size": 16
          },
          "showarrow": false,
          "text": "Time Series: Actual vs Predicted",
          "x": 0.5,
          "xanchor": "center",
          "xref": "paper",
          "y": 0.44,
          "yanchor": "bottom",
          "yref": "paper"
         }
        ],
        "font": {
         "size": 10
        },
        "height": 800,
        "showlegend": true,
        "template": {
         "data": {
          "bar": [
           {
            "error_x": {
             "color": "#2a3f5f"
            },
            "error_y": {
             "color": "#2a3f5f"
            },
            "marker": {
             "line": {
              "color": "#E5ECF6",
              "width": 0.5
             },
             "pattern": {
              "fillmode": "overlay",
              "size": 10,
              "solidity": 0.2
             }
            },
            "type": "bar"
           }
          ],
          "barpolar": [
           {
            "marker": {
             "line": {
              "color": "#E5ECF6",
              "width": 0.5
             },
             "pattern": {
              "fillmode": "overlay",
              "size": 10,
              "solidity": 0.2
             }
            },
            "type": "barpolar"
           }
          ],
          "carpet": [
           {
            "aaxis": {
             "endlinecolor": "#2a3f5f",
             "gridcolor": "white",
             "linecolor": "white",
             "minorgridcolor": "white",
             "startlinecolor": "#2a3f5f"
            },
            "baxis": {
             "endlinecolor": "#2a3f5f",
             "gridcolor": "white",
             "linecolor": "white",
             "minorgridcolor": "white",
             "startlinecolor": "#2a3f5f"
            },
            "type": "carpet"
           }
          ],
          "choropleth": [
           {
            "colorbar": {
             "outlinewidth": 0,
             "ticks": ""
            },
            "type": "choropleth"
           }
          ],
          "contour": [
           {
            "colorbar": {
             "outlinewidth": 0,
             "ticks": ""
            },
            "colorscale": [
             [
              0,
              "#0d0887"
             ],
             [
              0.1111111111111111,
              "#46039f"
             ],
             [
              0.2222222222222222,
              "#7201a8"
             ],
             [
              0.3333333333333333,
              "#9c179e"
             ],
             [
              0.4444444444444444,
              "#bd3786"
             ],
             [
              0.5555555555555556,
              "#d8576b"
             ],
             [
              0.6666666666666666,
              "#ed7953"
             ],
             [
              0.7777777777777778,
              "#fb9f3a"
             ],
             [
              0.8888888888888888,
              "#fdca26"
             ],
             [
              1,
              "#f0f921"
             ]
            ],
            "type": "contour"
           }
          ],
          "contourcarpet": [
           {
            "colorbar": {
             "outlinewidth": 0,
             "ticks": ""
            },
            "type": "contourcarpet"
           }
          ],
          "heatmap": [
           {
            "colorbar": {
             "outlinewidth": 0,
             "ticks": ""
            },
            "colorscale": [
             [
              0,
              "#0d0887"
             ],
             [
              0.1111111111111111,
              "#46039f"
             ],
             [
              0.2222222222222222,
              "#7201a8"
             ],
             [
              0.3333333333333333,
              "#9c179e"
             ],
             [
              0.4444444444444444,
              "#bd3786"
             ],
             [
              0.5555555555555556,
              "#d8576b"
             ],
             [
              0.6666666666666666,
              "#ed7953"
             ],
             [
              0.7777777777777778,
              "#fb9f3a"
             ],
             [
              0.8888888888888888,
              "#fdca26"
             ],
             [
              1,
              "#f0f921"
             ]
            ],
            "type": "heatmap"
           }
          ],
          "histogram": [
           {
            "marker": {
             "pattern": {
              "fillmode": "overlay",
              "size": 10,
              "solidity": 0.2
             }
            },
            "type": "histogram"
           }
          ],
          "histogram2d": [
           {
            "colorbar": {
             "outlinewidth": 0,
             "ticks": ""
            },
            "colorscale": [
             [
              0,
              "#0d0887"
             ],
             [
              0.1111111111111111,
              "#46039f"
             ],
             [
              0.2222222222222222,
              "#7201a8"
             ],
             [
              0.3333333333333333,
              "#9c179e"
             ],
             [
              0.4444444444444444,
              "#bd3786"
             ],
             [
              0.5555555555555556,
              "#d8576b"
             ],
             [
              0.6666666666666666,
              "#ed7953"
             ],
             [
              0.7777777777777778,
              "#fb9f3a"
             ],
             [
              0.8888888888888888,
              "#fdca26"
             ],
             [
              1,
              "#f0f921"
             ]
            ],
            "type": "histogram2d"
           }
          ],
          "histogram2dcontour": [
           {
            "colorbar": {
             "outlinewidth": 0,
             "ticks": ""
            },
            "colorscale": [
             [
              0,
              "#0d0887"
             ],
             [
              0.1111111111111111,
              "#46039f"
             ],
             [
              0.2222222222222222,
              "#7201a8"
             ],
             [
              0.3333333333333333,
              "#9c179e"
             ],
             [
              0.4444444444444444,
              "#bd3786"
             ],
             [
              0.5555555555555556,
              "#d8576b"
             ],
             [
              0.6666666666666666,
              "#ed7953"
             ],
             [
              0.7777777777777778,
              "#fb9f3a"
             ],
             [
              0.8888888888888888,
              "#fdca26"
             ],
             [
              1,
              "#f0f921"
             ]
            ],
            "type": "histogram2dcontour"
           }
          ],
          "mesh3d": [
           {
            "colorbar": {
             "outlinewidth": 0,
             "ticks": ""
            },
            "type": "mesh3d"
           }
          ],
          "parcoords": [
           {
            "line": {
             "colorbar": {
              "outlinewidth": 0,
              "ticks": ""
             }
            },
            "type": "parcoords"
           }
          ],
          "pie": [
           {
            "automargin": true,
            "type": "pie"
           }
          ],
          "scatter": [
           {
            "fillpattern": {
             "fillmode": "overlay",
             "size": 10,
             "solidity": 0.2
            },
            "type": "scatter"
           }
          ],
          "scatter3d": [
           {
            "line": {
             "colorbar": {
              "outlinewidth": 0,
              "ticks": ""
             }
            },
            "marker": {
             "colorbar": {
              "outlinewidth": 0,
              "ticks": ""
             }
            },
            "type": "scatter3d"
           }
          ],
          "scattercarpet": [
           {
            "marker": {
             "colorbar": {
              "outlinewidth": 0,
              "ticks": ""
             }
            },
            "type": "scattercarpet"
           }
          ],
          "scattergeo": [
           {
            "marker": {
             "colorbar": {
              "outlinewidth": 0,
              "ticks": ""
             }
            },
            "type": "scattergeo"
           }
          ],
          "scattergl": [
           {
            "marker": {
             "colorbar": {
              "outlinewidth": 0,
              "ticks": ""
             }
            },
            "type": "scattergl"
           }
          ],
          "scattermap": [
           {
            "marker": {
             "colorbar": {
              "outlinewidth": 0,
              "ticks": ""
             }
            },
            "type": "scattermap"
           }
          ],
          "scattermapbox": [
           {
            "marker": {
             "colorbar": {
              "outlinewidth": 0,
              "ticks": ""
             }
            },
            "type": "scattermapbox"
           }
          ],
          "scatterpolar": [
           {
            "marker": {
             "colorbar": {
              "outlinewidth": 0,
              "ticks": ""
             }
            },
            "type": "scatterpolar"
           }
          ],
          "scatterpolargl": [
           {
            "marker": {
             "colorbar": {
              "outlinewidth": 0,
              "ticks": ""
             }
            },
            "type": "scatterpolargl"
           }
          ],
          "scatterternary": [
           {
            "marker": {
             "colorbar": {
              "outlinewidth": 0,
              "ticks": ""
             }
            },
            "type": "scatterternary"
           }
          ],
          "surface": [
           {
            "colorbar": {
             "outlinewidth": 0,
             "ticks": ""
            },
            "colorscale": [
             [
              0,
              "#0d0887"
             ],
             [
              0.1111111111111111,
              "#46039f"
             ],
             [
              0.2222222222222222,
              "#7201a8"
             ],
             [
              0.3333333333333333,
              "#9c179e"
             ],
             [
              0.4444444444444444,
              "#bd3786"
             ],
             [
              0.5555555555555556,
              "#d8576b"
             ],
             [
              0.6666666666666666,
              "#ed7953"
             ],
             [
              0.7777777777777778,
              "#fb9f3a"
             ],
             [
              0.8888888888888888,
              "#fdca26"
             ],
             [
              1,
              "#f0f921"
             ]
            ],
            "type": "surface"
           }
          ],
          "table": [
           {
            "cells": {
             "fill": {
              "color": "#EBF0F8"
             },
             "line": {
              "color": "white"
             }
            },
            "header": {
             "fill": {
              "color": "#C8D4E3"
             },
             "line": {
              "color": "white"
             }
            },
            "type": "table"
           }
          ]
         },
         "layout": {
          "annotationdefaults": {
           "arrowcolor": "#2a3f5f",
           "arrowhead": 0,
           "arrowwidth": 1
          },
          "autotypenumbers": "strict",
          "coloraxis": {
           "colorbar": {
            "outlinewidth": 0,
            "ticks": ""
           }
          },
          "colorscale": {
           "diverging": [
            [
             0,
             "#8e0152"
            ],
            [
             0.1,
             "#c51b7d"
            ],
            [
             0.2,
             "#de77ae"
            ],
            [
             0.3,
             "#f1b6da"
            ],
            [
             0.4,
             "#fde0ef"
            ],
            [
             0.5,
             "#f7f7f7"
            ],
            [
             0.6,
             "#e6f5d0"
            ],
            [
             0.7,
             "#b8e186"
            ],
            [
             0.8,
             "#7fbc41"
            ],
            [
             0.9,
             "#4d9221"
            ],
            [
             1,
             "#276419"
            ]
           ],
           "sequential": [
            [
             0,
             "#0d0887"
            ],
            [
             0.1111111111111111,
             "#46039f"
            ],
            [
             0.2222222222222222,
             "#7201a8"
            ],
            [
             0.3333333333333333,
             "#9c179e"
            ],
            [
             0.4444444444444444,
             "#bd3786"
            ],
            [
             0.5555555555555556,
             "#d8576b"
            ],
            [
             0.6666666666666666,
             "#ed7953"
            ],
            [
             0.7777777777777778,
             "#fb9f3a"
            ],
            [
             0.8888888888888888,
             "#fdca26"
            ],
            [
             1,
             "#f0f921"
            ]
           ],
           "sequentialminus": [
            [
             0,
             "#0d0887"
            ],
            [
             0.1111111111111111,
             "#46039f"
            ],
            [
             0.2222222222222222,
             "#7201a8"
            ],
            [
             0.3333333333333333,
             "#9c179e"
            ],
            [
             0.4444444444444444,
             "#bd3786"
            ],
            [
             0.5555555555555556,
             "#d8576b"
            ],
            [
             0.6666666666666666,
             "#ed7953"
            ],
            [
             0.7777777777777778,
             "#fb9f3a"
            ],
            [
             0.8888888888888888,
             "#fdca26"
            ],
            [
             1,
             "#f0f921"
            ]
           ]
          },
          "colorway": [
           "#636efa",
           "#EF553B",
           "#00cc96",
           "#ab63fa",
           "#FFA15A",
           "#19d3f3",
           "#FF6692",
           "#B6E880",
           "#FF97FF",
           "#FECB52"
          ],
          "font": {
           "color": "#2a3f5f"
          },
          "geo": {
           "bgcolor": "white",
           "lakecolor": "white",
           "landcolor": "#E5ECF6",
           "showlakes": true,
           "showland": true,
           "subunitcolor": "white"
          },
          "hoverlabel": {
           "align": "left"
          },
          "hovermode": "closest",
          "mapbox": {
           "style": "light"
          },
          "paper_bgcolor": "white",
          "plot_bgcolor": "#E5ECF6",
          "polar": {
           "angularaxis": {
            "gridcolor": "white",
            "linecolor": "white",
            "ticks": ""
           },
           "bgcolor": "#E5ECF6",
           "radialaxis": {
            "gridcolor": "white",
            "linecolor": "white",
            "ticks": ""
           }
          },
          "scene": {
           "xaxis": {
            "backgroundcolor": "#E5ECF6",
            "gridcolor": "white",
            "gridwidth": 2,
            "linecolor": "white",
            "showbackground": true,
            "ticks": "",
            "zerolinecolor": "white"
           },
           "yaxis": {
            "backgroundcolor": "#E5ECF6",
            "gridcolor": "white",
            "gridwidth": 2,
            "linecolor": "white",
            "showbackground": true,
            "ticks": "",
            "zerolinecolor": "white"
           },
           "zaxis": {
            "backgroundcolor": "#E5ECF6",
            "gridcolor": "white",
            "gridwidth": 2,
            "linecolor": "white",
            "showbackground": true,
            "ticks": "",
            "zerolinecolor": "white"
           }
          },
          "shapedefaults": {
           "line": {
            "color": "#2a3f5f"
           }
          },
          "ternary": {
           "aaxis": {
            "gridcolor": "white",
            "linecolor": "white",
            "ticks": ""
           },
           "baxis": {
            "gridcolor": "white",
            "linecolor": "white",
            "ticks": ""
           },
           "bgcolor": "#E5ECF6",
           "caxis": {
            "gridcolor": "white",
            "linecolor": "white",
            "ticks": ""
           }
          },
          "title": {
           "x": 0.05
          },
          "xaxis": {
           "automargin": true,
           "gridcolor": "white",
           "linecolor": "white",
           "ticks": "",
           "title": {
            "standoff": 15
           },
           "zerolinecolor": "white",
           "zerolinewidth": 2
          },
          "yaxis": {
           "automargin": true,
           "gridcolor": "white",
           "linecolor": "white",
           "ticks": "",
           "title": {
            "standoff": 15
           },
           "zerolinecolor": "white",
           "zerolinewidth": 2
          }
         }
        },
        "title": {
         "text": "XGBoost Bank Nifty Spot Price Prediction Results<br><sub>Test RMSE: ₹2,424 | Test R²: 0.461 | Test MAPE: 3.5%</sub>"
        },
        "xaxis": {
         "anchor": "y",
         "domain": [
          0,
          0.45
         ],
         "title": {
          "text": "Actual Price (₹)"
         }
        },
        "xaxis2": {
         "anchor": "y2",
         "domain": [
          0.55,
          1
         ],
         "title": {
          "text": "Actual Price (₹)"
         }
        },
        "xaxis3": {
         "anchor": "y3",
         "domain": [
          0,
          1
         ],
         "title": {
          "text": "Date"
         }
        },
        "yaxis": {
         "anchor": "x",
         "domain": [
          0.56,
          1
         ],
         "title": {
          "text": "Predicted Price (₹)"
         }
        },
        "yaxis2": {
         "anchor": "x2",
         "domain": [
          0.56,
          1
         ],
         "title": {
          "text": "Predicted Price (₹)"
         }
        },
        "yaxis3": {
         "anchor": "x3",
         "domain": [
          0,
          0.44
         ],
         "title": {
          "text": "Bank Nifty Price (₹)"
         }
        }
       }
      }
     },
     "metadata": {},
     "output_type": "display_data"
    },
    {
     "data": {
      "application/vnd.plotly.v1+json": {
       "config": {
        "plotlyServerURL": "https://plot.ly"
       },
       "data": [
        {
         "hovertemplate": "Feature Importance=%{marker.color}<br>Feature Name=%{y}<extra></extra>",
         "legendgroup": "",
         "marker": {
          "color": {
           "bdata": "dGKqPhnBeT64S8o9AXS+PRl3pz0XXpg9LCsoPSMOSDzpaBU8zFYKO7RlBDsZzv46wwPwOnXT1jrogp06",
           "dtype": "f4"
          },
          "coloraxis": "coloraxis",
          "pattern": {
           "shape": ""
          }
         },
         "name": "",
         "orientation": "h",
         "showlegend": false,
         "textposition": "auto",
         "type": "bar",
         "x": {
          "bdata": "dGKqPhnBeT64S8o9AXS+PRl3pz0XXpg9LCsoPSMOSDzpaBU8zFYKO7RlBDsZzv46wwPwOnXT1jrogp06",
          "dtype": "f4"
         },
         "xaxis": "x",
         "y": [
          "spot_price",
          "call_count",
          "call_max_ltp",
          "put_count",
          "put_max_ltp",
          "call_avg_ltp",
          "put_avg_ltp",
          "call_atm_ltp",
          "call_total_volume",
          "pcr_volume",
          "call_total_oi",
          "total_volume",
          "pcr_oi",
          "total_oi",
          "put_total_oi"
         ],
         "yaxis": "y"
        }
       ],
       "layout": {
        "barmode": "relative",
        "coloraxis": {
         "colorbar": {
          "title": {
           "text": "Feature Importance"
          }
         },
         "colorscale": [
          [
           0,
           "#440154"
          ],
          [
           0.1111111111111111,
           "#482878"
          ],
          [
           0.2222222222222222,
           "#3e4989"
          ],
          [
           0.3333333333333333,
           "#31688e"
          ],
          [
           0.4444444444444444,
           "#26828e"
          ],
          [
           0.5555555555555556,
           "#1f9e89"
          ],
          [
           0.6666666666666666,
           "#35b779"
          ],
          [
           0.7777777777777778,
           "#6ece58"
          ],
          [
           0.8888888888888888,
           "#b5de2b"
          ],
          [
           1,
           "#fde725"
          ]
         ]
        },
        "height": 600,
        "legend": {
         "tracegroupgap": 0
        },
        "template": {
         "data": {
          "bar": [
           {
            "error_x": {
             "color": "#2a3f5f"
            },
            "error_y": {
             "color": "#2a3f5f"
            },
            "marker": {
             "line": {
              "color": "#E5ECF6",
              "width": 0.5
             },
             "pattern": {
              "fillmode": "overlay",
              "size": 10,
              "solidity": 0.2
             }
            },
            "type": "bar"
           }
          ],
          "barpolar": [
           {
            "marker": {
             "line": {
              "color": "#E5ECF6",
              "width": 0.5
             },
             "pattern": {
              "fillmode": "overlay",
              "size": 10,
              "solidity": 0.2
             }
            },
            "type": "barpolar"
           }
          ],
          "carpet": [
           {
            "aaxis": {
             "endlinecolor": "#2a3f5f",
             "gridcolor": "white",
             "linecolor": "white",
             "minorgridcolor": "white",
             "startlinecolor": "#2a3f5f"
            },
            "baxis": {
             "endlinecolor": "#2a3f5f",
             "gridcolor": "white",
             "linecolor": "white",
             "minorgridcolor": "white",
             "startlinecolor": "#2a3f5f"
            },
            "type": "carpet"
           }
          ],
          "choropleth": [
           {
            "colorbar": {
             "outlinewidth": 0,
             "ticks": ""
            },
            "type": "choropleth"
           }
          ],
          "contour": [
           {
            "colorbar": {
             "outlinewidth": 0,
             "ticks": ""
            },
            "colorscale": [
             [
              0,
              "#0d0887"
             ],
             [
              0.1111111111111111,
              "#46039f"
             ],
             [
              0.2222222222222222,
              "#7201a8"
             ],
             [
              0.3333333333333333,
              "#9c179e"
             ],
             [
              0.4444444444444444,
              "#bd3786"
             ],
             [
              0.5555555555555556,
              "#d8576b"
             ],
             [
              0.6666666666666666,
              "#ed7953"
             ],
             [
              0.7777777777777778,
              "#fb9f3a"
             ],
             [
              0.8888888888888888,
              "#fdca26"
             ],
             [
              1,
              "#f0f921"
             ]
            ],
            "type": "contour"
           }
          ],
          "contourcarpet": [
           {
            "colorbar": {
             "outlinewidth": 0,
             "ticks": ""
            },
            "type": "contourcarpet"
           }
          ],
          "heatmap": [
           {
            "colorbar": {
             "outlinewidth": 0,
             "ticks": ""
            },
            "colorscale": [
             [
              0,
              "#0d0887"
             ],
             [
              0.1111111111111111,
              "#46039f"
             ],
             [
              0.2222222222222222,
              "#7201a8"
             ],
             [
              0.3333333333333333,
              "#9c179e"
             ],
             [
              0.4444444444444444,
              "#bd3786"
             ],
             [
              0.5555555555555556,
              "#d8576b"
             ],
             [
              0.6666666666666666,
              "#ed7953"
             ],
             [
              0.7777777777777778,
              "#fb9f3a"
             ],
             [
              0.8888888888888888,
              "#fdca26"
             ],
             [
              1,
              "#f0f921"
             ]
            ],
            "type": "heatmap"
           }
          ],
          "histogram": [
           {
            "marker": {
             "pattern": {
              "fillmode": "overlay",
              "size": 10,
              "solidity": 0.2
             }
            },
            "type": "histogram"
           }
          ],
          "histogram2d": [
           {
            "colorbar": {
             "outlinewidth": 0,
             "ticks": ""
            },
            "colorscale": [
             [
              0,
              "#0d0887"
             ],
             [
              0.1111111111111111,
              "#46039f"
             ],
             [
              0.2222222222222222,
              "#7201a8"
             ],
             [
              0.3333333333333333,
              "#9c179e"
             ],
             [
              0.4444444444444444,
              "#bd3786"
             ],
             [
              0.5555555555555556,
              "#d8576b"
             ],
             [
              0.6666666666666666,
              "#ed7953"
             ],
             [
              0.7777777777777778,
              "#fb9f3a"
             ],
             [
              0.8888888888888888,
              "#fdca26"
             ],
             [
              1,
              "#f0f921"
             ]
            ],
            "type": "histogram2d"
           }
          ],
          "histogram2dcontour": [
           {
            "colorbar": {
             "outlinewidth": 0,
             "ticks": ""
            },
            "colorscale": [
             [
              0,
              "#0d0887"
             ],
             [
              0.1111111111111111,
              "#46039f"
             ],
             [
              0.2222222222222222,
              "#7201a8"
             ],
             [
              0.3333333333333333,
              "#9c179e"
             ],
             [
              0.4444444444444444,
              "#bd3786"
             ],
             [
              0.5555555555555556,
              "#d8576b"
             ],
             [
              0.6666666666666666,
              "#ed7953"
             ],
             [
              0.7777777777777778,
              "#fb9f3a"
             ],
             [
              0.8888888888888888,
              "#fdca26"
             ],
             [
              1,
              "#f0f921"
             ]
            ],
            "type": "histogram2dcontour"
           }
          ],
          "mesh3d": [
           {
            "colorbar": {
             "outlinewidth": 0,
             "ticks": ""
            },
            "type": "mesh3d"
           }
          ],
          "parcoords": [
           {
            "line": {
             "colorbar": {
              "outlinewidth": 0,
              "ticks": ""
             }
            },
            "type": "parcoords"
           }
          ],
          "pie": [
           {
            "automargin": true,
            "type": "pie"
           }
          ],
          "scatter": [
           {
            "fillpattern": {
             "fillmode": "overlay",
             "size": 10,
             "solidity": 0.2
            },
            "type": "scatter"
           }
          ],
          "scatter3d": [
           {
            "line": {
             "colorbar": {
              "outlinewidth": 0,
              "ticks": ""
             }
            },
            "marker": {
             "colorbar": {
              "outlinewidth": 0,
              "ticks": ""
             }
            },
            "type": "scatter3d"
           }
          ],
          "scattercarpet": [
           {
            "marker": {
             "colorbar": {
              "outlinewidth": 0,
              "ticks": ""
             }
            },
            "type": "scattercarpet"
           }
          ],
          "scattergeo": [
           {
            "marker": {
             "colorbar": {
              "outlinewidth": 0,
              "ticks": ""
             }
            },
            "type": "scattergeo"
           }
          ],
          "scattergl": [
           {
            "marker": {
             "colorbar": {
              "outlinewidth": 0,
              "ticks": ""
             }
            },
            "type": "scattergl"
           }
          ],
          "scattermap": [
           {
            "marker": {
             "colorbar": {
              "outlinewidth": 0,
              "ticks": ""
             }
            },
            "type": "scattermap"
           }
          ],
          "scattermapbox": [
           {
            "marker": {
             "colorbar": {
              "outlinewidth": 0,
              "ticks": ""
             }
            },
            "type": "scattermapbox"
           }
          ],
          "scatterpolar": [
           {
            "marker": {
             "colorbar": {
              "outlinewidth": 0,
              "ticks": ""
             }
            },
            "type": "scatterpolar"
           }
          ],
          "scatterpolargl": [
           {
            "marker": {
             "colorbar": {
              "outlinewidth": 0,
              "ticks": ""
             }
            },
            "type": "scatterpolargl"
           }
          ],
          "scatterternary": [
           {
            "marker": {
             "colorbar": {
              "outlinewidth": 0,
              "ticks": ""
             }
            },
            "type": "scatterternary"
           }
          ],
          "surface": [
           {
            "colorbar": {
             "outlinewidth": 0,
             "ticks": ""
            },
            "colorscale": [
             [
              0,
              "#0d0887"
             ],
             [
              0.1111111111111111,
              "#46039f"
             ],
             [
              0.2222222222222222,
              "#7201a8"
             ],
             [
              0.3333333333333333,
              "#9c179e"
             ],
             [
              0.4444444444444444,
              "#bd3786"
             ],
             [
              0.5555555555555556,
              "#d8576b"
             ],
             [
              0.6666666666666666,
              "#ed7953"
             ],
             [
              0.7777777777777778,
              "#fb9f3a"
             ],
             [
              0.8888888888888888,
              "#fdca26"
             ],
             [
              1,
              "#f0f921"
             ]
            ],
            "type": "surface"
           }
          ],
          "table": [
           {
            "cells": {
             "fill": {
              "color": "#EBF0F8"
             },
             "line": {
              "color": "white"
             }
            },
            "header": {
             "fill": {
              "color": "#C8D4E3"
             },
             "line": {
              "color": "white"
             }
            },
            "type": "table"
           }
          ]
         },
         "layout": {
          "annotationdefaults": {
           "arrowcolor": "#2a3f5f",
           "arrowhead": 0,
           "arrowwidth": 1
          },
          "autotypenumbers": "strict",
          "coloraxis": {
           "colorbar": {
            "outlinewidth": 0,
            "ticks": ""
           }
          },
          "colorscale": {
           "diverging": [
            [
             0,
             "#8e0152"
            ],
            [
             0.1,
             "#c51b7d"
            ],
            [
             0.2,
             "#de77ae"
            ],
            [
             0.3,
             "#f1b6da"
            ],
            [
             0.4,
             "#fde0ef"
            ],
            [
             0.5,
             "#f7f7f7"
            ],
            [
             0.6,
             "#e6f5d0"
            ],
            [
             0.7,
             "#b8e186"
            ],
            [
             0.8,
             "#7fbc41"
            ],
            [
             0.9,
             "#4d9221"
            ],
            [
             1,
             "#276419"
            ]
           ],
           "sequential": [
            [
             0,
             "#0d0887"
            ],
            [
             0.1111111111111111,
             "#46039f"
            ],
            [
             0.2222222222222222,
             "#7201a8"
            ],
            [
             0.3333333333333333,
             "#9c179e"
            ],
            [
             0.4444444444444444,
             "#bd3786"
            ],
            [
             0.5555555555555556,
             "#d8576b"
            ],
            [
             0.6666666666666666,
             "#ed7953"
            ],
            [
             0.7777777777777778,
             "#fb9f3a"
            ],
            [
             0.8888888888888888,
             "#fdca26"
            ],
            [
             1,
             "#f0f921"
            ]
           ],
           "sequentialminus": [
            [
             0,
             "#0d0887"
            ],
            [
             0.1111111111111111,
             "#46039f"
            ],
            [
             0.2222222222222222,
             "#7201a8"
            ],
            [
             0.3333333333333333,
             "#9c179e"
            ],
            [
             0.4444444444444444,
             "#bd3786"
            ],
            [
             0.5555555555555556,
             "#d8576b"
            ],
            [
             0.6666666666666666,
             "#ed7953"
            ],
            [
             0.7777777777777778,
             "#fb9f3a"
            ],
            [
             0.8888888888888888,
             "#fdca26"
            ],
            [
             1,
             "#f0f921"
            ]
           ]
          },
          "colorway": [
           "#636efa",
           "#EF553B",
           "#00cc96",
           "#ab63fa",
           "#FFA15A",
           "#19d3f3",
           "#FF6692",
           "#B6E880",
           "#FF97FF",
           "#FECB52"
          ],
          "font": {
           "color": "#2a3f5f"
          },
          "geo": {
           "bgcolor": "white",
           "lakecolor": "white",
           "landcolor": "#E5ECF6",
           "showlakes": true,
           "showland": true,
           "subunitcolor": "white"
          },
          "hoverlabel": {
           "align": "left"
          },
          "hovermode": "closest",
          "mapbox": {
           "style": "light"
          },
          "paper_bgcolor": "white",
          "plot_bgcolor": "#E5ECF6",
          "polar": {
           "angularaxis": {
            "gridcolor": "white",
            "linecolor": "white",
            "ticks": ""
           },
           "bgcolor": "#E5ECF6",
           "radialaxis": {
            "gridcolor": "white",
            "linecolor": "white",
            "ticks": ""
           }
          },
          "scene": {
           "xaxis": {
            "backgroundcolor": "#E5ECF6",
            "gridcolor": "white",
            "gridwidth": 2,
            "linecolor": "white",
            "showbackground": true,
            "ticks": "",
            "zerolinecolor": "white"
           },
           "yaxis": {
            "backgroundcolor": "#E5ECF6",
            "gridcolor": "white",
            "gridwidth": 2,
            "linecolor": "white",
            "showbackground": true,
            "ticks": "",
            "zerolinecolor": "white"
           },
           "zaxis": {
            "backgroundcolor": "#E5ECF6",
            "gridcolor": "white",
            "gridwidth": 2,
            "linecolor": "white",
            "showbackground": true,
            "ticks": "",
            "zerolinecolor": "white"
           }
          },
          "shapedefaults": {
           "line": {
            "color": "#2a3f5f"
           }
          },
          "ternary": {
           "aaxis": {
            "gridcolor": "white",
            "linecolor": "white",
            "ticks": ""
           },
           "baxis": {
            "gridcolor": "white",
            "linecolor": "white",
            "ticks": ""
           },
           "bgcolor": "#E5ECF6",
           "caxis": {
            "gridcolor": "white",
            "linecolor": "white",
            "ticks": ""
           }
          },
          "title": {
           "x": 0.05
          },
          "xaxis": {
           "automargin": true,
           "gridcolor": "white",
           "linecolor": "white",
           "ticks": "",
           "title": {
            "standoff": 15
           },
           "zerolinecolor": "white",
           "zerolinewidth": 2
          },
          "yaxis": {
           "automargin": true,
           "gridcolor": "white",
           "linecolor": "white",
           "ticks": "",
           "title": {
            "standoff": 15
           },
           "zerolinecolor": "white",
           "zerolinewidth": 2
          }
         }
        },
        "title": {
         "text": "Top 15 Feature Importance in XGBoost Model"
        },
        "xaxis": {
         "anchor": "y",
         "domain": [
          0,
          1
         ],
         "title": {
          "text": "Feature Importance"
         }
        },
        "yaxis": {
         "anchor": "x",
         "categoryorder": "total ascending",
         "domain": [
          0,
          1
         ],
         "title": {
          "text": "Feature Name"
         }
        }
       }
      }
     },
     "metadata": {},
     "output_type": "display_data"
    },
    {
     "name": "stdout",
     "output_type": "stream",
     "text": [
      "\n",
      "🎯 MODEL SUMMARY\n",
      "--------------------\n",
      "✅ Model Type: XGBoost Regressor\n",
      "📊 Training Samples: 502\n",
      "🧪 Testing Samples: 126\n",
      "🎯 Features Used: 17\n",
      "📈 Best Test R²: 0.4611\n",
      "💰 Average Prediction Error: ₹1,932 (3.5%)\n",
      "\n",
      "💾 Model results stored in 'model_results' variable for further analysis\n"
     ]
    }
   ],
   "source": [
    "# 🎯 XGBOOST MODEL TRAINING AND EVALUATION\n",
    "# Train the model and evaluate performance\n",
    "\n",
    "from sklearn.metrics import mean_absolute_error, r2_score, mean_squared_error\n",
    "from sklearn.preprocessing import StandardScaler\n",
    "import xgboost as xgb\n",
    "import plotly.graph_objects as go\n",
    "import plotly.express as px\n",
    "from plotly.subplots import make_subplots\n",
    "\n",
    "if 'features_df' in locals() and not features_df.empty:\n",
    "    print(f\"\\n🚀 XGBOOST MODEL TRAINING PIPELINE\")\n",
    "    print(\"=\" * 45)\n",
    "    \n",
    "    # Prepare data for modeling\n",
    "    print(\"📊 PREPARING DATA FOR MODELING\")\n",
    "    print(\"-\" * 35)\n",
    "    \n",
    "    # Remove non-feature columns and handle missing values\n",
    "    feature_columns = [col for col in features_df.columns if col not in ['Date', 'target_spot_price']]\n",
    "    X = features_df[feature_columns].copy()\n",
    "    y = features_df['target_spot_price'].copy()\n",
    "    \n",
    "    # Handle missing values\n",
    "    X = X.fillna(0)\n",
    "    \n",
    "    # Handle infinite values\n",
    "    X = X.replace([np.inf, -np.inf], 0)\n",
    "    \n",
    "    print(f\"   ✅ Features prepared: {X.shape}\")\n",
    "    print(f\"   🎯 Target samples: {len(y)}\")\n",
    "    print(f\"   📊 Feature columns: {len(feature_columns)}\")\n",
    "    \n",
    "    # Check for sufficient data\n",
    "    if len(X) < 10:\n",
    "        print(\"❌ Insufficient data for modeling (need at least 10 samples)\")\n",
    "        print(\"💡 Please ensure you have more overlapping dates in your options and spot data\")\n",
    "    else:\n",
    "        # Split data chronologically (important for time series)\n",
    "        # Use last 20% for testing, rest for training\n",
    "        split_idx = int(0.8 * len(X))\n",
    "        \n",
    "        X_train = X.iloc[:split_idx]\n",
    "        X_test = X.iloc[split_idx:]\n",
    "        y_train = y.iloc[:split_idx]\n",
    "        y_test = y.iloc[split_idx:]\n",
    "        \n",
    "        train_dates = features_df['Date'].iloc[:split_idx]\n",
    "        test_dates = features_df['Date'].iloc[split_idx:]\n",
    "        \n",
    "        print(f\"   📚 Training samples: {len(X_train)} (up to {train_dates.max():%d-%b-%Y})\")\n",
    "        print(f\"   🧪 Testing samples: {len(X_test)} (from {test_dates.min():%d-%b-%Y})\")\n",
    "        \n",
    "        # Feature scaling (important for better model performance)\n",
    "        scaler = StandardScaler()\n",
    "        X_train_scaled = scaler.fit_transform(X_train)\n",
    "        X_test_scaled = scaler.transform(X_test)\n",
    "        \n",
    "        print(f\"\\n🤖 TRAINING XGBOOST MODEL\")\n",
    "        print(\"-\" * 30)\n",
    "        \n",
    "        # XGBoost model with optimized parameters\n",
    "        xgb_params = {\n",
    "            'objective': 'reg:squarederror',\n",
    "            'eval_metric': 'rmse',\n",
    "            'max_depth': 6,\n",
    "            'learning_rate': 0.1,\n",
    "            'n_estimators': 100,\n",
    "            'subsample': 0.8,\n",
    "            'colsample_bytree': 0.8,\n",
    "            'random_state': 42,\n",
    "            'n_jobs': -1\n",
    "        }\n",
    "        \n",
    "        # Train the model\n",
    "        model = xgb.XGBRegressor(**xgb_params)\n",
    "        \n",
    "        # Train with early stopping\n",
    "        model.fit(\n",
    "            X_train_scaled, y_train,\n",
    "            eval_set=[(X_train_scaled, y_train), (X_test_scaled, y_test)],\n",
    "            verbose=False\n",
    "        )\n",
    "        \n",
    "        print(\"   ✅ XGBoost model trained successfully!\")\n",
    "        \n",
    "        # Make predictions\n",
    "        y_train_pred = model.predict(X_train_scaled)\n",
    "        y_test_pred = model.predict(X_test_scaled)\n",
    "        \n",
    "        print(f\"\\n📊 MODEL PERFORMANCE EVALUATION\")\n",
    "        print(\"-\" * 35)\n",
    "        \n",
    "        # Calculate metrics\n",
    "        train_rmse = np.sqrt(mean_squared_error(y_train, y_train_pred))\n",
    "        test_rmse = np.sqrt(mean_squared_error(y_test, y_test_pred))\n",
    "        train_mae = mean_absolute_error(y_train, y_train_pred)\n",
    "        test_mae = mean_absolute_error(y_test, y_test_pred)\n",
    "        train_r2 = r2_score(y_train, y_train_pred)\n",
    "        test_r2 = r2_score(y_test, y_test_pred)\n",
    "        \n",
    "        # Calculate percentage errors\n",
    "        train_mape = np.mean(np.abs((y_train - y_train_pred) / y_train)) * 100\n",
    "        test_mape = np.mean(np.abs((y_test - y_test_pred) / y_test)) * 100\n",
    "        \n",
    "        print(f\"🏋️ TRAINING PERFORMANCE:\")\n",
    "        print(f\"   RMSE: ₹{train_rmse:,.2f}\")\n",
    "        print(f\"   MAE:  ₹{train_mae:,.2f}\")\n",
    "        print(f\"   R²:   {train_r2:.4f}\")\n",
    "        print(f\"   MAPE: {train_mape:.2f}%\")\n",
    "        \n",
    "        print(f\"\\n🧪 TESTING PERFORMANCE:\")\n",
    "        print(f\"   RMSE: ₹{test_rmse:,.2f}\")\n",
    "        print(f\"   MAE:  ₹{test_mae:,.2f}\")\n",
    "        print(f\"   R²:   {test_r2:.4f}\")\n",
    "        print(f\"   MAPE: {test_mape:.2f}%\")\n",
    "        \n",
    "        # Model interpretation\n",
    "        print(f\"\\n🔍 FEATURE IMPORTANCE ANALYSIS\")\n",
    "        print(\"-\" * 35)\n",
    "        \n",
    "        # Get feature importance\n",
    "        feature_importance = pd.DataFrame({\n",
    "            'feature': feature_columns,\n",
    "            'importance': model.feature_importances_\n",
    "        }).sort_values('importance', ascending=False)\n",
    "        \n",
    "        print(\"🏆 TOP 10 MOST IMPORTANT FEATURES:\")\n",
    "        for i, (_, row) in enumerate(feature_importance.head(10).iterrows(), 1):\n",
    "            print(f\"   {i:2d}. {row['feature']:<25} ({row['importance']:.4f})\")\n",
    "        \n",
    "        # Create comprehensive visualizations\n",
    "        print(f\"\\n📈 CREATING PREDICTION VISUALIZATIONS\")\n",
    "        print(\"-\" * 40)\n",
    "        \n",
    "        # Create subplots for multiple visualizations\n",
    "        fig = make_subplots(\n",
    "            rows=2, cols=2,\n",
    "            subplot_titles=[\n",
    "                'Actual vs Predicted (Training)',\n",
    "                'Actual vs Predicted (Testing)', \n",
    "                'Time Series: Actual vs Predicted',\n",
    "                'Feature Importance (Top 15)'\n",
    "            ],\n",
    "            specs=[\n",
    "                [{\"secondary_y\": False}, {\"secondary_y\": False}],\n",
    "                [{\"colspan\": 2}, None]\n",
    "            ],\n",
    "            vertical_spacing=0.12,\n",
    "            horizontal_spacing=0.1\n",
    "        )\n",
    "        \n",
    "        # 1. Training scatter plot\n",
    "        fig.add_trace(\n",
    "            go.Scatter(\n",
    "                x=y_train, y=y_train_pred,\n",
    "                mode='markers',\n",
    "                name='Training',\n",
    "                marker=dict(color='blue', size=6, opacity=0.6),\n",
    "                hovertemplate='Actual: ₹%{x:,.0f}<br>Predicted: ₹%{y:,.0f}<extra></extra>'\n",
    "            ),\n",
    "            row=1, col=1\n",
    "        )\n",
    "        \n",
    "        # Perfect prediction line for training\n",
    "        min_val = min(y_train.min(), y_train_pred.min())\n",
    "        max_val = max(y_train.max(), y_train_pred.max())\n",
    "        fig.add_trace(\n",
    "            go.Scatter(\n",
    "                x=[min_val, max_val], y=[min_val, max_val],\n",
    "                mode='lines',\n",
    "                name='Perfect Prediction',\n",
    "                line=dict(color='red', dash='dash'),\n",
    "                showlegend=False\n",
    "            ),\n",
    "            row=1, col=1\n",
    "        )\n",
    "        \n",
    "        # 2. Testing scatter plot\n",
    "        fig.add_trace(\n",
    "            go.Scatter(\n",
    "                x=y_test, y=y_test_pred,\n",
    "                mode='markers',\n",
    "                name='Testing',\n",
    "                marker=dict(color='green', size=8, opacity=0.7),\n",
    "                hovertemplate='Actual: ₹%{x:,.0f}<br>Predicted: ₹%{y:,.0f}<extra></extra>'\n",
    "            ),\n",
    "            row=1, col=2\n",
    "        )\n",
    "        \n",
    "        # Perfect prediction line for testing\n",
    "        min_val_test = min(y_test.min(), y_test_pred.min())\n",
    "        max_val_test = max(y_test.max(), y_test_pred.max())\n",
    "        fig.add_trace(\n",
    "            go.Scatter(\n",
    "                x=[min_val_test, max_val_test], y=[min_val_test, max_val_test],\n",
    "                mode='lines',\n",
    "                name='Perfect Prediction',\n",
    "                line=dict(color='red', dash='dash'),\n",
    "                showlegend=False\n",
    "            ),\n",
    "            row=1, col=2\n",
    "        )\n",
    "        \n",
    "        # 3. Time series plot\n",
    "        all_dates = pd.concat([train_dates, test_dates])\n",
    "        all_actual = pd.concat([y_train, y_test])\n",
    "        all_predicted = np.concatenate([y_train_pred, y_test_pred])\n",
    "        \n",
    "        fig.add_trace(\n",
    "            go.Scatter(\n",
    "                x=all_dates, y=all_actual,\n",
    "                mode='lines+markers',\n",
    "                name='Actual Spot Price',\n",
    "                line=dict(color='blue', width=2),\n",
    "                marker=dict(size=4)\n",
    "            ),\n",
    "            row=2, col=1\n",
    "        )\n",
    "        \n",
    "        fig.add_trace(\n",
    "            go.Scatter(\n",
    "                x=all_dates, y=all_predicted,\n",
    "                mode='lines+markers',\n",
    "                name='Predicted Spot Price',\n",
    "                line=dict(color='red', width=2, dash='dot'),\n",
    "                marker=dict(size=4)\n",
    "            ),\n",
    "            row=2, col=1\n",
    "        )\n",
    "        \n",
    "        # Note: Vertical line removed due to compatibility issues\n",
    "        \n",
    "        # Update layout\n",
    "        fig.update_layout(\n",
    "            title=f'XGBoost Bank Nifty Spot Price Prediction Results<br><sub>Test RMSE: ₹{test_rmse:,.0f} | Test R²: {test_r2:.3f} | Test MAPE: {test_mape:.1f}%</sub>',\n",
    "            height=800,\n",
    "            showlegend=True,\n",
    "            font=dict(size=10)\n",
    "        )\n",
    "        \n",
    "        # Update axis labels\n",
    "        fig.update_xaxes(title_text=\"Actual Price (₹)\", row=1, col=1)\n",
    "        fig.update_yaxes(title_text=\"Predicted Price (₹)\", row=1, col=1)\n",
    "        fig.update_xaxes(title_text=\"Actual Price (₹)\", row=1, col=2)\n",
    "        fig.update_yaxes(title_text=\"Predicted Price (₹)\", row=1, col=2)\n",
    "        fig.update_xaxes(title_text=\"Date\", row=2, col=1)\n",
    "        fig.update_yaxes(title_text=\"Bank Nifty Price (₹)\", row=2, col=1)\n",
    "        \n",
    "        fig.show()\n",
    "        \n",
    "        # Feature importance plot\n",
    "        fig_importance = px.bar(\n",
    "            feature_importance.head(15),\n",
    "            x='importance', y='feature',\n",
    "            orientation='h',\n",
    "            title=f'Top 15 Feature Importance in XGBoost Model',\n",
    "            labels={'importance': 'Feature Importance', 'feature': 'Feature Name'},\n",
    "            color='importance',\n",
    "            color_continuous_scale='viridis'\n",
    "        )\n",
    "        fig_importance.update_layout(height=600, yaxis={'categoryorder':'total ascending'})\n",
    "        fig_importance.show()\n",
    "        \n",
    "        # Model summary\n",
    "        print(f\"\\n🎯 MODEL SUMMARY\")\n",
    "        print(\"-\" * 20)\n",
    "        print(f\"✅ Model Type: XGBoost Regressor\")\n",
    "        print(f\"📊 Training Samples: {len(X_train):,}\")\n",
    "        print(f\"🧪 Testing Samples: {len(X_test):,}\")\n",
    "        print(f\"🎯 Features Used: {len(feature_columns)}\")\n",
    "        print(f\"📈 Best Test R²: {test_r2:.4f}\")\n",
    "        print(f\"💰 Average Prediction Error: ₹{test_mae:,.0f} ({test_mape:.1f}%)\")\n",
    "        \n",
    "        # Store results for later use\n",
    "        model_results = {\n",
    "            'model': model,\n",
    "            'scaler': scaler,\n",
    "            'feature_columns': feature_columns,\n",
    "            'test_rmse': test_rmse,\n",
    "            'test_r2': test_r2,\n",
    "            'test_mape': test_mape,\n",
    "            'feature_importance': feature_importance,\n",
    "            'X_test': X_test,\n",
    "            'y_test': y_test,\n",
    "            'y_test_pred': y_test_pred,\n",
    "            'test_dates': test_dates\n",
    "        }\n",
    "        \n",
    "        print(f\"\\n💾 Model results stored in 'model_results' variable for further analysis\")\n",
    "        \n",
    "else:\n",
    "    print(\"❌ No features available for modeling. Please run the feature engineering cell first.\")"
   ]
  },
  {
   "cell_type": "code",
   "execution_count": null,
   "id": "1900d2f5",
   "metadata": {},
   "outputs": [],
   "source": []
  },
  {
   "cell_type": "code",
   "execution_count": null,
   "id": "2e0a8e1d",
   "metadata": {},
   "outputs": [
    {
     "name": "stdout",
     "output_type": "stream",
     "text": [
      "🎛️ INTERACTIVE BANK NIFTY PREDICTION WIDGET\n",
      "==================================================\n",
      "📂 Project root: c:\\Users\\91894\\Projects\\market-data\n",
      "🔧 Source path: c:\\Users\\91894\\Projects\\market-data\\src\n",
      "✅ Successfully imported prediction_widget\n",
      "\n",
      "🎯 LOADING INTERACTIVE PREDICTION INTERFACE\n",
      "---------------------------------------------\n",
      "✅ XGBoost model found - Creating interactive widget...\n",
      "🎛️ INTERACTIVE BANK NIFTY PREDICTION WIDGET\n",
      "==================================================\n",
      "🎯 Creating Interactive Prediction Interface...\n"
     ]
    },
    {
     "data": {
      "application/vnd.jupyter.widget-view+json": {
       "model_id": "3153aa9337f64a8e8d56f8b9d87a3297",
       "version_major": 2,
       "version_minor": 0
      },
      "text/plain": [
       "VBox(children=(HTML(value='<h2>🎛️ Interactive Bank Nifty Prediction Widget</h2>'), HBox(children=(VBox(childre…"
      ]
     },
     "metadata": {},
     "output_type": "display_data"
    },
    {
     "name": "stdout",
     "output_type": "stream",
     "text": [
      "✅ Interactive prediction widget loaded successfully!\n",
      "🎯 Use the interface above to make predictions\n",
      "\n",
      "🎛️ WIDGET FEATURES:\n",
      "--------------------\n",
      "• 💰 Market data input fields\n",
      "• 📋 Quick preset scenarios (Bullish/Bearish/Neutral)\n",
      "• 🔮 One-click prediction button\n",
      "• 📊 Real-time results with market signals\n",
      "• 🎯 Confidence indicators and trading insights\n",
      "\n",
      "💡 Use the interface above to make predictions!\n",
      "\n",
      "🎯 USAGE INSTRUCTIONS\n",
      "--------------------\n",
      "1. 🚀 Train the XGBoost model first (run previous cells)\n",
      "2. 🔄 Re-run this cell to load the widget\n",
      "3. 🎛️ Use the interactive interface above\n",
      "4. 🔮 Click 'Make Prediction' for instant results\n",
      "\n",
      "💡 FALLBACK OPTIONS:\n",
      "• display_prediction_widget(model_results) - Main widget\n",
      "• create_simple_prediction_form(model_results) - Text form\n",
      "\n",
      "✅ Prediction widget utilities loaded from utils module!\n"
     ]
    }
   ],
   "source": [
    "# 🎛️ INTERACTIVE MANUAL PREDICTION WIDGET\n",
    "# Widget-based interface for easy manual predictions using utils module\n",
    "\n",
    "import sys\n",
    "import os\n",
    "import pandas as pd\n",
    "import numpy as np\n",
    "\n",
    "print(\"🎛️ INTERACTIVE BANK NIFTY PREDICTION WIDGET\")\n",
    "print(\"=\" * 50)\n",
    "\n",
    "# Setup path to import custom modules\n",
    "current_dir = os.getcwd()\n",
    "if 'notebooks' in current_dir:\n",
    "    project_root = os.path.dirname(current_dir)\n",
    "else:\n",
    "    project_root = current_dir\n",
    "\n",
    "src_path = os.path.join(project_root, 'src')\n",
    "if src_path not in sys.path:\n",
    "    sys.path.insert(0, src_path)\n",
    "\n",
    "print(f\"📂 Project root: {project_root}\")\n",
    "print(f\"🔧 Source path: {src_path}\")\n",
    "\n",
    "# Import the prediction widget from utils\n",
    "try:\n",
    "    from utils.prediction_widget import display_prediction_widget, create_simple_prediction_form\n",
    "    print(\"✅ Successfully imported prediction_widget\")\n",
    "except ImportError as e:\n",
    "    print(f\"❌ Failed to import prediction_widget: {e}\")\n",
    "    print(\"💡 Make sure the src/utils/prediction_widget.py file exists\")\n",
    "    raise\n",
    "\n",
    "# Display the interactive widget (if model is available)\n",
    "print(\"\\n🎯 LOADING INTERACTIVE PREDICTION INTERFACE\")\n",
    "print(\"-\" * 45)\n",
    "\n",
    "if 'model_results' in globals():\n",
    "    print(\"✅ XGBoost model found - Creating interactive widget...\")\n",
    "    \n",
    "    # Create and display the widget using the utils function\n",
    "    try:\n",
    "        widget = display_prediction_widget(model_results)\n",
    "        if widget:\n",
    "            print(\"\\n🎛️ WIDGET FEATURES:\")\n",
    "            print(\"-\" * 20)\n",
    "            print(\"• 💰 Market data input fields\")\n",
    "            print(\"• 📋 Quick preset scenarios (Bullish/Bearish/Neutral)\")\n",
    "            print(\"• 🔮 One-click prediction button\")\n",
    "            print(\"• 📊 Real-time results with market signals\")\n",
    "            print(\"• 🎯 Confidence indicators and trading insights\")\n",
    "            print(\"\\n💡 Use the interface above to make predictions!\")\n",
    "        else:\n",
    "            print(\"⚠️ Widget creation failed\")\n",
    "    except Exception as e:\n",
    "        print(f\"❌ Error creating widget: {str(e)}\")\n",
    "        print(\"💡 Falling back to simple form interface...\")\n",
    "        \n",
    "        # Fallback to simple form\n",
    "        try:\n",
    "            simple_form = create_simple_prediction_form(model_results)\n",
    "            print(\"✅ Simple prediction form available\")\n",
    "            print(\"💡 Call simple_form() to use text-based interface\")\n",
    "        except:\n",
    "            print(\"❌ Both widget and form creation failed\")\n",
    "            \n",
    "else:\n",
    "    print(\"⚠️ XGBoost model not available yet\")\n",
    "    print(\"💡 Please run the XGBoost training cells first\")\n",
    "    print(\"🔧 Then run this cell again to load the widget\")\n",
    "    \n",
    "    # Show preview of what will be available\n",
    "    print(f\"\\n📋 WIDGET PREVIEW (Available after model training):\")\n",
    "    print(\"-\" * 50)\n",
    "    print(\"🎛️ Interactive controls for:\")\n",
    "    print(\"• 💰 Current Bank Nifty spot price\")\n",
    "    print(\"• 📈 Call options (Volume, OI, LTP, ATM)\")\n",
    "    print(\"• 📉 Put options (Volume, OI, LTP, ATM)\")\n",
    "    print(\"• 🔮 Instant prediction button\")\n",
    "    print(\"• 📋 Preset scenarios for quick testing\")\n",
    "\n",
    "print(f\"\\n🎯 USAGE INSTRUCTIONS\")\n",
    "print(\"-\" * 20)\n",
    "print(\"1. 🚀 Train the XGBoost model first (run previous cells)\")\n",
    "print(\"2. 🔄 Re-run this cell to load the widget\")\n",
    "print(\"3. 🎛️ Use the interactive interface above\")\n",
    "print(\"4. 🔮 Click 'Make Prediction' for instant results\")\n",
    "\n",
    "print(f\"\\n💡 FALLBACK OPTIONS:\")\n",
    "print(\"• display_prediction_widget(model_results) - Main widget\")\n",
    "print(\"• create_simple_prediction_form(model_results) - Text form\")\n",
    "\n",
    "print(f\"\\n✅ Prediction widget utilities loaded from utils module!\")"
   ]
  },
  {
   "cell_type": "code",
   "execution_count": null,
   "id": "7822437e",
   "metadata": {},
   "outputs": [
    {
     "name": "stdout",
     "output_type": "stream",
     "text": [
      "Bank Nifty Option Chain (Zerodha Kite):\n"
     ]
    },
    {
     "data": {
      "text/html": [
       "<div>\n",
       "<style scoped>\n",
       "    .dataframe tbody tr th:only-of-type {\n",
       "        vertical-align: middle;\n",
       "    }\n",
       "\n",
       "    .dataframe tbody tr th {\n",
       "        vertical-align: top;\n",
       "    }\n",
       "\n",
       "    .dataframe thead th {\n",
       "        text-align: right;\n",
       "    }\n",
       "</style>\n",
       "<table border=\"1\" class=\"dataframe\">\n",
       "  <thead>\n",
       "    <tr style=\"text-align: right;\">\n",
       "      <th></th>\n",
       "      <th>tradingsymbol</th>\n",
       "      <th>strike</th>\n",
       "      <th>expiry</th>\n",
       "      <th>instrument_type</th>\n",
       "      <th>lot_size</th>\n",
       "      <th>tick_size</th>\n",
       "    </tr>\n",
       "  </thead>\n",
       "  <tbody>\n",
       "    <tr>\n",
       "      <th>0</th>\n",
       "      <td>BANKNIFTY25JUL56500CE</td>\n",
       "      <td>56500.0</td>\n",
       "      <td>2025-07-31</td>\n",
       "      <td>CE</td>\n",
       "      <td>35</td>\n",
       "      <td>0.05</td>\n",
       "    </tr>\n",
       "    <tr>\n",
       "      <th>1</th>\n",
       "      <td>BANKNIFTY25JUL56500PE</td>\n",
       "      <td>56500.0</td>\n",
       "      <td>2025-07-31</td>\n",
       "      <td>PE</td>\n",
       "      <td>35</td>\n",
       "      <td>0.05</td>\n",
       "    </tr>\n",
       "    <tr>\n",
       "      <th>2</th>\n",
       "      <td>BANKNIFTY25JUL56600CE</td>\n",
       "      <td>56600.0</td>\n",
       "      <td>2025-07-31</td>\n",
       "      <td>CE</td>\n",
       "      <td>35</td>\n",
       "      <td>0.05</td>\n",
       "    </tr>\n",
       "    <tr>\n",
       "      <th>3</th>\n",
       "      <td>BANKNIFTY25JUL56600PE</td>\n",
       "      <td>56600.0</td>\n",
       "      <td>2025-07-31</td>\n",
       "      <td>PE</td>\n",
       "      <td>35</td>\n",
       "      <td>0.05</td>\n",
       "    </tr>\n",
       "    <tr>\n",
       "      <th>4</th>\n",
       "      <td>BANKNIFTY25JUL56400CE</td>\n",
       "      <td>56400.0</td>\n",
       "      <td>2025-07-31</td>\n",
       "      <td>CE</td>\n",
       "      <td>35</td>\n",
       "      <td>0.05</td>\n",
       "    </tr>\n",
       "    <tr>\n",
       "      <th>5</th>\n",
       "      <td>BANKNIFTY25JUL56400PE</td>\n",
       "      <td>56400.0</td>\n",
       "      <td>2025-07-31</td>\n",
       "      <td>PE</td>\n",
       "      <td>35</td>\n",
       "      <td>0.05</td>\n",
       "    </tr>\n",
       "    <tr>\n",
       "      <th>6</th>\n",
       "      <td>BANKNIFTY25JUL56700CE</td>\n",
       "      <td>56700.0</td>\n",
       "      <td>2025-07-31</td>\n",
       "      <td>CE</td>\n",
       "      <td>35</td>\n",
       "      <td>0.05</td>\n",
       "    </tr>\n",
       "    <tr>\n",
       "      <th>7</th>\n",
       "      <td>BANKNIFTY25JUL56700PE</td>\n",
       "      <td>56700.0</td>\n",
       "      <td>2025-07-31</td>\n",
       "      <td>PE</td>\n",
       "      <td>35</td>\n",
       "      <td>0.05</td>\n",
       "    </tr>\n",
       "    <tr>\n",
       "      <th>8</th>\n",
       "      <td>BANKNIFTY25JUL56300CE</td>\n",
       "      <td>56300.0</td>\n",
       "      <td>2025-07-31</td>\n",
       "      <td>CE</td>\n",
       "      <td>35</td>\n",
       "      <td>0.05</td>\n",
       "    </tr>\n",
       "    <tr>\n",
       "      <th>9</th>\n",
       "      <td>BANKNIFTY25JUL56300PE</td>\n",
       "      <td>56300.0</td>\n",
       "      <td>2025-07-31</td>\n",
       "      <td>PE</td>\n",
       "      <td>35</td>\n",
       "      <td>0.05</td>\n",
       "    </tr>\n",
       "    <tr>\n",
       "      <th>10</th>\n",
       "      <td>BANKNIFTY25JUL56800CE</td>\n",
       "      <td>56800.0</td>\n",
       "      <td>2025-07-31</td>\n",
       "      <td>CE</td>\n",
       "      <td>35</td>\n",
       "      <td>0.05</td>\n",
       "    </tr>\n",
       "    <tr>\n",
       "      <th>11</th>\n",
       "      <td>BANKNIFTY25JUL56800PE</td>\n",
       "      <td>56800.0</td>\n",
       "      <td>2025-07-31</td>\n",
       "      <td>PE</td>\n",
       "      <td>35</td>\n",
       "      <td>0.05</td>\n",
       "    </tr>\n",
       "    <tr>\n",
       "      <th>12</th>\n",
       "      <td>BANKNIFTY25JUL56200CE</td>\n",
       "      <td>56200.0</td>\n",
       "      <td>2025-07-31</td>\n",
       "      <td>CE</td>\n",
       "      <td>35</td>\n",
       "      <td>0.05</td>\n",
       "    </tr>\n",
       "    <tr>\n",
       "      <th>13</th>\n",
       "      <td>BANKNIFTY25JUL56200PE</td>\n",
       "      <td>56200.0</td>\n",
       "      <td>2025-07-31</td>\n",
       "      <td>PE</td>\n",
       "      <td>35</td>\n",
       "      <td>0.05</td>\n",
       "    </tr>\n",
       "    <tr>\n",
       "      <th>14</th>\n",
       "      <td>BANKNIFTY25JUL56900CE</td>\n",
       "      <td>56900.0</td>\n",
       "      <td>2025-07-31</td>\n",
       "      <td>CE</td>\n",
       "      <td>35</td>\n",
       "      <td>0.05</td>\n",
       "    </tr>\n",
       "    <tr>\n",
       "      <th>15</th>\n",
       "      <td>BANKNIFTY25JUL56900PE</td>\n",
       "      <td>56900.0</td>\n",
       "      <td>2025-07-31</td>\n",
       "      <td>PE</td>\n",
       "      <td>35</td>\n",
       "      <td>0.05</td>\n",
       "    </tr>\n",
       "    <tr>\n",
       "      <th>16</th>\n",
       "      <td>BANKNIFTY25JUL56100CE</td>\n",
       "      <td>56100.0</td>\n",
       "      <td>2025-07-31</td>\n",
       "      <td>CE</td>\n",
       "      <td>35</td>\n",
       "      <td>0.05</td>\n",
       "    </tr>\n",
       "    <tr>\n",
       "      <th>17</th>\n",
       "      <td>BANKNIFTY25JUL56100PE</td>\n",
       "      <td>56100.0</td>\n",
       "      <td>2025-07-31</td>\n",
       "      <td>PE</td>\n",
       "      <td>35</td>\n",
       "      <td>0.05</td>\n",
       "    </tr>\n",
       "    <tr>\n",
       "      <th>18</th>\n",
       "      <td>BANKNIFTY25JUL57000CE</td>\n",
       "      <td>57000.0</td>\n",
       "      <td>2025-07-31</td>\n",
       "      <td>CE</td>\n",
       "      <td>35</td>\n",
       "      <td>0.05</td>\n",
       "    </tr>\n",
       "    <tr>\n",
       "      <th>19</th>\n",
       "      <td>BANKNIFTY25JUL57000PE</td>\n",
       "      <td>57000.0</td>\n",
       "      <td>2025-07-31</td>\n",
       "      <td>PE</td>\n",
       "      <td>35</td>\n",
       "      <td>0.05</td>\n",
       "    </tr>\n",
       "  </tbody>\n",
       "</table>\n",
       "</div>"
      ],
      "text/plain": [
       "            tradingsymbol   strike      expiry instrument_type  lot_size  \\\n",
       "0   BANKNIFTY25JUL56500CE  56500.0  2025-07-31              CE        35   \n",
       "1   BANKNIFTY25JUL56500PE  56500.0  2025-07-31              PE        35   \n",
       "2   BANKNIFTY25JUL56600CE  56600.0  2025-07-31              CE        35   \n",
       "3   BANKNIFTY25JUL56600PE  56600.0  2025-07-31              PE        35   \n",
       "4   BANKNIFTY25JUL56400CE  56400.0  2025-07-31              CE        35   \n",
       "5   BANKNIFTY25JUL56400PE  56400.0  2025-07-31              PE        35   \n",
       "6   BANKNIFTY25JUL56700CE  56700.0  2025-07-31              CE        35   \n",
       "7   BANKNIFTY25JUL56700PE  56700.0  2025-07-31              PE        35   \n",
       "8   BANKNIFTY25JUL56300CE  56300.0  2025-07-31              CE        35   \n",
       "9   BANKNIFTY25JUL56300PE  56300.0  2025-07-31              PE        35   \n",
       "10  BANKNIFTY25JUL56800CE  56800.0  2025-07-31              CE        35   \n",
       "11  BANKNIFTY25JUL56800PE  56800.0  2025-07-31              PE        35   \n",
       "12  BANKNIFTY25JUL56200CE  56200.0  2025-07-31              CE        35   \n",
       "13  BANKNIFTY25JUL56200PE  56200.0  2025-07-31              PE        35   \n",
       "14  BANKNIFTY25JUL56900CE  56900.0  2025-07-31              CE        35   \n",
       "15  BANKNIFTY25JUL56900PE  56900.0  2025-07-31              PE        35   \n",
       "16  BANKNIFTY25JUL56100CE  56100.0  2025-07-31              CE        35   \n",
       "17  BANKNIFTY25JUL56100PE  56100.0  2025-07-31              PE        35   \n",
       "18  BANKNIFTY25JUL57000CE  57000.0  2025-07-31              CE        35   \n",
       "19  BANKNIFTY25JUL57000PE  57000.0  2025-07-31              PE        35   \n",
       "\n",
       "    tick_size  \n",
       "0        0.05  \n",
       "1        0.05  \n",
       "2        0.05  \n",
       "3        0.05  \n",
       "4        0.05  \n",
       "5        0.05  \n",
       "6        0.05  \n",
       "7        0.05  \n",
       "8        0.05  \n",
       "9        0.05  \n",
       "10       0.05  \n",
       "11       0.05  \n",
       "12       0.05  \n",
       "13       0.05  \n",
       "14       0.05  \n",
       "15       0.05  \n",
       "16       0.05  \n",
       "17       0.05  \n",
       "18       0.05  \n",
       "19       0.05  "
      ]
     },
     "metadata": {},
     "output_type": "display_data"
    }
   ],
   "source": [
    "#!pip install kiteconnect\n",
    "from kiteconnect import KiteConnect\n",
    "import pandas as pd\n",
    "import os\n",
    "\n",
    "# Load API key and access token from environment variables for security\n",
    "api_key = \"v2qa0jwrkw1l7489\"\n",
    "access_token = \"17b9qraamiojz39sj7xa0hkaoqctf7fu\"\n",
    "\n",
    "kite = KiteConnect(api_key=api_key)\n",
    "kite.set_access_token(access_token)\n",
    "\n",
    "# Example: Fetch option chain for Bank Nifty (replace with your instrument_token if needed)\n",
    "# Get instruments list and filter for Bank Nifty options\n",
    "instruments = kite.instruments(exchange=\"NFO\")\n",
    "banknifty_options = [inst for inst in instruments if inst['name'] == 'BANKNIFTY' and inst['segment'] == 'NFO-OPT']\n",
    "\n",
    "# Create DataFrame for tabular display\n",
    "option_chain_df = pd.DataFrame(banknifty_options)\n",
    "\n",
    "# Display relevant columns\n",
    "display_columns = ['tradingsymbol', 'strike', 'expiry', 'instrument_type', 'lot_size', 'tick_size']\n",
    "print(\"Bank Nifty Option Chain (Zerodha Kite):\")\n",
    "display(option_chain_df[display_columns].head(20))"
   ]
  },
  {
   "cell_type": "code",
   "execution_count": null,
   "id": "31cb2c78",
   "metadata": {},
   "outputs": [
    {
     "name": "stdout",
     "output_type": "stream",
     "text": [
      "🚀 REAL-TIME BANK NIFTY PREDICTION ENGINE\n",
      "==================================================\n",
      "\n",
      "🎛️ INTERACTIVE PREDICTION INTERFACE\n",
      "----------------------------------------\n"
     ]
    },
    {
     "data": {
      "application/vnd.jupyter.widget-view+json": {
       "model_id": "313ff19bf3a7430ea2bed653faffdc6a",
       "version_major": 2,
       "version_minor": 0
      },
      "text/plain": [
       "VBox(children=(VBox(children=(HTML(value='<h3>🚀 Real-Time Prediction Controls</h3>'), HBox(children=(Button(bu…"
      ]
     },
     "metadata": {},
     "output_type": "display_data"
    },
    {
     "name": "stdout",
     "output_type": "stream",
     "text": [
      "✅ Interactive interface loaded successfully!\n",
      "💡 Use the buttons above to start predictions\n",
      "\n",
      "🚀 RUNNING INITIAL PREDICTION...\n",
      "🕐 14:00:34 - Starting live prediction cycle...\n",
      "--------------------------------------------------\n"
     ]
    },
    {
     "ename": "TypeError",
     "evalue": "make_live_prediction() got an unexpected keyword argument 'use_previous_day_data'",
     "output_type": "error",
     "traceback": [
      "\u001b[31m---------------------------------------------------------------------------\u001b[39m",
      "\u001b[31mTypeError\u001b[39m                                 Traceback (most recent call last)",
      "\u001b[36mCell\u001b[39m\u001b[36m \u001b[39m\u001b[32mIn[17]\u001b[39m\u001b[32m, line 305\u001b[39m\n\u001b[32m    303\u001b[39m \u001b[38;5;28;01mif\u001b[39;00m \u001b[33m'\u001b[39m\u001b[33mmodel_results\u001b[39m\u001b[33m'\u001b[39m \u001b[38;5;129;01min\u001b[39;00m \u001b[38;5;28mglobals\u001b[39m() \u001b[38;5;129;01mand\u001b[39;00m kite \u001b[38;5;129;01mis\u001b[39;00m \u001b[38;5;129;01mnot\u001b[39;00m \u001b[38;5;28;01mNone\u001b[39;00m:\n\u001b[32m    304\u001b[39m     \u001b[38;5;28mprint\u001b[39m(\u001b[33mf\u001b[39m\u001b[33m\"\u001b[39m\u001b[38;5;130;01m\\n\u001b[39;00m\u001b[33m🚀 RUNNING INITIAL PREDICTION...\u001b[39m\u001b[33m\"\u001b[39m)\n\u001b[32m--> \u001b[39m\u001b[32m305\u001b[39m     initial_result = \u001b[43mrun_live_prediction_cycle\u001b[49m\u001b[43m(\u001b[49m\u001b[43m)\u001b[49m\n\u001b[32m    307\u001b[39m     \u001b[38;5;28;01mif\u001b[39;00m initial_result:\n\u001b[32m    308\u001b[39m         \u001b[38;5;28mprint\u001b[39m(\u001b[33mf\u001b[39m\u001b[33m\"\u001b[39m\u001b[38;5;130;01m\\n\u001b[39;00m\u001b[33m✅ Initial prediction completed successfully!\u001b[39m\u001b[33m\"\u001b[39m)\n",
      "\u001b[36mCell\u001b[39m\u001b[36m \u001b[39m\u001b[32mIn[17]\u001b[39m\u001b[32m, line 23\u001b[39m, in \u001b[36mrun_live_prediction_cycle\u001b[39m\u001b[34m()\u001b[39m\n\u001b[32m     20\u001b[39m \u001b[38;5;28mprint\u001b[39m(\u001b[33m\"\u001b[39m\u001b[33m-\u001b[39m\u001b[33m\"\u001b[39m * \u001b[32m50\u001b[39m)\n\u001b[32m     22\u001b[39m \u001b[38;5;66;03m# Make live prediction\u001b[39;00m\n\u001b[32m---> \u001b[39m\u001b[32m23\u001b[39m result = \u001b[43mmake_live_prediction\u001b[49m\u001b[43m(\u001b[49m\u001b[43muse_previous_day_data\u001b[49m\u001b[43m=\u001b[49m\u001b[38;5;28;43;01mTrue\u001b[39;49;00m\u001b[43m)\u001b[49m\n\u001b[32m     25\u001b[39m \u001b[38;5;28;01mif\u001b[39;00m result[\u001b[33m'\u001b[39m\u001b[33msuccess\u001b[39m\u001b[33m'\u001b[39m]:\n\u001b[32m     26\u001b[39m     current_spot = result[\u001b[33m'\u001b[39m\u001b[33mcurrent_spot\u001b[39m\u001b[33m'\u001b[39m]\n",
      "\u001b[31mTypeError\u001b[39m: make_live_prediction() got an unexpected keyword argument 'use_previous_day_data'"
     ]
    }
   ],
   "source": [
    "# 🚀 REAL-TIME PREDICTION ENGINE WITH KITECONNECT\n",
    "# Complete real-time prediction system using live market data\n",
    "\n",
    "import time\n",
    "from datetime import datetime\n",
    "import pandas as pd\n",
    "import numpy as np\n",
    "\n",
    "print(\"🚀 REAL-TIME BANK NIFTY PREDICTION ENGINE\")\n",
    "print(\"=\" * 50)\n",
    "\n",
    "def run_live_prediction_cycle():\n",
    "    \"\"\"Run a single live prediction cycle\"\"\"\n",
    "    \n",
    "    if 'model_results' not in globals():\n",
    "        print(\"❌ XGBoost model not available. Please run the training cells first.\")\n",
    "        return None\n",
    "    \n",
    "    print(f\"🕐 {datetime.now().strftime('%H:%M:%S')} - Starting live prediction cycle...\")\n",
    "    print(\"-\" * 50)\n",
    "    \n",
    "    # Make live prediction\n",
    "    result = make_live_prediction(use_previous_day_data=True)\n",
    "    \n",
    "    if result['success']:\n",
    "        current_spot = result['current_spot']\n",
    "        predicted_spot = result['predicted_spot']\n",
    "        difference = result['difference']\n",
    "        difference_pct = result['difference_pct']\n",
    "        features = result['features_used']\n",
    "        \n",
    "        print(f\"📊 LIVE PREDICTION RESULTS\")\n",
    "        print(\"-\" * 30)\n",
    "        print(f\"💰 Current Spot Price: ₹{current_spot:,.2f}\")\n",
    "        print(f\"🔮 Predicted Price:    ₹{predicted_spot:,.2f}\")\n",
    "        print(f\"📈 Difference:         ₹{difference:+,.2f} ({difference_pct:+.2f}%)\")\n",
    "        \n",
    "        # Market direction indicator\n",
    "        if difference > 0:\n",
    "            direction = \"📈 BULLISH\"\n",
    "            color = \"🟢\"\n",
    "        elif difference < 0:\n",
    "            direction = \"📉 BEARISH\" \n",
    "            color = \"🔴\"\n",
    "        else:\n",
    "            direction = \"⚖️ NEUTRAL\"\n",
    "            color = \"🟡\"\n",
    "        \n",
    "        print(f\"🎯 Market Direction:   {color} {direction}\")\n",
    "        \n",
    "        # Confidence indicator based on prediction magnitude\n",
    "        confidence_pct = min(abs(difference_pct) * 10, 100)  # Scale confidence\n",
    "        confidence_bars = \"█\" * int(confidence_pct / 10)\n",
    "        print(f\"📊 Confidence:        {confidence_bars} {confidence_pct:.0f}%\")\n",
    "        \n",
    "        # Key market indicators\n",
    "        print(f\"\\n📋 KEY MARKET INDICATORS\")\n",
    "        print(\"-\" * 25)\n",
    "        \n",
    "        # Put-Call Ratio\n",
    "        pcr_volume = features.get('pcr_volume', 0)\n",
    "        pcr_oi = features.get('pcr_oi', 0)\n",
    "        \n",
    "        print(f\"🔄 PCR (Volume):      {pcr_volume:.3f}\")\n",
    "        print(f\"🔄 PCR (OI):          {pcr_oi:.3f}\")\n",
    "        \n",
    "        if pcr_volume > 1.2:\n",
    "            pcr_signal = \"📉 Bearish (High PCR)\"\n",
    "        elif pcr_volume < 0.8:\n",
    "            pcr_signal = \"📈 Bullish (Low PCR)\"\n",
    "        else:\n",
    "            pcr_signal = \"⚖️ Neutral PCR\"\n",
    "        \n",
    "        print(f\"🎯 PCR Signal:        {pcr_signal}\")\n",
    "        \n",
    "        # Volume and OI indicators\n",
    "        total_volume = features.get('total_volume', 0)\n",
    "        total_oi = features.get('total_oi', 0)\n",
    "        \n",
    "        print(f\"📊 Total Volume:      {total_volume:,.0f}\")\n",
    "        print(f\"📊 Total OI:          {total_oi:,.0f}\")\n",
    "        \n",
    "        # ATM options activity\n",
    "        call_atm_ltp = features.get('call_atm_ltp', 0)\n",
    "        put_atm_ltp = features.get('put_atm_ltp', 0)\n",
    "        \n",
    "        print(f\"💰 ATM Call LTP:      ₹{call_atm_ltp:.2f}\")\n",
    "        print(f\"💰 ATM Put LTP:       ₹{put_atm_ltp:.2f}\")\n",
    "        \n",
    "        # Price momentum (if available)\n",
    "        price_change_pct = features.get('price_change_pct', 0)\n",
    "        if price_change_pct != 0:\n",
    "            print(f\"📈 Price Momentum:    {price_change_pct:+.2f}%\")\n",
    "        \n",
    "        # Model feature importance insights\n",
    "        if 'model_results' in globals():\n",
    "            top_features = model_results['feature_importance'].head(3)\n",
    "            print(f\"\\n🔍 TOP DRIVING FACTORS\")\n",
    "            print(\"-\" * 22)\n",
    "            \n",
    "            for i, (_, row) in enumerate(top_features.iterrows(), 1):\n",
    "                feature_name = row['feature']\n",
    "                feature_value = features.get(feature_name, 0)\n",
    "                importance = row['importance']\n",
    "                \n",
    "                # Format feature name for display\n",
    "                display_name = feature_name.replace('_', ' ').title()\n",
    "                if len(display_name) > 20:\n",
    "                    display_name = display_name[:17] + \"...\"\n",
    "                \n",
    "                print(f\"{i}. {display_name:<20}: {feature_value:>8.2f}\")\n",
    "        \n",
    "        # Trading recommendation\n",
    "        print(f\"\\n💡 TRADING INSIGHTS\")\n",
    "        print(\"-\" * 20)\n",
    "        \n",
    "        if abs(difference_pct) > 0.5:\n",
    "            if difference > 0:\n",
    "                print(\"🟢 Model suggests upward movement\")\n",
    "                print(\"💡 Consider CALL options or long positions\")\n",
    "            else:\n",
    "                print(\"🔴 Model suggests downward movement\") \n",
    "                print(\"💡 Consider PUT options or short positions\")\n",
    "        else:\n",
    "            print(\"🟡 Model suggests sideways movement\")\n",
    "            print(\"💡 Consider range-bound strategies\")\n",
    "        \n",
    "        # Risk disclaimer\n",
    "        print(f\"\\n⚠️  RISK DISCLAIMER\")\n",
    "        print(\"-\" * 15)\n",
    "        print(\"📊 This is a predictive model, not financial advice\")\n",
    "        print(\"💰 Always use proper risk management\")\n",
    "        print(\"🎯 Combine with other technical/fundamental analysis\")\n",
    "        \n",
    "        return result\n",
    "    \n",
    "    else:\n",
    "        print(f\"❌ Prediction failed: {result['error']}\")\n",
    "        return None\n",
    "\n",
    "def run_continuous_predictions(cycles=3, interval_seconds=30):\n",
    "    \"\"\"\n",
    "    Run multiple prediction cycles with intervals\n",
    "    \n",
    "    Args:\n",
    "        cycles: Number of prediction cycles to run\n",
    "        interval_seconds: Seconds between predictions\n",
    "    \"\"\"\n",
    "    print(f\"🔄 STARTING CONTINUOUS PREDICTION MODE\")\n",
    "    print(f\"📊 Cycles: {cycles} | Interval: {interval_seconds}s\")\n",
    "    print(\"=\" * 50)\n",
    "    \n",
    "    results = []\n",
    "    \n",
    "    for cycle in range(1, cycles + 1):\n",
    "        print(f\"\\n🔄 CYCLE {cycle}/{cycles}\")\n",
    "        print(\"=\" * 20)\n",
    "        \n",
    "        result = run_live_prediction_cycle()\n",
    "        \n",
    "        if result:\n",
    "            results.append({\n",
    "                'cycle': cycle,\n",
    "                'timestamp': result['timestamp'],\n",
    "                'current_spot': result['current_spot'],\n",
    "                'predicted_spot': result['predicted_spot'],\n",
    "                'difference': result['difference'],\n",
    "                'difference_pct': result['difference_pct'],\n",
    "                'pcr_volume': result['features_used'].get('pcr_volume', 0),\n",
    "                'total_volume': result['features_used'].get('total_volume', 0)\n",
    "            })\n",
    "        \n",
    "        # Wait before next cycle (except for last cycle)\n",
    "        if cycle < cycles:\n",
    "            print(f\"\\n⏳ Waiting {interval_seconds} seconds for next cycle...\")\n",
    "            for remaining in range(interval_seconds, 0, -1):\n",
    "                print(f\"\\r⏱️  Next prediction in: {remaining:2d}s\", end=\"\", flush=True)\n",
    "                time.sleep(1)\n",
    "            print()  # New line after countdown\n",
    "    \n",
    "    # Summary of all cycles\n",
    "    if results:\n",
    "        print(f\"\\n📊 PREDICTION CYCLES SUMMARY\")\n",
    "        print(\"=\" * 35)\n",
    "        \n",
    "        results_df = pd.DataFrame(results)\n",
    "        \n",
    "        print(f\"✅ Successful predictions: {len(results)}/{cycles}\")\n",
    "        print(f\"💰 Average predicted difference: ₹{results_df['difference'].mean():+.2f}\")\n",
    "        print(f\"📊 Average predicted change: {results_df['difference_pct'].mean():+.2f}%\")\n",
    "        print(f\"🔄 Average PCR: {results_df['pcr_volume'].mean():.3f}\")\n",
    "        \n",
    "        # Show trend analysis\n",
    "        if len(results) > 1:\n",
    "            first_prediction = results_df.iloc[0]['predicted_spot']\n",
    "            last_prediction = results_df.iloc[-1]['predicted_spot']\n",
    "            trend = last_prediction - first_prediction\n",
    "            trend_pct = (trend / first_prediction) * 100\n",
    "            \n",
    "            print(f\"📈 Prediction trend: ₹{trend:+.2f} ({trend_pct:+.2f}%)\")\n",
    "            \n",
    "            if trend > 0:\n",
    "                print(\"🟢 Overall bullish trend detected\")\n",
    "            elif trend < 0:\n",
    "                print(\"🔴 Overall bearish trend detected\")\n",
    "            else:\n",
    "                print(\"🟡 Sideways trend detected\")\n",
    "        \n",
    "        # Display results table\n",
    "        print(f\"\\n📋 DETAILED RESULTS\")\n",
    "        print(\"-\" * 20)\n",
    "        display_df = results_df[['cycle', 'timestamp', 'current_spot', 'predicted_spot', 'difference_pct', 'pcr_volume']].copy()\n",
    "        display_df.columns = ['Cycle', 'Time', 'Current ₹', 'Predicted ₹', 'Change %', 'PCR']\n",
    "        display_df['Time'] = display_df['Time'].dt.strftime('%H:%M:%S')\n",
    "        display_df['Current ₹'] = display_df['Current ₹'].round(2)\n",
    "        display_df['Predicted ₹'] = display_df['Predicted ₹'].round(2)\n",
    "        display_df['Change %'] = display_df['Change %'].round(2)\n",
    "        display_df['PCR'] = display_df['PCR'].round(3)\n",
    "        \n",
    "        display(display_df)\n",
    "    \n",
    "    return results\n",
    "\n",
    "# Interactive Interface\n",
    "print(f\"\\n🎛️ INTERACTIVE PREDICTION INTERFACE\")\n",
    "print(\"-\" * 40)\n",
    "\n",
    "try:\n",
    "    import ipywidgets as widgets\n",
    "    from IPython.display import display, clear_output\n",
    "    \n",
    "    # Create control widgets\n",
    "    single_prediction_button = widgets.Button(\n",
    "        description='🔮 Single Prediction',\n",
    "        button_style='info',\n",
    "        layout={'width': '180px'}\n",
    "    )\n",
    "    \n",
    "    continuous_button = widgets.Button(\n",
    "        description='🔄 Start Continuous',\n",
    "        button_style='success',\n",
    "        layout={'width': '180px'}\n",
    "    )\n",
    "    \n",
    "    cycles_slider = widgets.IntSlider(\n",
    "        value=3,\n",
    "        min=1,\n",
    "        max=10,\n",
    "        description='Cycles:',\n",
    "        style={'description_width': 'initial'}\n",
    "    )\n",
    "    \n",
    "    interval_slider = widgets.IntSlider(\n",
    "        value=30,\n",
    "        min=10,\n",
    "        max=120,\n",
    "        step=10,\n",
    "        description='Interval (s):',\n",
    "        style={'description_width': 'initial'}\n",
    "    )\n",
    "    \n",
    "    output_widget = widgets.Output()\n",
    "    \n",
    "    def on_single_prediction_click(b):\n",
    "        with output_widget:\n",
    "            clear_output(wait=True)\n",
    "            run_live_prediction_cycle()\n",
    "    \n",
    "    def on_continuous_click(b):\n",
    "        with output_widget:\n",
    "            clear_output(wait=True)\n",
    "            run_continuous_predictions(\n",
    "                cycles=cycles_slider.value,\n",
    "                interval_seconds=interval_slider.value\n",
    "            )\n",
    "    \n",
    "    single_prediction_button.on_click(on_single_prediction_click)\n",
    "    continuous_button.on_click(on_continuous_click)\n",
    "    \n",
    "    # Create interface layout\n",
    "    controls = widgets.VBox([\n",
    "        widgets.HTML(\"<h3>🚀 Real-Time Prediction Controls</h3>\"),\n",
    "        widgets.HBox([single_prediction_button, continuous_button]),\n",
    "        widgets.HBox([cycles_slider, interval_slider]),\n",
    "        widgets.HTML(\"<p><b>Instructions:</b></p><ul><li>🔮 <b>Single Prediction</b>: Run one prediction cycle</li><li>🔄 <b>Continuous</b>: Run multiple cycles with intervals</li><li>⚙️ Adjust cycles and interval as needed</li></ul>\")\n",
    "    ])\n",
    "    \n",
    "    interface = widgets.VBox([controls, output_widget])\n",
    "    display(interface)\n",
    "    \n",
    "    print(\"✅ Interactive interface loaded successfully!\")\n",
    "    print(\"💡 Use the buttons above to start predictions\")\n",
    "    \n",
    "except ImportError:\n",
    "    print(\"📝 Interactive interface requires ipywidgets\")\n",
    "    print(\"💡 Install with: pip install ipywidgets\")\n",
    "    print(\"\\n🔧 MANUAL USAGE:\")\n",
    "    print(\"-\" * 15)\n",
    "    print(\"• run_live_prediction_cycle() - Single prediction\")\n",
    "    print(\"• run_continuous_predictions(cycles=3, interval_seconds=30) - Multiple predictions\")\n",
    "\n",
    "# Automatic single prediction on load (if model is available)\n",
    "if 'model_results' in globals() and kite is not None:\n",
    "    print(f\"\\n🚀 RUNNING INITIAL PREDICTION...\")\n",
    "    initial_result = run_live_prediction_cycle()\n",
    "    \n",
    "    if initial_result:\n",
    "        print(f\"\\n✅ Initial prediction completed successfully!\")\n",
    "        print(f\"🎯 You can now use the interface above for more predictions\")\n",
    "    else:\n",
    "        print(f\"\\n⚠️ Initial prediction failed - please check your KiteConnect setup\")\n",
    "else:\n",
    "    if 'model_results' not in globals():\n",
    "        print(f\"\\n⚠️ XGBoost model not loaded. Please run the training cells first.\")\n",
    "    if kite is None:\n",
    "        print(f\"\\n⚠️ KiteConnect not initialized. Please check your API credentials.\")\n",
    "\n",
    "print(f\"\\n🎯 SYSTEM STATUS\")\n",
    "print(\"-\" * 15)\n",
    "print(f\"🤖 Model Ready: {'✅' if 'model_results' in globals() else '❌'}\")\n",
    "print(f\"📡 KiteConnect: {'✅' if kite is not None else '❌'}\")\n",
    "print(f\"🔮 Prediction Functions: ✅\")\n",
    "print(f\"💰 Ready for Trading: {'✅' if 'model_results' in globals() and kite is not None else '❌'}\")"
   ]
  },
  {
   "cell_type": "code",
   "execution_count": null,
   "id": "c4ae91e1",
   "metadata": {},
   "outputs": [],
   "source": [
    "# 💰 LIVE BANK NIFTY SPOT PRICE FETCHER\n",
    "# Simple function to fetch current Bank Nifty spot price from KiteConnect\n",
    "\n",
    "def fetch_live_spot_price():\n",
    "    \"\"\"\n",
    "    Fetch current Bank Nifty spot price using KiteConnect\n",
    "    Returns: dict with spot price data\n",
    "    \"\"\"\n",
    "    try:\n",
    "        # Get Bank Nifty index instruments\n",
    "        indices = kite.instruments(\"INDICES\")\n",
    "        banknifty_index = [inst for inst in indices if inst['name'] == 'BANKNIFTY']\n",
    "        \n",
    "        if not banknifty_index:\n",
    "            return {\"error\": \"Bank Nifty index not found\"}\n",
    "        \n",
    "        # Get the instrument token for Bank Nifty\n",
    "        banknifty_token = banknifty_index[0]['instrument_token']\n",
    "        \n",
    "        # Fetch live quote\n",
    "        quote = kite.quote([banknifty_token])\n",
    "        spot_data = quote[str(banknifty_token)]\n",
    "        \n",
    "        # Extract relevant spot price information\n",
    "        result = {\n",
    "            'symbol': 'BANKNIFTY',\n",
    "            'last_price': spot_data['last_price'],\n",
    "            'open': spot_data['ohlc']['open'],\n",
    "            'high': spot_data['ohlc']['high'],\n",
    "            'low': spot_data['ohlc']['low'],\n",
    "            'close': spot_data['ohlc']['close'],\n",
    "            'change': spot_data['net_change'],\n",
    "            'change_percent': (spot_data['net_change'] / spot_data['ohlc']['close']) * 100 if spot_data['ohlc']['close'] > 0 else 0,\n",
    "            'volume': spot_data.get('volume', 0),\n",
    "            'timestamp': pd.Timestamp.now(),\n",
    "            'instrument_token': banknifty_token\n",
    "        }\n",
    "        \n",
    "        return result\n",
    "        \n",
    "    except Exception as e:\n",
    "        return {\"error\": f\"Failed to fetch spot price: {str(e)}\"}\n",
    "\n",
    "def get_live_spot_and_options():\n",
    "    \"\"\"\n",
    "    Fetch both live spot price and options data together\n",
    "    Returns: dict with spot and options data\n",
    "    \"\"\"\n",
    "    try:\n",
    "        # Get live spot price\n",
    "        spot_result = fetch_live_spot_price()\n",
    "        \n",
    "        if 'error' in spot_result:\n",
    "            return spot_result\n",
    "        \n",
    "        spot_price = spot_result['last_price']\n",
    "        \n",
    "        # Get live options data around current spot\n",
    "        # Filter options for current expiry and nearby strikes\n",
    "        current_expiry_options = [opt for opt in banknifty_options \n",
    "                                if pd.to_datetime(opt['expiry']) == pd.to_datetime(banknifty_options[0]['expiry'])]\n",
    "        \n",
    "        # Filter options within ±500 points of spot price\n",
    "        nearby_options = [opt for opt in current_expiry_options \n",
    "                         if abs(opt['strike'] - spot_price) <= 500]\n",
    "        \n",
    "        if nearby_options:\n",
    "            # Get instrument tokens for nearby options\n",
    "            option_tokens = [opt['instrument_token'] for opt in nearby_options[:20]]  # Limit to 20 options\n",
    "            \n",
    "            # Fetch live quotes for options\n",
    "            option_quotes = kite.quote(option_tokens)\n",
    "            \n",
    "            # Process options data\n",
    "            calls_data = []\n",
    "            puts_data = []\n",
    "            \n",
    "            for opt in nearby_options[:20]:\n",
    "                token = str(opt['instrument_token'])\n",
    "                if token in option_quotes:\n",
    "                    quote_data = option_quotes[token]\n",
    "                    \n",
    "                    option_data = {\n",
    "                        'Strike Price': opt['strike'],\n",
    "                        'LTP': quote_data['last_price'],\n",
    "                        'Volume': quote_data.get('volume', 0),\n",
    "                        'OI': quote_data.get('oi', 0),\n",
    "                        'Bid': quote_data['depth']['buy'][0]['price'] if quote_data['depth']['buy'] else 0,\n",
    "                        'Ask': quote_data['depth']['sell'][0]['price'] if quote_data['depth']['sell'] else 0,\n",
    "                        'Change': quote_data['net_change'],\n",
    "                        'Symbol': opt['tradingsymbol']\n",
    "                    }\n",
    "                    \n",
    "                    if opt['instrument_type'] == 'CE':\n",
    "                        calls_data.append(option_data)\n",
    "                    elif opt['instrument_type'] == 'PE':\n",
    "                        puts_data.append(option_data)\n",
    "        \n",
    "        return {\n",
    "            'spot_data': spot_result,\n",
    "            'calls': pd.DataFrame(calls_data).sort_values('Strike Price') if calls_data else pd.DataFrame(),\n",
    "            'puts': pd.DataFrame(puts_data).sort_values('Strike Price') if puts_data else pd.DataFrame(),\n",
    "            'timestamp': pd.Timestamp.now()\n",
    "        }\n",
    "        \n",
    "    except Exception as e:\n",
    "        return {\"error\": f\"Failed to fetch live data: {str(e)}\"}\n",
    "\n",
    "# Example usage functions\n",
    "def show_live_spot():\n",
    "    \"\"\"Display current Bank Nifty spot price\"\"\"\n",
    "    spot_data = fetch_live_spot_price()\n",
    "    \n",
    "    if 'error' in spot_data:\n",
    "        print(f\"❌ Error: {spot_data['error']}\")\n",
    "        return\n",
    "    \n",
    "    print(f\"\\n💰 LIVE BANK NIFTY SPOT PRICE\")\n",
    "    print(\"-\" * 35)\n",
    "    print(f\"🏷️  Symbol: {spot_data['symbol']}\")\n",
    "    print(f\"💵 Last Price: ₹{spot_data['last_price']:,.2f}\")\n",
    "    print(f\"📈 Change: ₹{spot_data['change']:,.2f} ({spot_data['change_percent']:+.2f}%)\")\n",
    "    print(f\"📊 OHLC: ₹{spot_data['open']:,.0f} | ₹{spot_data['high']:,.0f} | ₹{spot_data['low']:,.0f} | ₹{spot_data['close']:,.0f}\")\n",
    "    print(f\"📦 Volume: {spot_data['volume']:,}\")\n",
    "    print(f\"⏰ Time: {spot_data['timestamp'].strftime('%H:%M:%S')}\")\n",
    "\n",
    "def show_live_data_summary():\n",
    "    \"\"\"Display live spot price and top options\"\"\"\n",
    "    live_data = get_live_spot_and_options()\n",
    "    \n",
    "    if 'error' in live_data:\n",
    "        print(f\"❌ Error: {live_data['error']}\")\n",
    "        return\n",
    "    \n",
    "    # Show spot price\n",
    "    spot = live_data['spot_data']\n",
    "    print(f\"\\n🎯 LIVE MARKET DATA SUMMARY\")\n",
    "    print(\"=\" * 40)\n",
    "    print(f\"💰 Bank Nifty: ₹{spot['last_price']:,.2f} ({spot['change_percent']:+.2f}%)\")\n",
    "    print(f\"⏰ Updated: {live_data['timestamp'].strftime('%H:%M:%S')}\")\n",
    "    \n",
    "    # Show top 5 calls and puts\n",
    "    if not live_data['calls'].empty:\n",
    "        print(f\"\\n📈 TOP CALL OPTIONS:\")\n",
    "        print(\"-\" * 25)\n",
    "        calls_display = live_data['calls'].head(5)[['Strike Price', 'LTP', 'Volume', 'OI']]\n",
    "        for _, row in calls_display.iterrows():\n",
    "            print(f\"   {row['Strike Price']:,.0f}CE: ₹{row['LTP']:,.2f} | Vol: {row['Volume']:,} | OI: {row['OI']:,}\")\n",
    "    \n",
    "    if not live_data['puts'].empty:\n",
    "        print(f\"\\n📉 TOP PUT OPTIONS:\")\n",
    "        print(\"-\" * 25)\n",
    "        puts_display = live_data['puts'].head(5)[['Strike Price', 'LTP', 'Volume', 'OI']]\n",
    "        for _, row in puts_display.iterrows():\n",
    "            print(f\"   {row['Strike Price']:,.0f}PE: ₹{row['LTP']:,.2f} | Vol: {row['Volume']:,} | OI: {row['OI']:,}\")\n",
    "\n",
    "# Make functions globally available\n",
    "globals()['fetch_live_spot_price'] = fetch_live_spot_price\n",
    "globals()['get_live_spot_and_options'] = get_live_spot_and_options\n",
    "globals()['show_live_spot'] = show_live_spot\n",
    "globals()['show_live_data_summary'] = show_live_data_summary\n",
    "\n",
    "print(\"\\n💰 LIVE SPOT PRICE FUNCTIONS LOADED!\")\n",
    "print(\"-\" * 40)\n",
    "print(\"Available functions:\")\n",
    "print(\"• fetch_live_spot_price() - Get raw spot price data\")\n",
    "print(\"• get_live_spot_and_options() - Get spot + options data\")\n",
    "print(\"• show_live_spot() - Display formatted spot price\")\n",
    "print(\"• show_live_data_summary() - Display spot + top options\")\n",
    "\n",
    "print(\"\\n💡 Quick Test:\")\n",
    "print(\"Run: show_live_spot() or show_live_data_summary()\")"
   ]
  }
 ],
 "metadata": {
  "kernelspec": {
   "display_name": "Python 3",
   "language": "python",
   "name": "python3"
  },
  "language_info": {
   "codemirror_mode": {
    "name": "ipython",
    "version": 3
   },
   "file_extension": ".py",
   "mimetype": "text/x-python",
   "name": "python",
   "nbconvert_exporter": "python",
   "pygments_lexer": "ipython3",
   "version": "3.13.5"
  }
 },
 "nbformat": 4,
 "nbformat_minor": 5
}
